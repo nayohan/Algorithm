{
 "cells": [
  {
   "cell_type": "code",
   "execution_count": 2,
   "id": "significant-brown",
   "metadata": {
    "ExecuteTime": {
     "end_time": "2021-03-06T12:26:25.840873Z",
     "start_time": "2021-03-06T12:26:25.818835Z"
    }
   },
   "outputs": [
    {
     "name": "stdout",
     "output_type": "stream",
     "text": [
      "나요한 사랑해\n"
     ]
    }
   ],
   "source": [
    "print(\"나요한 사랑해\")"
   ]
  },
  {
   "cell_type": "code",
   "execution_count": 3,
   "id": "forbidden-breeding",
   "metadata": {
    "ExecuteTime": {
     "end_time": "2021-03-06T12:27:19.516064Z",
     "start_time": "2021-03-06T12:27:19.494373Z"
    }
   },
   "outputs": [
    {
     "name": "stdout",
     "output_type": "stream",
     "text": [
      "8\n"
     ]
    }
   ],
   "source": [
    "a = 3+5\n",
    "print(a)"
   ]
  },
  {
   "cell_type": "code",
   "execution_count": 4,
   "id": "charming-myrtle",
   "metadata": {
    "ExecuteTime": {
     "end_time": "2021-03-06T12:32:54.706442Z",
     "start_time": "2021-03-06T12:32:54.692279Z"
    }
   },
   "outputs": [
    {
     "name": "stdout",
     "output_type": "stream",
     "text": [
      "요한\n",
      "요한\n",
      "요한\n"
     ]
    }
   ],
   "source": [
    "b=\"요한\"\n",
    "for i in range(3):\n",
    "    print(b)"
   ]
  },
  {
   "cell_type": "code",
   "execution_count": 7,
   "id": "italic-authentication",
   "metadata": {
    "ExecuteTime": {
     "end_time": "2021-03-06T12:36:19.187006Z",
     "start_time": "2021-03-06T12:36:19.161696Z"
    }
   },
   "outputs": [
    {
     "name": "stdout",
     "output_type": "stream",
     "text": [
      "요한\n",
      "나형\n"
     ]
    }
   ],
   "source": [
    "c=[\"요한\",\"나형\"]\n",
    "for i in range(2):\n",
    "    print(c[i])"
   ]
  },
  {
   "cell_type": "code",
   "execution_count": 8,
   "id": "tight-platinum",
   "metadata": {
    "ExecuteTime": {
     "end_time": "2021-03-06T12:39:06.371171Z",
     "start_time": "2021-03-06T12:39:06.359931Z"
    }
   },
   "outputs": [
    {
     "name": "stdout",
     "output_type": "stream",
     "text": [
      "요한\n",
      "나형\n"
     ]
    }
   ],
   "source": [
    "for i in c:\n",
    "    print(i)"
   ]
  },
  {
   "cell_type": "code",
   "execution_count": 9,
   "id": "japanese-bones",
   "metadata": {
    "ExecuteTime": {
     "end_time": "2021-03-06T12:43:43.251681Z",
     "start_time": "2021-03-06T12:43:43.223665Z"
    }
   },
   "outputs": [
    {
     "name": "stdout",
     "output_type": "stream",
     "text": [
      "0\n"
     ]
    }
   ],
   "source": [
    "d=\"요한\"\n",
    "if d==\"요한\":\n",
    "    print(0)\n",
    "else:\n",
    "    if d==\"나형\":\n",
    "        print(1)\n"
   ]
  },
  {
   "cell_type": "code",
   "execution_count": null,
   "id": "numerous-bonus",
   "metadata": {},
   "outputs": [],
   "source": []
  }
 ],
 "metadata": {
  "kernelspec": {
   "display_name": "Python 3",
   "language": "python",
   "name": "python3"
  },
  "language_info": {
   "codemirror_mode": {
    "name": "ipython",
    "version": 3
   },
   "file_extension": ".py",
   "mimetype": "text/x-python",
   "name": "python",
   "nbconvert_exporter": "python",
   "pygments_lexer": "ipython3",
   "version": "3.7.3"
  }
 },
 "nbformat": 4,
 "nbformat_minor": 5
}
