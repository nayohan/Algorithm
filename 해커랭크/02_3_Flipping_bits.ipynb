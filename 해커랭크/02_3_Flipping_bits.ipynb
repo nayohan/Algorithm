{
 "cells": [
  {
   "cell_type": "markdown",
   "id": "tribal-kingston",
   "metadata": {
    "ExecuteTime": {
     "end_time": "2021-11-09T08:37:47.316387Z",
     "start_time": "2021-11-09T08:37:47.275769Z"
    }
   },
   "source": [
    "https://www.hackerrank.com/challenges/three-month-preparation-kit-flipping-bits/problem"
   ]
  },
  {
   "cell_type": "code",
   "execution_count": null,
   "id": "organizational-chase",
   "metadata": {
    "ExecuteTime": {
     "end_time": "2021-11-15T04:10:52.922528Z",
     "start_time": "2021-11-15T04:10:44.954Z"
    }
   },
   "outputs": [],
   "source": [
    "input\n",
    "3 \n",
    "2147483647 \n",
    "1 \n",
    "0\n",
    "\n",
    "output\n",
    "2147483648 \n",
    "4294967294 \n",
    "4294967295"
   ]
  },
  {
   "cell_type": "code",
   "execution_count": 50,
   "id": "chinese-ottawa",
   "metadata": {
    "ExecuteTime": {
     "end_time": "2021-11-21T12:50:26.766874Z",
     "start_time": "2021-11-21T12:50:25.677648Z"
    },
    "scrolled": false
   },
   "outputs": [
    {
     "name": "stdout",
     "output_type": "stream",
     "text": [
      "1\n",
      "4\n",
      "4294967291\n"
     ]
    }
   ],
   "source": [
    "#!/bin/python3\n",
    "\n",
    "import math\n",
    "import os\n",
    "import random\n",
    "import re\n",
    "import sys\n",
    "\n",
    "#\n",
    "# Complete the 'flippingBits' function below.\n",
    "#\n",
    "# The function is expected to return a LONG_INTEGER.\n",
    "# The function accepts LONG_INTEGER n as parameter.\n",
    "#\n",
    "\n",
    "def dec2bin(n):\n",
    "    result = \"\"\n",
    "    while n != 0:\n",
    "        now = n % 2\n",
    "        n = n // 2\n",
    "        result += str(now)\n",
    "    #print(result)\n",
    "    apendix = (32 - len(result)) *\"0\"\n",
    "    return apendix + result[::-1]\n",
    "\n",
    "def bin2dec(n):\n",
    "    result = 0\n",
    "    #print(n[::-1])\n",
    "    for i, e in enumerate(n[::-1]):\n",
    "        if i == 0 and int(e) == 0:\n",
    "            pass\n",
    "        else:\n",
    "            result += pow((2*int(e)),i)\n",
    "        #print(i, e,result)\n",
    "        \n",
    "    return result\n",
    "\n",
    "def swap_binary(n):\n",
    "    if n==\"1\":\n",
    "        return \"0\"\n",
    "    else: \n",
    "        return \"1\"\n",
    "\n",
    "def flippingBits(n):\n",
    "    n = dec2bin(n)\n",
    "    result = \"\"\n",
    "    #print(n)\n",
    "    for e in n:\n",
    "        result += swap_binary(e)\n",
    "    #print(result)\n",
    "    return bin2dec(result)\n",
    "    \n",
    "   \n",
    "if __name__ == '__main__':\n",
    "    #fptr = open(os.environ['OUTPUT_PATH'], 'w')\n",
    "\n",
    "    q = int(input().strip())\n",
    "\n",
    "    for q_itr in range(q):\n",
    "        n = int(input().strip())\n",
    "\n",
    "        result = flippingBits(n)\n",
    "        print(result)\n",
    "        #fptr.write(str(result) + '\\n')\n",
    "\n",
    "    #fptr.close()\n"
   ]
  },
  {
   "cell_type": "markdown",
   "id": "beneficial-table",
   "metadata": {
    "ExecuteTime": {
     "end_time": "2021-11-21T12:04:23.111859Z",
     "start_time": "2021-11-21T12:04:23.014353Z"
    }
   },
   "source": [
    "이 문제의 핵심은 0의 0제곱을 어떻게 정의하는냐이다. 0의 0제곱은 컴퓨터에서는 1로 표현하는데 문제에서는 0으로 정의하였다.\n",
    "그리고 이진번 변환시 자리숫에 주의하여야함. ex) dec2bin은 reverse되어야함"
   ]
  },
  {
   "cell_type": "markdown",
   "id": "numerous-expansion",
   "metadata": {},
   "source": [
    "# "
   ]
  }
 ],
 "metadata": {
  "kernelspec": {
   "display_name": "Python 3",
   "language": "python",
   "name": "python3"
  },
  "language_info": {
   "codemirror_mode": {
    "name": "ipython",
    "version": 3
   },
   "file_extension": ".py",
   "mimetype": "text/x-python",
   "name": "python",
   "nbconvert_exporter": "python",
   "pygments_lexer": "ipython3",
   "version": "3.7.3"
  }
 },
 "nbformat": 4,
 "nbformat_minor": 5
}
