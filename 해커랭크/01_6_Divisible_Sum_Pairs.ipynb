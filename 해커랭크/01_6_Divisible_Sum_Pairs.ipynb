{
 "cells": [
  {
   "cell_type": "markdown",
   "id": "tribal-kingston",
   "metadata": {
    "ExecuteTime": {
     "end_time": "2021-11-09T08:37:47.316387Z",
     "start_time": "2021-11-09T08:37:47.275769Z"
    }
   },
   "source": [
    "https://www.hackerrank.com/challenges/three-month-preparation-kit-divisible-sum-pairs/problem"
   ]
  },
  {
   "cell_type": "code",
   "execution_count": null,
   "id": "organizational-chase",
   "metadata": {
    "ExecuteTime": {
     "end_time": "2021-11-15T03:00:40.485493Z",
     "start_time": "2021-11-15T03:00:40.452645Z"
    }
   },
   "outputs": [],
   "source": [
    "STDIN           Function\n",
    "-----           --------\n",
    "6 3             n = 6, k = 3\n",
    "1 3 2 6 1 2     ar = [1, 3, 2, 6, 1, 2]"
   ]
  },
  {
   "cell_type": "code",
   "execution_count": 10,
   "id": "chinese-ottawa",
   "metadata": {
    "ExecuteTime": {
     "end_time": "2021-11-15T03:12:17.086405Z",
     "start_time": "2021-11-15T03:12:13.980828Z"
    }
   },
   "outputs": [
    {
     "name": "stdout",
     "output_type": "stream",
     "text": [
      "6 3 \n",
      "1 2 3 6 1 2\n",
      "(1, 2)\n",
      "(1, 2)\n",
      "(2, 1)\n",
      "(3, 6)\n",
      "(1, 2)\n",
      "5\n"
     ]
    }
   ],
   "source": [
    "#!/bin/python3\n",
    "\n",
    "import math\n",
    "import os\n",
    "import random\n",
    "import re\n",
    "import sys\n",
    "from itertools import combinations\n",
    "#\n",
    "# Complete the 'divisibleSumPairs' function below.\n",
    "#\n",
    "# The function is expected to return an INTEGER.\n",
    "# The function accepts following parameters:\n",
    "#  1. INTEGER n\n",
    "#  2. INTEGER k\n",
    "#  3. INTEGER_ARRAY ar\n",
    "#\n",
    "\n",
    "def divisibleSumPairs(n, k, ar):\n",
    "    answer = 0\n",
    "    for e in combinations(ar, 2):\n",
    "        if sum(e) % k == 0:\n",
    "            answer += 1\n",
    "    print(answer)\n",
    "\n",
    "if __name__ == '__main__':\n",
    "    #fptr = open(os.environ['OUTPUT_PATH'], 'w')\n",
    "\n",
    "    first_multiple_input = input().rstrip().split()\n",
    "\n",
    "    n = int(first_multiple_input[0])\n",
    "\n",
    "    k = int(first_multiple_input[1])\n",
    "\n",
    "    ar = list(map(int, input().rstrip().split()))\n",
    "\n",
    "    result = divisibleSumPairs(n, k, ar)\n",
    "\n",
    "    #fptr.write(str(result) + '\\n')\n",
    "\n",
    "    #fptr.close()"
   ]
  },
  {
   "cell_type": "markdown",
   "id": "numerous-expansion",
   "metadata": {},
   "source": [
    "## "
   ]
  }
 ],
 "metadata": {
  "kernelspec": {
   "display_name": "Python 3",
   "language": "python",
   "name": "python3"
  },
  "language_info": {
   "codemirror_mode": {
    "name": "ipython",
    "version": 3
   },
   "file_extension": ".py",
   "mimetype": "text/x-python",
   "name": "python",
   "nbconvert_exporter": "python",
   "pygments_lexer": "ipython3",
   "version": "3.7.3"
  }
 },
 "nbformat": 4,
 "nbformat_minor": 5
}
