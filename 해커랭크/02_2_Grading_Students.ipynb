{
 "cells": [
  {
   "cell_type": "markdown",
   "id": "tribal-kingston",
   "metadata": {
    "ExecuteTime": {
     "end_time": "2021-11-09T08:37:47.316387Z",
     "start_time": "2021-11-09T08:37:47.275769Z"
    }
   },
   "source": [
    "https://www.hackerrank.com/challenges/three-month-preparation-kit-grading/problem"
   ]
  },
  {
   "cell_type": "code",
   "execution_count": null,
   "id": "organizational-chase",
   "metadata": {
    "ExecuteTime": {
     "end_time": "2021-11-15T04:10:52.922528Z",
     "start_time": "2021-11-15T04:10:44.954Z"
    }
   },
   "outputs": [],
   "source": [
    "Example\n",
    "a = [1,2,3,4,3,2,1]\n",
    "The unique element is 4."
   ]
  },
  {
   "cell_type": "code",
   "execution_count": 5,
   "id": "chinese-ottawa",
   "metadata": {
    "ExecuteTime": {
     "end_time": "2021-11-21T11:32:34.540031Z",
     "start_time": "2021-11-21T11:32:27.219088Z"
    }
   },
   "outputs": [
    {
     "name": "stdout",
     "output_type": "stream",
     "text": [
      "4\n",
      "73\n",
      "67\n",
      "38\n",
      "33\n",
      "[75, 67, 40, 33]\n"
     ]
    }
   ],
   "source": [
    "#!/bin/python3\n",
    "\n",
    "import math\n",
    "import os\n",
    "import random\n",
    "import re\n",
    "import sys\n",
    "\n",
    "#\n",
    "# Complete the 'gradingStudents' function below.\n",
    "#\n",
    "# The function is expected to return an INTEGER_ARRAY.\n",
    "# The function accepts INTEGER_ARRAY grades as parameter.\n",
    "#\n",
    "\n",
    "def gradingStudents(grades):\n",
    "    result = []\n",
    "    for g in grades:\n",
    "        if g >= 38:\n",
    "            if g %5 >= 3:\n",
    "                g = 5 * ((g // 5) + 1) \n",
    "        result.append(g)    \n",
    "    return result\n",
    "    \n",
    "    \n",
    "\n",
    "if __name__ == '__main__':\n",
    "    #fptr = open(os.environ['OUTPUT_PATH'], 'w')\n",
    "\n",
    "    grades_count = int(input().strip())\n",
    "    grades = []\n",
    "\n",
    "    for _ in range(grades_count):\n",
    "        grades_item = int(input().strip())\n",
    "        grades.append(grades_item)\n",
    "\n",
    "    result = gradingStudents(grades)\n",
    "    print(result)\n",
    "    #fptr.write('\\n'.join(map(str, result)))\n",
    "    #fptr.write('\\n')\n",
    "\n",
    "    #fptr.close()\n",
    "    "
   ]
  },
  {
   "cell_type": "markdown",
   "id": "numerous-expansion",
   "metadata": {},
   "source": [
    "## "
   ]
  }
 ],
 "metadata": {
  "kernelspec": {
   "display_name": "Python 3",
   "language": "python",
   "name": "python3"
  },
  "language_info": {
   "codemirror_mode": {
    "name": "ipython",
    "version": 3
   },
   "file_extension": ".py",
   "mimetype": "text/x-python",
   "name": "python",
   "nbconvert_exporter": "python",
   "pygments_lexer": "ipython3",
   "version": "3.7.3"
  }
 },
 "nbformat": 4,
 "nbformat_minor": 5
}
