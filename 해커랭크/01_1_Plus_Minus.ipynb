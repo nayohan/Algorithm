{
 "cells": [
  {
   "cell_type": "markdown",
   "id": "ecological-litigation",
   "metadata": {},
   "source": [
    "https://www.hackerrank.com/challenges/three-month-preparation-kit-plus-minus/problem?h_r=internal-search"
   ]
  },
  {
   "cell_type": "code",
   "execution_count": 1,
   "id": "persistent-fight",
   "metadata": {
    "ExecuteTime": {
     "end_time": "2021-11-09T05:20:46.051330Z",
     "start_time": "2021-11-09T05:20:45.947227Z"
    }
   },
   "outputs": [
    {
     "data": {
      "text/plain": [
       "(0.5, 0.33, 0.16)"
      ]
     },
     "execution_count": 1,
     "metadata": {},
     "output_type": "execute_result"
    }
   ],
   "source": [
    "# input\n",
    "arr = [-4, -3, -9, 0, 4, 1]\n",
    "n = 6\n",
    "\n",
    "# output\n",
    "0.5, 0.33, 0.16"
   ]
  },
  {
   "cell_type": "code",
   "execution_count": 18,
   "id": "atomic-riverside",
   "metadata": {
    "ExecuteTime": {
     "end_time": "2021-11-09T05:25:20.987033Z",
     "start_time": "2021-11-09T05:25:16.424262Z"
    },
    "scrolled": true
   },
   "outputs": [
    {
     "name": "stdout",
     "output_type": "stream",
     "text": [
      "6\n",
      "-4 3 -9 0 4 1\n",
      "0.500000\n",
      "0.333333\n",
      "0.166667\n"
     ]
    }
   ],
   "source": [
    "import math\n",
    "import os\n",
    "import random\n",
    "import re\n",
    "import sys\n",
    "\n",
    "def plusMinus(arr):\n",
    "    n = len(arr)\n",
    "    \n",
    "    positive = [1 if a>0 else 0 for a in arr]\n",
    "    zero = [1 if a==0 else 0 for a in arr]\n",
    "    negative = [1 if a<0 else 0 for a in arr]\n",
    "    \n",
    "    print(f'{sum(positive)/n:.6f}')\n",
    "    print(f'{sum(negative)/n:.6f}')\n",
    "    print(f'{sum(zero)/n:.6f}')\n",
    "\n",
    "\n",
    "if __name__ == '__main__':\n",
    "    n = int(input().strip())\n",
    "\n",
    "    arr = list(map(int, input().rstrip().split()))\n",
    "\n",
    "    plusMinus(arr)"
   ]
  }
 ],
 "metadata": {
  "kernelspec": {
   "display_name": "Python 3",
   "language": "python",
   "name": "python3"
  },
  "language_info": {
   "codemirror_mode": {
    "name": "ipython",
    "version": 3
   },
   "file_extension": ".py",
   "mimetype": "text/x-python",
   "name": "python",
   "nbconvert_exporter": "python",
   "pygments_lexer": "ipython3",
   "version": "3.7.3"
  }
 },
 "nbformat": 4,
 "nbformat_minor": 5
}
