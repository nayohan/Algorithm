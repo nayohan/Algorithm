{
 "cells": [
  {
   "cell_type": "markdown",
   "id": "tribal-kingston",
   "metadata": {
    "ExecuteTime": {
     "end_time": "2021-11-09T08:37:47.316387Z",
     "start_time": "2021-11-09T08:37:47.275769Z"
    }
   },
   "source": [
    "https://www.hackerrank.com/challenges/three-month-preparation-kit-breaking-best-and-worst-records/problem"
   ]
  },
  {
   "cell_type": "code",
   "execution_count": 7,
   "id": "bright-hollywood",
   "metadata": {
    "ExecuteTime": {
     "end_time": "2021-11-13T08:25:39.335337Z",
     "start_time": "2021-11-13T08:24:59.150049Z"
    }
   },
   "outputs": [
    {
     "name": "stdout",
     "output_type": "stream",
     "text": [
      "3\n",
      "5 10 20\n",
      "[0, 2]\n"
     ]
    }
   ],
   "source": [
    "import math\n",
    "import os\n",
    "import random\n",
    "import re\n",
    "import sys\n",
    "\n",
    "\n",
    "def breakingRecords(scores):\n",
    "    # Write your code here\n",
    "    min_rec = scores[0]\n",
    "    max_rec = scores[0]\n",
    "    min_sum, max_sum = 0,0\n",
    "    for e in scores:\n",
    "        if e < min_rec:\n",
    "            min_rec = e\n",
    "            min_sum += 1\n",
    "        elif e> max_rec:\n",
    "            max_rec = e\n",
    "            max_sum += 1\n",
    "        else:\n",
    "            pass\n",
    "\n",
    "    return [min_sum, max_sum]\n",
    "\n",
    "if __name__ == '__main__':\n",
    "    #fptr = open(os.environ['OUTPUT_PATH'], 'w')\n",
    "\n",
    "    n = int(input().strip())\n",
    "\n",
    "    scores = list(map(int, input().rstrip().split()))\n",
    "\n",
    "    result = breakingRecords(scores)\n",
    "    print(result)\n",
    "    #fptr.write(' '.join(map(str, result)))\n",
    "    #fptr.write('\\n')\n",
    "\n",
    "    #fptr.close()"
   ]
  }
 ],
 "metadata": {
  "kernelspec": {
   "display_name": "Python 3",
   "language": "python",
   "name": "python3"
  },
  "language_info": {
   "codemirror_mode": {
    "name": "ipython",
    "version": 3
   },
   "file_extension": ".py",
   "mimetype": "text/x-python",
   "name": "python",
   "nbconvert_exporter": "python",
   "pygments_lexer": "ipython3",
   "version": "3.7.3"
  }
 },
 "nbformat": 4,
 "nbformat_minor": 5
}
