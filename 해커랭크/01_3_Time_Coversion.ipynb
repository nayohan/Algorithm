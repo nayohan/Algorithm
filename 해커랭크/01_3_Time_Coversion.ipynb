{
 "cells": [
  {
   "cell_type": "markdown",
   "id": "tribal-kingston",
   "metadata": {
    "ExecuteTime": {
     "end_time": "2021-11-09T08:37:47.316387Z",
     "start_time": "2021-11-09T08:37:47.275769Z"
    }
   },
   "source": [
    "https://www.hackerrank.com/challenges/three-month-preparation-kit-time-conversion/problem"
   ]
  },
  {
   "cell_type": "code",
   "execution_count": 43,
   "id": "bright-hollywood",
   "metadata": {
    "ExecuteTime": {
     "end_time": "2021-11-13T06:03:31.292812Z",
     "start_time": "2021-11-13T06:03:27.261462Z"
    }
   },
   "outputs": [
    {
     "name": "stdout",
     "output_type": "stream",
     "text": [
      "08:32:11AM\n",
      "08:32:11\n"
     ]
    }
   ],
   "source": [
    "import math\n",
    "import os\n",
    "import random\n",
    "import re\n",
    "import sys\n",
    "\n",
    "\n",
    "def timeConversion(s):\n",
    "\n",
    "    state = s[-2:]\n",
    "    h,m,s =  s[:-2].split(':')\n",
    "    if \"PM\" == state:\n",
    "        if h != \"12\":\n",
    "            h = int(h) + 12\n",
    "        print(f\"{h}:{m}:{s}\")\n",
    "    else:\n",
    "        if h == \"12\":\n",
    "            h = \"0\"\n",
    "        h = \"0\" + str(int(h))\n",
    "        print(f\"{h}:{m}:{s}\")\n",
    "    \n",
    "\n",
    "if __name__ == '__main__':\n",
    "    #fptr = open(os.environ['OUTPUT_PATH'], 'w')\n",
    "\n",
    "    s = input()\n",
    "\n",
    "    result = timeConversion(s)\n",
    "\n",
    "    #fptr.write(result + '\\n')\n",
    "\n",
    "    #fptr.close()"
   ]
  },
  {
   "cell_type": "code",
   "execution_count": null,
   "id": "bound-railway",
   "metadata": {},
   "outputs": [],
   "source": []
  }
 ],
 "metadata": {
  "kernelspec": {
   "display_name": "Python 3",
   "language": "python",
   "name": "python3"
  },
  "language_info": {
   "codemirror_mode": {
    "name": "ipython",
    "version": 3
   },
   "file_extension": ".py",
   "mimetype": "text/x-python",
   "name": "python",
   "nbconvert_exporter": "python",
   "pygments_lexer": "ipython3",
   "version": "3.7.3"
  }
 },
 "nbformat": 4,
 "nbformat_minor": 5
}
