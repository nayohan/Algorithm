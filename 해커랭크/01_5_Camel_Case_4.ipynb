{
 "cells": [
  {
   "cell_type": "markdown",
   "id": "tribal-kingston",
   "metadata": {
    "ExecuteTime": {
     "end_time": "2021-11-09T08:37:47.316387Z",
     "start_time": "2021-11-09T08:37:47.275769Z"
    }
   },
   "source": [
    "https://www.hackerrank.com/challenges/three-month-preparation-kit-camel-case/problem"
   ]
  },
  {
   "cell_type": "code",
   "execution_count": 49,
   "id": "bright-hollywood",
   "metadata": {
    "ExecuteTime": {
     "end_time": "2021-11-15T02:55:34.845408Z",
     "start_time": "2021-11-15T02:55:03.143595Z"
    }
   },
   "outputs": [
    {
     "name": "stdout",
     "output_type": "stream",
     "text": [
      "S;M;plasticCup()\n",
      "plastic cup()\n",
      "C;V;mobile phone\n",
      "mobilePhone\n",
      "C;C;coffee machine\n",
      "CoffeeMachine\n",
      "S;C;LargeSoftwareBook\n",
      "large software book\n",
      "C;M;white sheet of paper\n",
      "whiteSheetOfPaper()\n",
      "S;V;pictureFrame\n",
      "picture frame\n",
      "\n"
     ]
    },
    {
     "ename": "IndexError",
     "evalue": "string index out of range",
     "output_type": "error",
     "traceback": [
      "\u001b[0;31m---------------------------------------------------------------------------\u001b[0m",
      "\u001b[0;31mIndexError\u001b[0m                                Traceback (most recent call last)",
      "\u001b[0;32m<ipython-input-49-10fba23c1dfb>\u001b[0m in \u001b[0;36m<module>\u001b[0;34m\u001b[0m\n\u001b[1;32m     26\u001b[0m         \u001b[0;32mtry\u001b[0m\u001b[0;34m:\u001b[0m\u001b[0;34m\u001b[0m\u001b[0;34m\u001b[0m\u001b[0m\n\u001b[1;32m     27\u001b[0m             \u001b[0msentence\u001b[0m \u001b[0;34m=\u001b[0m \u001b[0minput\u001b[0m\u001b[0;34m(\u001b[0m\u001b[0;34m)\u001b[0m\u001b[0;34m.\u001b[0m\u001b[0mstrip\u001b[0m\u001b[0;34m(\u001b[0m\u001b[0;34m)\u001b[0m\u001b[0;34m\u001b[0m\u001b[0;34m\u001b[0m\u001b[0m\n\u001b[0;32m---> 28\u001b[0;31m             \u001b[0;32mif\u001b[0m \u001b[0msentence\u001b[0m\u001b[0;34m[\u001b[0m\u001b[0;36m0\u001b[0m\u001b[0;34m]\u001b[0m\u001b[0;34m==\u001b[0m\u001b[0;34m\"S\"\u001b[0m\u001b[0;34m:\u001b[0m\u001b[0;34m\u001b[0m\u001b[0;34m\u001b[0m\u001b[0m\n\u001b[0m\u001b[1;32m     29\u001b[0m                 \u001b[0msentence\u001b[0m \u001b[0;34m=\u001b[0m \u001b[0msnake_case\u001b[0m\u001b[0;34m(\u001b[0m\u001b[0msentence\u001b[0m\u001b[0;34m[\u001b[0m\u001b[0;36m4\u001b[0m\u001b[0;34m:\u001b[0m\u001b[0;34m]\u001b[0m\u001b[0;34m)\u001b[0m\u001b[0;34m\u001b[0m\u001b[0;34m\u001b[0m\u001b[0m\n\u001b[1;32m     30\u001b[0m             \u001b[0;32melif\u001b[0m \u001b[0msentence\u001b[0m\u001b[0;34m[\u001b[0m\u001b[0;36m0\u001b[0m\u001b[0;34m]\u001b[0m\u001b[0;34m==\u001b[0m\u001b[0;34m\"C\"\u001b[0m\u001b[0;34m:\u001b[0m\u001b[0;34m\u001b[0m\u001b[0;34m\u001b[0m\u001b[0m\n",
      "\u001b[0;31mIndexError\u001b[0m: string index out of range"
     ]
    }
   ],
   "source": [
    "def CamelCase(sentence, method):\n",
    "    \n",
    "    sen = sentence.split()\n",
    "    result = sen[0]\n",
    "    if method==\"C\":\n",
    "        result = sen[0][0].upper() + sen[0][1:]\n",
    "\n",
    "    for e in sen[1:]:\n",
    "        e = e[0].upper() + e[1:]\n",
    "        result += e\n",
    "    if method==\"M\":\n",
    "        result += \"()\"\n",
    "    print(result.rstrip())\n",
    "\n",
    "def snake_case(sentence):\n",
    "    result = sentence[0].lower()\n",
    "    for e in sentence[1:]:\n",
    "        if e.isupper():\n",
    "            result += \" \"+e.lower()\n",
    "        else:\n",
    "            result += e\n",
    "    print(result.rstrip())\n",
    "\n",
    "if __name__ == '__main__':\n",
    "    while True:\n",
    "        try:\n",
    "            sentence = input().strip()\n",
    "            if sentence[0]==\"S\":\n",
    "                sentence = snake_case(sentence[4:])\n",
    "            elif sentence[0]==\"C\":\n",
    "                sentence = CamelCase(sentence[4:], sentence[2])\n",
    "            else:\n",
    "                pass\n",
    "            \n",
    "        except EOFError:\n",
    "            break\n"
   ]
  },
  {
   "cell_type": "markdown",
   "id": "sunset-liabilities",
   "metadata": {},
   "source": [
    "S;M;plasticCup()\n",
    "\n",
    "C;V;mobile phone\n",
    "\n",
    "C;C;coffee machine\n",
    "\n",
    "S;C;LargeSoftwareBook\n",
    "\n",
    "C;M;white sheet of paper\n",
    "\n",
    "S;V;pictureFrame"
   ]
  }
 ],
 "metadata": {
  "kernelspec": {
   "display_name": "Python 3",
   "language": "python",
   "name": "python3"
  },
  "language_info": {
   "codemirror_mode": {
    "name": "ipython",
    "version": 3
   },
   "file_extension": ".py",
   "mimetype": "text/x-python",
   "name": "python",
   "nbconvert_exporter": "python",
   "pygments_lexer": "ipython3",
   "version": "3.7.3"
  }
 },
 "nbformat": 4,
 "nbformat_minor": 5
}
