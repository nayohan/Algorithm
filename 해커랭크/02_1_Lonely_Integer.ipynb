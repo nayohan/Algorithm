{
 "cells": [
  {
   "cell_type": "markdown",
   "id": "tribal-kingston",
   "metadata": {
    "ExecuteTime": {
     "end_time": "2021-11-09T08:37:47.316387Z",
     "start_time": "2021-11-09T08:37:47.275769Z"
    }
   },
   "source": [
    "https://www.hackerrank.com/challenges/three-month-preparation-kit-sparse-arrays/problem"
   ]
  },
  {
   "cell_type": "code",
   "execution_count": null,
   "id": "organizational-chase",
   "metadata": {
    "ExecuteTime": {
     "end_time": "2021-11-15T04:10:52.922528Z",
     "start_time": "2021-11-15T04:10:44.954Z"
    }
   },
   "outputs": [],
   "source": [
    "Example\n",
    "a = [1,2,3,4,3,2,1]\n",
    "The unique element is 4."
   ]
  },
  {
   "cell_type": "code",
   "execution_count": 3,
   "id": "chinese-ottawa",
   "metadata": {
    "ExecuteTime": {
     "end_time": "2021-11-15T04:11:28.151898Z",
     "start_time": "2021-11-15T04:11:24.964158Z"
    }
   },
   "outputs": [
    {
     "name": "stdout",
     "output_type": "stream",
     "text": [
      "7\n",
      "1 2 3 4 3 2 1\n",
      "4\n"
     ]
    }
   ],
   "source": [
    "#!/bin/python3\n",
    "\n",
    "import math\n",
    "import os\n",
    "import random\n",
    "import re\n",
    "import sys\n",
    "from collections import defaultdict\n",
    "#\n",
    "# Complete the 'lonelyinteger' function below.\n",
    "#\n",
    "# The function is expected to return an INTEGER.\n",
    "# The function accepts INTEGER_ARRAY a as parameter.\n",
    "#\n",
    "\n",
    "def lonelyinteger(a):\n",
    "    only_space = defaultdict(lambda: 0)\n",
    "    for e in a:\n",
    "        only_space[str(e)] += 1\n",
    "    \n",
    "    for k,v in only_space.items():\n",
    "        if v==1:\n",
    "            return k\n",
    "    \n",
    "\n",
    "if __name__ == '__main__':\n",
    "    #fptr = open(os.environ['OUTPUT_PATH'], 'w')\n",
    "\n",
    "    n = int(input().strip())\n",
    "\n",
    "    a = list(map(int, input().rstrip().split()))\n",
    "\n",
    "    result = lonelyinteger(a)\n",
    "    print(result)\n",
    "    #fptr.write(str(result) + '\\n')\n",
    "\n",
    "    #fptr.close()\n"
   ]
  },
  {
   "cell_type": "markdown",
   "id": "numerous-expansion",
   "metadata": {},
   "source": [
    "## "
   ]
  }
 ],
 "metadata": {
  "kernelspec": {
   "display_name": "Python 3",
   "language": "python",
   "name": "python3"
  },
  "language_info": {
   "codemirror_mode": {
    "name": "ipython",
    "version": 3
   },
   "file_extension": ".py",
   "mimetype": "text/x-python",
   "name": "python",
   "nbconvert_exporter": "python",
   "pygments_lexer": "ipython3",
   "version": "3.7.3"
  }
 },
 "nbformat": 4,
 "nbformat_minor": 5
}
