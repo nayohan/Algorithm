{
 "cells": [
  {
   "cell_type": "markdown",
   "metadata": {},
   "source": [
    "# 전보\n",
    "어떤 나라에는 N개의 도시가 있다. 그리고 각 도시는 보내고자 하는 메시지가 있는 경우, 다른 도시로 전보를 보내서 다른 도시로 해당 메시지를 전송할 수 있다. 하지만 X라는 도시에서 Y라는 도시로 전보를 보내고자 한다면, 도시 X에서 Y로 향하는 통로가 설치되어 있어야 한다. 예를 들어 X에서 Y로 향하는 통로는 있지만, Y에서 X로 향하는 통로가 없다면 Y는 X로 메시지를 보낼 수 없다. 또한 통로를 거쳐 메시지를 보낼 때는 일정 시간이 소요 된다.\n",
    "\n",
    "어느 날 C라는 도시에서 위급 상황이 발생했다. 그래서 최대한 많은 도시로 메시지를 보내고자 한다. 메시지는 도시C에서 출발하여 각 도시 사이에 설치된 통로를 거쳐, 최대한 많이 퍼져나갈 것이다. 각 도시의 번호와 통로가 설치되어 있는 정보가 주어졌을 때, 도시C에서 보낸 메시지를 받게 되는 도시의 개수는 총 몇 개이며 도시들이 모두 메시지를 받는 데까지 걸리는 시간은 얼마인지 계산하는 프로그램을 작성하시오."
   ]
  },
  {
   "cell_type": "markdown",
   "metadata": {},
   "source": [
    "입력\n",
    "\n",
    "첫째줄 : 도시의 개수 N, 통로의 개수 M, 메시지를 보내고자하는 도시C가 주어진다. (1 <= N <= 30,000, 1 <= M <= 200,000, 1 <= C <= N)\n",
    "둘째줄 : 통로에 대한 X, Y, Z가 주어진다. 이는 특정 도시 X에서 다른 특정 도시 Y로 이어지는 통로가 있으며, 메시가 전달되는 시간이 Z라는 의미다. (1 <= X, Y <= N, 1 <= Z <= 1,000)\n",
    "\n",
    "입력 예시\n",
    "\n",
    "3 2 1  \n",
    "1 2 4  \n",
    "1 3 2  "
   ]
  },
  {
   "cell_type": "markdown",
   "metadata": {},
   "source": [
    "출력\n",
    "\n",
    "첫째 줄 : 도시C에서 보낸 메시지를 받는 도시의 총 개수와 총 걸리는 시간을 공백으로 구분하여 출력한다.\n",
    "\n",
    "출력 예시\n",
    "\n",
    "2 4"
   ]
  },
  {
   "cell_type": "markdown",
   "metadata": {},
   "source": [
    "# 풀이"
   ]
  },
  {
   "cell_type": "code",
   "execution_count": 26,
   "metadata": {
    "scrolled": true
   },
   "outputs": [
    {
     "name": "stdout",
     "output_type": "stream",
     "text": [
      "3 2 1\n",
      "1 2 4\n",
      "1 3 2\n"
     ]
    }
   ],
   "source": [
    "n, m, c = map(int, input().split())\n",
    "INF = int(1e9)\n",
    "\n",
    "# 1. 공간 생성\n",
    "graph = [[INF] * (n + 1) for _ in range(n + 1)]\n",
    "for i in range(1, n + 1):\n",
    "    graph[i][i] = 0\n",
    "\n",
    "for i in range(m):\n",
    "    x, y, z = map(int, input().split())\n",
    "    graph[x][y] = z\n"
   ]
  },
  {
   "cell_type": "code",
   "execution_count": 31,
   "metadata": {},
   "outputs": [
    {
     "name": "stdout",
     "output_type": "stream",
     "text": [
      "0 4 2 \n",
      "1000000000 0 1000000000 \n",
      "1000000000 1000000000 0 \n",
      "2 4\n"
     ]
    }
   ],
   "source": [
    "# 2. 플로이드 워셜 알고리즘 \n",
    "for k in range(1, n + 1):\n",
    "    for a in range(1, n + 1):\n",
    "        for b in range(1, n + 1):\n",
    "            graph[a][b] = min(graph[a][b], graph[a][k] + graph[k][b])\n",
    "\n",
    "# 3. 전체 지도\n",
    "for i in range(1, n + 1):\n",
    "    for j in range(1, n + 1):\n",
    "        print(graph[i][j], end=' ')\n",
    "    print()\n",
    "\n",
    "message_num = 0\n",
    "r_time = 0\n",
    "\n",
    "for i in range(1, n + 1):\n",
    "    if graph[c][i] != 0 and graph[c][i] != INF:\n",
    "        message_num +=1\n",
    "        r_time = max(r_time, graph[c][i])\n",
    "\n",
    "print(message_num, r_time)"
   ]
  },
  {
   "cell_type": "markdown",
   "metadata": {},
   "source": [
    "### 다이스트라 풀이"
   ]
  },
  {
   "cell_type": "code",
   "execution_count": 53,
   "metadata": {},
   "outputs": [
    {
     "name": "stdout",
     "output_type": "stream",
     "text": [
      "3 2 1\n",
      "1 2 4\n",
      "1 3 2\n",
      "2 4\n"
     ]
    }
   ],
   "source": [
    "import heapq\n",
    "\n",
    "n, m, c = map(int, input().split())\n",
    "d_graph = [[] for i in range(n + 1)] # 간선들\n",
    "distance = [INF] * (n + 1) # 시작점으로부터의 거리\n",
    "\n",
    "# 거리 저장\n",
    "for _ in range(m):\n",
    "    x, y, z = map(int, input().split())\n",
    "    d_graph[x].append((y,z))\n",
    "\n",
    "# 2.b. 다이스트라 알고리즘 \n",
    "def dijkstra(start):\n",
    "    # 2.1. 큐에 삽입\n",
    "    q = []\n",
    "    heapq.heappush(q, (0, start))\n",
    "    distance[start] = 0\n",
    "    \n",
    "    # 2.2. 큐에서 추출후, \n",
    "    while q:\n",
    "        dist, now = heapq.heappop(q)\n",
    "\n",
    "        for i in d_graph[now]:\n",
    "            cost = dist + i[1]\n",
    "            \n",
    "            if distance[i[0]] > cost:\n",
    "                distance[i[0]] = cost # 데이터 갱신,\n",
    "                heapq.heappush(q, (cost, i[0])) # 큐 삽입\n",
    "             \n",
    "dijkstra(c)\n",
    "count = 0\n",
    "r_time = 0\n",
    "\n",
    "for i in range(n + 1):\n",
    "    if distance[i] != INF:\n",
    "        count += 1\n",
    "        r_time = max(r_time, distance[i])\n",
    "        \n",
    "print(count-1, r_time)"
   ]
  },
  {
   "cell_type": "markdown",
   "metadata": {},
   "source": [
    "### 정답"
   ]
  },
  {
   "cell_type": "code",
   "execution_count": 65,
   "metadata": {},
   "outputs": [
    {
     "name": "stdout",
     "output_type": "stream",
     "text": [
      "3 2 1\n",
      "1 2 4\n",
      "1 3 2\n",
      "2 4\n"
     ]
    }
   ],
   "source": [
    "import heapq\n",
    "\n",
    "INF = int(1e9)\n",
    "\n",
    "n, m, start = map(int, input().split())\n",
    "graph= [[] for i in range(n + 1)]\n",
    "distance = [INF] * (n + 1)\n",
    "\n",
    "# 모든 간선 정보를 입력받기\n",
    "for _ in range(m):\n",
    "    x, y, z = map(int, input().split())\n",
    "    graph[x].append((y,z))\n",
    "\n",
    "def dijkstra(start):\n",
    "    q = []\n",
    "    \n",
    "    # 시작 노드로 가기 위한 최단 경로는 0으로 설정하여, 큐에 삽입\n",
    "    heapq.heappush(q, (0, start))\n",
    "    distance[start] = 0\n",
    "    \n",
    "    while q: # 큐가 비어있지 않다면\n",
    "        # 가장 최단 거리가 짧은 노드에 대한 정보를 꺼내기\n",
    "        dist, now = heapq.heappop(q)\n",
    "        \n",
    "        if distance[now] < dist:\n",
    "            continue\n",
    "        # 현재 노드와 연결된 다른 인접한 노드들을 확인\n",
    "        for i in graph[now]:\n",
    "            cost = dist + i[1]\n",
    "            if distance[i[0]] > cost:\n",
    "                distance[i[0]] = cost\n",
    "                heapq.heappush(q, (cost, i[0]))\n",
    "dijkstra(start)\n",
    "\n",
    "# 도달할 수 있는 노드의 개수\n",
    "count = 0\n",
    "max_distance = 0\n",
    "\n",
    "# 도달할 수 있는 노드 중에서, 가장 멀리 있는 노드와의 최단 거리\n",
    "for d in distance:\n",
    "    if d != INF:\n",
    "        count += 1 \n",
    "        max_distance = max(max_distance, d)\n",
    "        \n",
    "print(count - 1, max_distance)"
   ]
  },
  {
   "cell_type": "markdown",
   "metadata": {},
   "source": [
    "## 정리"
   ]
  },
  {
   "cell_type": "markdown",
   "metadata": {},
   "source": [
    "N이커지면 플로이드워셜대신 다이스트라로 풀어야함. 다이스트라 continue 부분을 주의해서 구현해야함. "
   ]
  }
 ],
 "metadata": {
  "kernelspec": {
   "display_name": "Python 3",
   "language": "python",
   "name": "python3"
  },
  "language_info": {
   "codemirror_mode": {
    "name": "ipython",
    "version": 3
   },
   "file_extension": ".py",
   "mimetype": "text/x-python",
   "name": "python",
   "nbconvert_exporter": "python",
   "pygments_lexer": "ipython3",
   "version": "3.7.3"
  }
 },
 "nbformat": 4,
 "nbformat_minor": 4
}
