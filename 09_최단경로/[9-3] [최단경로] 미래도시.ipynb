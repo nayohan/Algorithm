{
 "cells": [
  {
   "cell_type": "markdown",
   "metadata": {},
   "source": [
    "# 미래 도시\n",
    "방문 판매원 A는 많은 회사가 모여잇는 공중 미래도시에 있다. 공중 미래 도시에는 1번부터 N번까지의 회사가 있는데 특정 회사끼리는 서로 도로를 통해 연결되어 있다. 방문판매원 A는 현재 1번 회사에 위치에 있으며, x번 회사에 방문에 물건을 판매하고자한다.\n",
    "\n",
    "공중 미래 도시에서 특정회사에 도착하기 위한 방법은 회사끼리 연결되어 있는 도로를 이용하는 방법이 유일하다. 또한 연결된 2개의 회사가 양방향으로 이동할 수 있다. 공중 미래 도시에서 도로는 마하의 속도로 사람을 이동시켜주기 때문에 특정 회사와 다른 회사가 도로로 연결되어 있다면, 정확이 1만큼의 시간으로 이동할 수 있다.\n",
    "\n",
    "또한 오늘 방문 판매원 A는 기대하던 소개팅에도 참석하고자 한다. 소개팅의 상대는 K번 회사에 존재한다. 방문판매원 A는 X번 회사에 가서 물건을 판매하기 전에 먼저 소개팅 상대의 회사에 찾아가서 함께 커피를 마실 예정이다. 따라서 방문 판매원 A는 1번 회사에서 출발하여 K번 회사를 방문한 뒤에 X번 회사로 가는 것이 목표이다. 이 때 방문판매원A는 가능한 한 빠르게 이동하고자 한다. 방문 판매원이 회사 사이를 이동하게 되는 최소 시간을 계산하는 프로그램을 작성하시오. 이때 소개팅의 상대방과 커피를 마시는 시간 등은 고려하지 않는다고 가정한다. 예를 들어 N = 5,  X = 4, K = 5이고 회사 간 도로가 7개면서 각 도로가 다음과 같이 연결되어 있을 때를 가정할 수 있다.\n",
    "\n",
    "(1,2) (1,3), (1,4), (2,4), (3,4), (3,5), (4,5)\n",
    "\n",
    "이때 방문판매원 A가 최종적으로 4번 회사에 가는 경로를 (1 - 3 - 5 - 4)으로 설정하면, 소개팅에도 참석할 수 있으면서 총 3만큼의 시간으로 이동할 수 있다. 따라서 이 경우 최소 이동시간은 3이다."
   ]
  },
  {
   "cell_type": "markdown",
   "metadata": {},
   "source": [
    "입력\n",
    "\n",
    "첫째줄 : 전체 회사의 개수 N과 경로의 개수 M이 공백으로 구분되어 차례대로 주어진다. (1 <= N, M <= 100)\n",
    "둘째줄 : 연결된 두 회사의 번호가 공백으로 구분되어 주어진다. (1 <= K <= 100)\n",
    "\n",
    "입력 예시\n",
    "\n",
    "5 7  \n",
    "1 2  \n",
    "1 3  \n",
    "1 4  \n",
    "2 4  \n",
    "3 4  \n",
    "3 5  \n",
    "4 5  "
   ]
  },
  {
   "cell_type": "markdown",
   "metadata": {},
   "source": [
    "출력\n",
    "\n",
    "첫째 줄 : 방문 판매원 A가 K번 회사를 거쳐 X번 회사로 가는 최소 이동 시간을 출력한다. 만약 X번 회사에 도달할수 없다면 -1을 출력한다.\n",
    "\n",
    "출력 예시\n",
    "\n",
    "\n",
    "3"
   ]
  },
  {
   "cell_type": "markdown",
   "metadata": {},
   "source": [
    "# 풀이"
   ]
  },
  {
   "cell_type": "code",
   "execution_count": 32,
   "metadata": {
    "scrolled": true
   },
   "outputs": [
    {
     "name": "stdout",
     "output_type": "stream",
     "text": [
      "5 7\n",
      "1 2 \n",
      "1 3\n",
      "1 4\n",
      "2 4\n",
      "3 4\n",
      "3 5\n",
      "4 5\n",
      "4 5\n"
     ]
    }
   ],
   "source": [
    "n, m = map(int, input().split())\n",
    "INF = int(1e9)\n",
    "graph = [[INF] * (n + 1) for _ in range(n + 1)]\n",
    "\n",
    "# 1. 공간값 업데이트\n",
    "for i in range(1, n + 1):\n",
    "    graph[i][i] = 0\n",
    "\n",
    "for _ in range(m):\n",
    "    a,b = map(int, input().split())\n",
    "    graph[a][b] = 1\n",
    "    graph[b][a] = 1\n",
    "\n",
    "X, K = map(int, input().split())"
   ]
  },
  {
   "cell_type": "code",
   "execution_count": 33,
   "metadata": {
    "scrolled": true
   },
   "outputs": [
    {
     "name": "stdout",
     "output_type": "stream",
     "text": [
      "0 1 1 1 2 \n",
      "1 0 2 1 2 \n",
      "1 2 0 1 1 \n",
      "1 1 1 0 1 \n",
      "2 2 1 1 0 \n",
      "3\n"
     ]
    }
   ],
   "source": [
    "### 2. 플로이드 워셜 알고리즘 적용\n",
    "for k in range(1, n + 1):\n",
    "    for a in range(1, n + 1):\n",
    "        for b in range(1, n + 1):\n",
    "            graph[a][b] = min(graph[a][b], graph[a][k] + graph[k][b])\n",
    "\n",
    "for i in range(1, n + 1):\n",
    "    for j in range(1, n + 1):\n",
    "        print(graph[i][j], end=' ')\n",
    "    print()\n",
    "\n",
    "K = 5\n",
    "X = 4\n",
    "\n",
    "result = graph[1][K] + graph[K][X]\n",
    "if  result >= INF:\n",
    "    print(-1)\n",
    "else:\n",
    "    print(result)"
   ]
  },
  {
   "cell_type": "markdown",
   "metadata": {},
   "source": [
    "# 정답"
   ]
  },
  {
   "cell_type": "code",
   "execution_count": 57,
   "metadata": {},
   "outputs": [
    {
     "name": "stdout",
     "output_type": "stream",
     "text": [
      "5 7\n",
      "1 2\n",
      "1 3\n",
      "1 4\n",
      "2 4\n",
      "3 4 \n",
      "3 5\n",
      "4 5\n",
      "4 5\n",
      "3\n"
     ]
    }
   ],
   "source": [
    "INF = int(1e9)\n",
    "\n",
    "n, m = map(int, input().split())\n",
    "graph = [[INF] * (n + 1) for _ in range(n + 1)]\n",
    "\n",
    "# 자기 자신으로 가는 비용은 0으로 초기화\n",
    "for i in  range(n + 1):\n",
    "    graph[i][i] = 0\n",
    "\n",
    "# 각 간선에 대한 정보를 입력받아, 그값으로 초기화\n",
    "for _ in  range(m):\n",
    "    a, b = map(int, input().split())\n",
    "    graph[a][b] = 1\n",
    "    graph[b][a] = 1\n",
    "\n",
    "# 거쳐 갈 노드X와 최종 목적지 노드 K를 입력받기\n",
    "x, k = map(int, input().split())\n",
    "\n",
    "# 점화식에 따라 플로이드 워셜 알고리즘을 수행\n",
    "for k in range(1, n + 1):\n",
    "    for a in range(1, n + 1):\n",
    "        for b in range(1, n + 1):\n",
    "            graph[a][b] = min(graph[a][b], graph[a][k] + graph[k][b])\n",
    "\n",
    "# 수행됭 결과를 출력\n",
    "distance = graph[1][k] + graph[k][x]\n",
    "\n",
    "if distance >= INF:\n",
    "    print(\"-1\")\n",
    "else:\n",
    "    print(distance)"
   ]
  },
  {
   "cell_type": "markdown",
   "metadata": {},
   "source": [
    "### 정리"
   ]
  },
  {
   "cell_type": "markdown",
   "metadata": {},
   "source": [
    "플로이드 워셜알고리즘은  N의 범위가 한정적일때 유용하다. 구현이 간단함. 그러나, 이문제에서 1->K->X를 각각쪼개어 다이스트라로 푸는것도 가능하다."
   ]
  }
 ],
 "metadata": {
  "kernelspec": {
   "display_name": "Python 3",
   "language": "python",
   "name": "python3"
  },
  "language_info": {
   "codemirror_mode": {
    "name": "ipython",
    "version": 3
   },
   "file_extension": ".py",
   "mimetype": "text/x-python",
   "name": "python",
   "nbconvert_exporter": "python",
   "pygments_lexer": "ipython3",
   "version": "3.7.3"
  }
 },
 "nbformat": 4,
 "nbformat_minor": 4
}
