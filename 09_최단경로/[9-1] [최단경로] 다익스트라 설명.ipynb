{
 "cells": [
  {
   "cell_type": "markdown",
   "metadata": {},
   "source": [
    "# 다익스트라 최단 경로 알고리즘\n",
    "그래프에서 여러 개의 노드가 있을 때, 특정한 노드에서 출발하여 다른 노드로 가는 각각의 최단 경로를 구해주는 알고리즘이다.\n",
    "그리디 알고리즘으로 분류"
   ]
  },
  {
   "cell_type": "markdown",
   "metadata": {},
   "source": [
    "1. 출발 노드를 설정한다.\n",
    "2. 최단 거리테이블을 초기화한다\n",
    "3. 방문하지 않은 노드 중에서 최단 거리가 가장 짧은 노드를 선택한다.\n",
    "4. 해당 노드를 거쳐 다른 노드로 가는 비용을 계산하여 최단 거리 테이블을 갱신한다.\n",
    "5. 위 과정에서 3과 4번을 반복한다."
   ]
  },
  {
   "cell_type": "markdown",
   "metadata": {},
   "source": [
    "'무한'이라는 값을 대입할때 int(1e9)를 대입"
   ]
  },
  {
   "cell_type": "markdown",
   "metadata": {},
   "source": [
    "# 간단한 다익스트라 알고리즘"
   ]
  },
  {
   "cell_type": "code",
   "execution_count": 2,
   "metadata": {},
   "outputs": [
    {
     "name": "stdout",
     "output_type": "stream",
     "text": [
      "6 11\n",
      "1\n"
     ]
    }
   ],
   "source": [
    "n, m = map(int, input().split())\n",
    "# 시작 노드 번호를 입력받기\n",
    "start = int(input())"
   ]
  },
  {
   "cell_type": "code",
   "execution_count": 4,
   "metadata": {},
   "outputs": [
    {
     "name": "stdout",
     "output_type": "stream",
     "text": [
      "1 2 2 \n",
      "1 3 5\n",
      "1 4 1\n",
      "2 3 3\n",
      "2 4 2\n",
      "3 2 3\n",
      "3 6 5\n",
      "4 3 3\n",
      "4 5 1\n",
      "5 3 1\n",
      "5 6 2\n"
     ]
    }
   ],
   "source": [
    "# 간단한 다익스트라 알고리즘\n",
    "import sys\n",
    "#input = sys.stdin.readline\n",
    "INF = int(1e9)\n",
    "\n",
    "# 각 노드에 연결되어 있는 노드에 대한 정보를 담는 리스트 만들기\n",
    "graph = [[] for i in range(n + 1)]\n",
    "visited = [False] * (n + 1)\n",
    "distance = [INF] * (n + 1)\n",
    "\n",
    "\n",
    "#모든 간선 정보를 입력받기\n",
    "for _ in range(m):\n",
    "    a, b, c = map(int, input().split())\n",
    "    # a번 노드에서 b번 노드로 가능 비용이 c라는 의미\n",
    "    graph[a].append((b,c))"
   ]
  },
  {
   "cell_type": "code",
   "execution_count": 5,
   "metadata": {},
   "outputs": [
    {
     "name": "stdout",
     "output_type": "stream",
     "text": [
      "1 까지의 거리:  0\n",
      "2 까지의 거리:  2\n",
      "3 까지의 거리:  3\n",
      "4 까지의 거리:  1\n",
      "5 까지의 거리:  2\n",
      "6 까지의 거리:  4\n"
     ]
    }
   ],
   "source": [
    "def get_smallest_node():\n",
    "    # 시작 노드에 대해서 초기화\n",
    "    min_value = INF\n",
    "    index = 0\n",
    "    for i in range(1, n + 1):\n",
    "        if distance[i] < min_value and not visited[i]:\n",
    "            min_value = distance[i]\n",
    "            index = i\n",
    "    return index\n",
    "\n",
    "def dijkstra(start):\n",
    "    # 시작 노드에 대해서 초기화\n",
    "    distance[start] = 0\n",
    "    visited[start] = True\n",
    "    \n",
    "    for j in graph[start]:\n",
    "        distance[j[0]] = j[1]\n",
    "    \n",
    "    for i in range(n - 1):\n",
    "        # 현재 최단 거리가 가장 짧은 노드를 꺼내서, 방문 처리\n",
    "        now = get_smallest_node()\n",
    "        visited[now] = True\n",
    "        # 현재 노드와 연결된 다른 노드를 확인\n",
    "        for j in graph[now]:\n",
    "            distance[j[0]] = min(distance[now] + j[1], distance[j[0]])\n",
    "\n",
    "dijkstra(1)\n",
    "\n",
    "# 모든 노드로 가기 위한 최단 거리를 출력\n",
    "for i in range(1, n + 1):\n",
    "    # 도달할수업는 경우, 무한이라고 출력\n",
    "    if distance[i] == INF:\n",
    "        print('INFINITY')\n",
    "    # 도달할 수 있는 경우 거리를 출력\n",
    "    else:\n",
    "        print(i, '까지의 거리: ' ,distance[i])"
   ]
  },
  {
   "cell_type": "markdown",
   "metadata": {},
   "source": [
    "# 우선순위 큐\n",
    "우선순위가 가장높은 데이터를 가장 먼저 삭제한다는 점이 특징 \n",
    "\n",
    "PriorityQueue 혹은 heapq사용\n",
    "\n",
    "우선순위 큐 구현 방식\n",
    "\n",
    "           삽입    삭제\n",
    "    리스트 O(1)    O(N)\n",
    "    힙     O(logN) O(logN)"
   ]
  },
  {
   "cell_type": "code",
   "execution_count": 6,
   "metadata": {},
   "outputs": [
    {
     "name": "stdout",
     "output_type": "stream",
     "text": [
      "6 11\n",
      "1\n"
     ]
    }
   ],
   "source": [
    "n, m = map(int, input().split())\n",
    "start = int(input())"
   ]
  },
  {
   "cell_type": "code",
   "execution_count": 14,
   "metadata": {},
   "outputs": [
    {
     "name": "stdout",
     "output_type": "stream",
     "text": [
      "1 2 2\n",
      "1 3 5\n",
      "1 4 1\n",
      "2 3 3\n",
      "2 4 2\n",
      "3 2 3\n",
      "3 6 5\n",
      "4 3 3\n",
      "4 5 1\n",
      "5 3 1\n",
      "5 6 2\n"
     ]
    }
   ],
   "source": [
    "import heapq\n",
    "import sys\n",
    "#input = sys.stdin.readline\n",
    "INF = int(1e9)\n",
    "\n",
    "# 공간선언\n",
    "graph = [[] for _ in range(n+1)]\n",
    "visited = [False] *  (n+1)\n",
    "distance = [INF] * (n+1)\n",
    "\n",
    "#모든 간선 정보를 입력받기\n",
    "for _ in range(m):\n",
    "    a, b, c = map(int, input().split())\n",
    "    # a번 노드에서 b번 노드로 가능 비용이 c라는 의미\n",
    "    graph[a].append((b,c))"
   ]
  },
  {
   "cell_type": "code",
   "execution_count": 15,
   "metadata": {},
   "outputs": [
    {
     "name": "stdout",
     "output_type": "stream",
     "text": [
      "dist: 0 1\n",
      "1 2\n",
      "1 5\n",
      "1 1\n",
      "dist: 1 4\n",
      "4 4\n",
      "4 2\n",
      "dist: 2 2\n",
      "2 5\n",
      "2 4\n",
      "dist: 2 5\n",
      "5 3\n",
      "5 4\n",
      "dist: 3 3\n",
      "3 6\n",
      "3 8\n",
      "dist: 4 3\n",
      "dist: 4 6\n",
      "dist: 5 3\n",
      "1 까지의 거리:  0\n",
      "2 까지의 거리:  2\n",
      "3 까지의 거리:  3\n",
      "4 까지의 거리:  1\n",
      "5 까지의 거리:  2\n",
      "6 까지의 거리:  4\n"
     ]
    }
   ],
   "source": [
    "def dijkstra(start):\n",
    "    q = []\n",
    "    # 시작 노드로 가기 위한 최단경로를 0으로 설정하며, 큐에 삽입\n",
    "    heapq.heappush(q, (0, start))\n",
    "    distance[start] = 0\n",
    "    \n",
    "    while q: # 큐가 비어있지 않다면\n",
    "        # 가장 최단 거리가 짧은 노드에 대한 정보 꺼내기\n",
    "        dist, now = heapq.heappop(q)\n",
    "        print('dist:', dist, now)\n",
    "        # 현재 노드가 이미 처리된 적이 있는 노드라면 무시\n",
    "        if distance[now] < dist:\n",
    "            continue\n",
    "        # 현재 노드와 연결된 다른 인접합 노드들을 확인\n",
    "        for i in graph[now]:\n",
    "            cost = dist + i[1]\n",
    "            print(now, cost)\n",
    "            # 현재 노드를 거쳐서, 다른 노드를 이동하는 거리가 더 짧은 경우\n",
    "            if cost < distance[i[0]]:\n",
    "                distance[i[0]] = cost\n",
    "                \n",
    "                heapq.heappush(q, (cost, i[0]))\n",
    "\n",
    "# 다익스트라 알고리즘 수행\n",
    "dijkstra(start)\n",
    "        \n",
    "# 모든 노드로 가기 위한 최단 거리를 출력\n",
    "for i in range(1, n + 1):\n",
    "    # 도달할수업는 경우, 무한이라고 출력\n",
    "    if distance[i] == INF:\n",
    "        print('INFINITY')\n",
    "    # 도달할 수 있는 경우 거리를 출력\n",
    "    else:\n",
    "        print(i, '까지의 거리: ' ,distance[i])"
   ]
  },
  {
   "cell_type": "code",
   "execution_count": null,
   "metadata": {},
   "outputs": [],
   "source": []
  }
 ],
 "metadata": {
  "kernelspec": {
   "display_name": "Python 3",
   "language": "python",
   "name": "python3"
  },
  "language_info": {
   "codemirror_mode": {
    "name": "ipython",
    "version": 3
   },
   "file_extension": ".py",
   "mimetype": "text/x-python",
   "name": "python",
   "nbconvert_exporter": "python",
   "pygments_lexer": "ipython3",
   "version": "3.7.3"
  }
 },
 "nbformat": 4,
 "nbformat_minor": 4
}
