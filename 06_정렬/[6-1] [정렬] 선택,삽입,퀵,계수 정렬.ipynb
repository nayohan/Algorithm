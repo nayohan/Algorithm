{
 "cells": [
  {
   "cell_type": "markdown",
   "metadata": {},
   "source": [
    " # 정렬"
   ]
  },
  {
   "cell_type": "markdown",
   "metadata": {},
   "source": [
    "데이터를 특정한 기준에 따라서 순서대로 나열. "
   ]
  },
  {
   "cell_type": "markdown",
   "metadata": {},
   "source": [
    "# 선택 정렬"
   ]
  },
  {
   "cell_type": "markdown",
   "metadata": {},
   "source": [
    "가장작은데이터를 선택해 맨앞에 있는 데이터와 바꾸고, 그다음 작은데이터를 선택해 앞에서 두번째 데이터와 바꾸는 방법 O(N^2)"
   ]
  },
  {
   "cell_type": "code",
   "execution_count": 2,
   "metadata": {},
   "outputs": [
    {
     "name": "stdout",
     "output_type": "stream",
     "text": [
      "[0, 1, 2, 3, 4, 5, 6, 7, 8, 9]\n"
     ]
    }
   ],
   "source": [
    "array = [7, 5, 9, 0, 3, 1, 6, 2, 4, 8]\n",
    "\n",
    "for i in range(len(array)):\n",
    "    min_index = i\n",
    "    for j in range(i+1, len(array)):\n",
    "        if array[min_index] > array[j]:\n",
    "            min_index = j\n",
    "    array[i], array[min_index] = array[min_index], array[i]\n",
    "\n",
    "print(array)"
   ]
  },
  {
   "cell_type": "code",
   "execution_count": 3,
   "metadata": {},
   "outputs": [
    {
     "name": "stdout",
     "output_type": "stream",
     "text": [
      "[5, 3]\n"
     ]
    }
   ],
   "source": [
    "array = [3, 5]\n",
    "array[0], array[1] = array[1], array[0]\n",
    "print(array)"
   ]
  },
  {
   "cell_type": "markdown",
   "metadata": {},
   "source": [
    "# 삽입 정렬"
   ]
  },
  {
   "cell_type": "markdown",
   "metadata": {},
   "source": [
    "앞에서부터 순차적으로 원소를 적절한 위치에 '삽입'한다는 의미, 앞에서부터 순차 정렬 O(N^2)"
   ]
  },
  {
   "cell_type": "code",
   "execution_count": 4,
   "metadata": {},
   "outputs": [
    {
     "name": "stdout",
     "output_type": "stream",
     "text": [
      "[0, 1, 2, 3, 4, 5, 6, 7, 8, 9]\n"
     ]
    }
   ],
   "source": [
    "array = [7, 5, 9, 0, 3, 1, 6, 2, 4, 8]\n",
    "\n",
    "for i in range(1, len(array)):\n",
    "    for j in range(i, 0, -1):\n",
    "        if array[j] < array[j-1]:\n",
    "            array[j], array[j-1] = array[j-1], array[j]\n",
    "        else:\n",
    "            break\n",
    "print(array)           "
   ]
  },
  {
   "cell_type": "markdown",
   "metadata": {},
   "source": [
    "# 병합정렬"
   ]
  },
  {
   "cell_type": "markdown",
   "metadata": {},
   "source": [
    "# 퀵 정렬"
   ]
  },
  {
   "cell_type": "markdown",
   "metadata": {},
   "source": [
    "피벗을 기준으로, 정렬하고, 리스트를 분할하는 방법  O(NlogN)"
   ]
  },
  {
   "cell_type": "code",
   "execution_count": 9,
   "metadata": {},
   "outputs": [
    {
     "name": "stdout",
     "output_type": "stream",
     "text": [
      "[0, 1, 2, 3, 4, 5, 6, 7, 8, 9]\n"
     ]
    }
   ],
   "source": [
    "array = [5, 7, 9, 0, 3, 1, 6, 2, 4, 8]\n",
    "\n",
    "def quick_sort(array, start, end):\n",
    "    if start>= end:\n",
    "        return \n",
    "    \n",
    "    pivot = start # 피벗은 첫 번째 원소\n",
    "    left = start + 1\n",
    "    right = end\n",
    "    \n",
    "    while left <= right:\n",
    "        #피벗보타 큰 데이터를 찾을때까지 반복\n",
    "        while left <= end and array[left] <= array[pivot]:\n",
    "            left += 1\n",
    "            \n",
    "        #피벗보다 작은 데이터를 찾을때까지 반복\n",
    "        while right > start and array[right] >= array[pivot]:\n",
    "            right -= 1\n",
    "\n",
    "        if left > right:\n",
    "            array[right], array[pivot] = array[pivot], array[right]\n",
    "        else:\n",
    "            array[left], array[right] = array[right], array[left]\n",
    "        \n",
    "    quick_sort(array, start, right-1)\n",
    "    quick_sort(array, right + 1, end)\n",
    "    \n",
    "quick_sort(array, 0, len(array)-1)\n",
    "print(array)"
   ]
  },
  {
   "cell_type": "code",
   "execution_count": 11,
   "metadata": {},
   "outputs": [
    {
     "name": "stdout",
     "output_type": "stream",
     "text": [
      "[0, 1, 2, 3, 4, 5, 6, 7, 8, 9]\n"
     ]
    }
   ],
   "source": [
    "array = [5, 7, 9, 0, 3, 1, 6, 2, 4, 8]\n",
    "\n",
    "def quick_sort(array):\n",
    "    # 리스트가 하나 이하의 원소만을 담고 있다면 종료\n",
    "    if len(array) <= 1:\n",
    "        return array\n",
    "    \n",
    "    pivot = array[0] # 피벗은 첫 번째 원소\n",
    "    tail = array[1:] # 피벗을 제외한 리스트\n",
    "    \n",
    "    left_side = [x for x in tail if x<= pivot] # 분할된 왼쪽 부분\n",
    "    right_side = [x for x in tail if x>pivot] # 분할된 오른쪽 부분\n",
    "    \n",
    "    # 분할 이후 왼쪽 부분과 오른쪽 부분에서 각각 정렬을 수행하고, 전체리스트를 반환\n",
    "    return quick_sort(left_side) + [pivot] + quick_sort(right_side)\n",
    "\n",
    "print(quick_sort(array))\n",
    "    "
   ]
  },
  {
   "cell_type": "markdown",
   "metadata": {},
   "source": [
    "# 계수정렬"
   ]
  },
  {
   "cell_type": "markdown",
   "metadata": {},
   "source": [
    "모든 범위를 담은 리스트를 이용하여 정렬에 대한 정보를 담아서 정렬 O(N+K)"
   ]
  },
  {
   "cell_type": "code",
   "execution_count": 14,
   "metadata": {},
   "outputs": [
    {
     "name": "stdout",
     "output_type": "stream",
     "text": [
      "0 0 1 1 2 2 3 4 5 5 6 7 8 9 9 "
     ]
    }
   ],
   "source": [
    "# 모든 원소의 값이 0보다 크거나 같다고 가정\n",
    "array = [7, 5, 9, 0, 3, 1, 6, 2, 9, 1, 4, 8, 0, 5, 2]\n",
    "# 모든 범위를 포함하는 리스트 선언(모든 값은 0으로 초기화)\n",
    "count = [0] * (max(array) +1)\n",
    "\n",
    "for i in range(len(array)):\n",
    "    count[array[i]] +=1 # 각 데이터에 해당하는 인덱스의 값 증가\n",
    "\n",
    "for i in range(len(count)):\n",
    "    for j in range(count[i]):\n",
    "        print(i, end=' ') # 띄어쓰기를 구분으로 등장한 횟수만큼 인덱스 출력"
   ]
  },
  {
   "cell_type": "markdown",
   "metadata": {},
   "source": [
    "# 파이썬 정렬 라이브러리"
   ]
  },
  {
   "cell_type": "markdown",
   "metadata": {},
   "source": [
    "sorted() #퀵정렬(최악 N^2) 과 비슷한 병합정렬(최악NlogN) 기반."
   ]
  },
  {
   "cell_type": "code",
   "execution_count": 15,
   "metadata": {},
   "outputs": [
    {
     "name": "stdout",
     "output_type": "stream",
     "text": [
      "[0, 1, 2, 3, 4, 5, 6, 7, 8, 9]\n"
     ]
    }
   ],
   "source": [
    "array = [7, 5, 9, 0, 3, 1, 6, 2, 4, 8]\n",
    "result = sorted(array)\n",
    "print(result)"
   ]
  },
  {
   "cell_type": "code",
   "execution_count": 16,
   "metadata": {},
   "outputs": [
    {
     "name": "stdout",
     "output_type": "stream",
     "text": [
      "[0, 1, 2, 3, 4, 5, 6, 7, 8, 9]\n"
     ]
    }
   ],
   "source": [
    "array.sort()\n",
    "print(array)"
   ]
  },
  {
   "cell_type": "code",
   "execution_count": 18,
   "metadata": {},
   "outputs": [
    {
     "name": "stdout",
     "output_type": "stream",
     "text": [
      "[('바나나', 2), ('당근', 3), ('사과', 5)]\n"
     ]
    }
   ],
   "source": [
    "array = [('바나나', 2), ('사과', 5), ('당근', 3)]\n",
    "def setting(data):\n",
    "    return data[1]\n",
    "\n",
    "result = sorted(array, key=setting)\n",
    "print(result)"
   ]
  },
  {
   "cell_type": "code",
   "execution_count": null,
   "metadata": {},
   "outputs": [],
   "source": []
  }
 ],
 "metadata": {
  "kernelspec": {
   "display_name": "Python 3",
   "language": "python",
   "name": "python3"
  },
  "language_info": {
   "codemirror_mode": {
    "name": "ipython",
    "version": 3
   },
   "file_extension": ".py",
   "mimetype": "text/x-python",
   "name": "python",
   "nbconvert_exporter": "python",
   "pygments_lexer": "ipython3",
   "version": "3.6.9"
  }
 },
 "nbformat": 4,
 "nbformat_minor": 4
}
