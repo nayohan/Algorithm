{
 "cells": [
  {
   "cell_type": "markdown",
   "metadata": {},
   "source": [
    "# 순차 탐색"
   ]
  },
  {
   "cell_type": "markdown",
   "metadata": {},
   "source": [
    "리스트 안에 있는 특정한 데이터를 찾기 위해 앞에서부터 데이터를 하나씩 차례대로 확인하는 방법 O(N)"
   ]
  },
  {
   "cell_type": "code",
   "execution_count": 1,
   "metadata": {},
   "outputs": [
    {
     "name": "stdout",
     "output_type": "stream",
     "text": [
      "생성할 원소 개수를 입력한 다음 한칸 뛰고 찾을 문자열을 입력하시오\n",
      "5 yohan\n",
      "앞서 적은 원소 개수만큼 문자열을 입력하세요. 구분은 띄어쓰기 한 칸으로 합니다.\n",
      "make rulu rala yohan minguk\n",
      "4\n"
     ]
    }
   ],
   "source": [
    "# 순차 탐색 소스코드 구현\n",
    "def sequential_search(n, target, array):\n",
    "    # 각 원소를 하나씩 확인하며\n",
    "    for i in range(n):\n",
    "        # 현재의 원소가 찾고자 하는 원소 와 동일한 경우\n",
    "        if array[i] == target:\n",
    "            return i + 1 # 현재의 위치 반환(인덱스 0 부터 시작하므로 1 더하기)\n",
    "\n",
    "print(\"생성할 원소 개수를 입력한 다음 한칸 뛰고 찾을 문자열을 입력하시오\")\n",
    "input_data = input().split()\n",
    "n = int(input_data[0]) # 원소의 개수\n",
    "target = input_data[1] # 찾고자하는 문자열\n",
    "\n",
    "print(\"앞서 적은 원소 개수만큼 문자열을 입력하세요. 구분은 띄어쓰기 한 칸으로 합니다.\")\n",
    "array = input().split()\n",
    "\n",
    "# 순차 탐색 수행 결과 출력\n",
    "print(sequential_search(n, target, array))"
   ]
  },
  {
   "cell_type": "markdown",
   "metadata": {},
   "source": [
    "# 이진탐색"
   ]
  },
  {
   "cell_type": "markdown",
   "metadata": {},
   "source": [
    "정렬되어 있는 데이터에서 찾으려는 데이터와 중간점 위치에 있는 데이터를 반복적으로 비교해서 원하는 데이터를 찾는과정"
   ]
  },
  {
   "cell_type": "markdown",
   "metadata": {},
   "source": [
    "##### 재귀함수"
   ]
  },
  {
   "cell_type": "code",
   "execution_count": 5,
   "metadata": {},
   "outputs": [
    {
     "name": "stdout",
     "output_type": "stream",
     "text": [
      "10 7\n",
      "1 3 5 7 9 11 13 15 17 19\n",
      "4\n"
     ]
    }
   ],
   "source": [
    "# 이진 탐색 소스코드 구현(재귀 함수)\n",
    "def binary_search(array, target, start, end):\n",
    "    if start>end:\n",
    "        return None\n",
    "    mid = (start + end) // 2\n",
    "    \n",
    "    # 찾은 경우 중간점 인덱스 반환\n",
    "    if array[mid] == target:\n",
    "        return mid\n",
    "    \n",
    "    elif array[mid] > target:\n",
    "        return binary_search(array, target, start, mid-1)\n",
    "    else:\n",
    "        return binary_search(array, target, mid+1, end)\n",
    "    \n",
    "n, target = list(map(int, input().split()))\n",
    "array = list(map(int, input().split()))\n",
    "\n",
    "result = binary_search(array, target, 0, n-1)\n",
    "if result==None:\n",
    "    print(\"원소가 존재 하지 않습니다\")\n",
    "else:\n",
    "    print(result + 1)"
   ]
  },
  {
   "cell_type": "markdown",
   "metadata": {},
   "source": [
    "##### 반복문"
   ]
  },
  {
   "cell_type": "code",
   "execution_count": 11,
   "metadata": {},
   "outputs": [
    {
     "name": "stdout",
     "output_type": "stream",
     "text": [
      "10 7\n",
      "1 3 5 7 9 11 13 15 17 19\n",
      "4\n"
     ]
    }
   ],
   "source": [
    "# 이진 탐색 소스코드 구현(반복문)\n",
    "def binary_search(array, target, start, end):\n",
    "    while start <= end:\n",
    "        mid = (start + end) // 2\n",
    "        #print(mid)\n",
    "        # 찾은 경우 중간점 인덱스 반환\n",
    "        if array[mid] == target:\n",
    "            return mid\n",
    "        # 중간점의 값보다 찾고자 하는 값이 작은 경우 왼쪽 확인\n",
    "        elif array[mid] > target:\n",
    "            end = mid - 1\n",
    "        # 중간점의 값보다 찾고자 하는 값이 큰 경우 오른쪽 확인\n",
    "        else:\n",
    "            start = mid +1\n",
    "    return None\n",
    "\n",
    "# 전체 원소 입력하기\n",
    "n, target = list(map(int, input().split()))\n",
    "array = list(map(int, input().split()))\n",
    "\n",
    "# 이진 탐색 수행 결과 출력\n",
    "result = binary_search(array, target, 0, n-1)\n",
    "\n",
    "if result == None:\n",
    "    print(\"원소가 존재하지 않습니다.\")\n",
    "else: \n",
    "    print(result+1)"
   ]
  },
  {
   "cell_type": "markdown",
   "metadata": {},
   "source": [
    "# 트리 자료구조"
   ]
  },
  {
   "cell_type": "markdown",
   "metadata": {},
   "source": [
    " - 트리는 부모노드와 자식노드의 관계로 표현된다.\n",
    " - 트리의 최상단 노드를 루트 노드라고 한다.\n",
    " - 트리의 최하단 노드를 단말 노드라고 한다.\n",
    " - 트리의 일부를 떼어내도 트리 구조이며 이를 서브 트리라 한다.\n",
    " - 트리는 파일 시스템 같이 계층적이고 정렬된 데이터를 다루기에 적합하다."
   ]
  },
  {
   "cell_type": "markdown",
   "metadata": {},
   "source": [
    "# 이진 탐색 트리"
   ]
  },
  {
   "cell_type": "markdown",
   "metadata": {},
   "source": [
    "- 부모노드보다 왼쪽 자식노드가 작다\n",
    "- 부모노드보다 오른쪽 자식 노드가 크다"
   ]
  },
  {
   "cell_type": "markdown",
   "metadata": {},
   "source": [
    "# 빠르게 입력받기"
   ]
  },
  {
   "cell_type": "code",
   "execution_count": 13,
   "metadata": {},
   "outputs": [
    {
     "name": "stdout",
     "output_type": "stream",
     "text": [
      "\n"
     ]
    }
   ],
   "source": [
    "import sys\n",
    "# 하나의 문자열 데이터 입력받기\n",
    "input_data = sys.stdin.readline().rstrip()\n",
    "print(input_data)"
   ]
  }
 ],
 "metadata": {
  "kernelspec": {
   "display_name": "Python 3",
   "language": "python",
   "name": "python3"
  },
  "language_info": {
   "codemirror_mode": {
    "name": "ipython",
    "version": 3
   },
   "file_extension": ".py",
   "mimetype": "text/x-python",
   "name": "python",
   "nbconvert_exporter": "python",
   "pygments_lexer": "ipython3",
   "version": "3.6.9"
  }
 },
 "nbformat": 4,
 "nbformat_minor": 4
}
