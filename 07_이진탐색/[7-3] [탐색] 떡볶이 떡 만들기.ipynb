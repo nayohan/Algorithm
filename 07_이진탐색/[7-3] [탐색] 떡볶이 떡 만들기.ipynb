{
 "cells": [
  {
   "cell_type": "markdown",
   "metadata": {},
   "source": [
    "# 떡볶이 떡 만들기\n",
    "오늘 동빈이는 여행 가신 부모님을 대신해서 떡집 일을 하기로 했다. 오늘은 떡복이 떡을 만드는 날이다. 동빈이네 떡볶이 떡을 만드는 날이다. 동빈이네 떡볶이 떡은 재밌게도 떡볶이 떡의 길이가 일정하지 않다. 대신에 한 봉지 안에 들어가는 떡의 총 길이는 절단기로 잘라서 맞춰준다.\n",
    "\n",
    "절단기에 높이(H)를 지정하면 줄지어진 떡을 한 번에 절단한다. 높이가 H보다 긴 떡은 H 위의 부분이 잘릴 것이고, 낮은 떡은 잘리지 않는다. \n",
    "\n",
    "예를 들어 높이가 19, 14, 10, 17cm인 떡이 나란히 있고 절단기 높이를 15cm로 지정하면 자른 뒤 떡의 높이는 15, 14, 10, 15cm가 될 것이다. 잘린 떡의 길이는 차례대로 4, 0, 0, 2cm이다. 손님은 6cm만큼의 길이를 가져간다.\n",
    "\n",
    "손님이 왔을 때 요청한 총 길이가 M일 때 적어도 M만큼 떡을 얻기 위해 절단기에 설정할 수 있는 높이의 최댓값을 구하는 프로그램을 작성하시오."
   ]
  },
  {
   "cell_type": "code",
   "execution_count": null,
   "metadata": {},
   "outputs": [],
   "source": [
    "입력\n",
    "첫째줄 : 떡의 개수 N과 요청한 떡의 길이 M이 주어진다.(1 <= N <= 1,000,000, 1 <= M <= 2,000,000,000)\n",
    "    \n",
    "둘째줄 : 떡의 개별 높이가 주어진다. 떡 높이의 총합은 항상 M이상이므로, 손님은 필요한 양만큼 떡을 사갈 수 있다. \n",
    "         높이는 10억보다 작거나 같은 양의 정소 또는 0이다.\n",
    "\n",
    "입력 예시\n",
    "4 6\n",
    "19 15 10 17"
   ]
  },
  {
   "cell_type": "code",
   "execution_count": null,
   "metadata": {},
   "outputs": [],
   "source": [
    "출력\n",
    "적어도 M만큼 떡을 집에 가져가기 위해 절단기에 설정할 수 있는 높이의 최댓값을 출력한다.\n",
    "\n",
    "출력 예시\n",
    "15"
   ]
  },
  {
   "cell_type": "markdown",
   "metadata": {},
   "source": [
    "# 풀이"
   ]
  },
  {
   "cell_type": "code",
   "execution_count": 26,
   "metadata": {},
   "outputs": [
    {
     "name": "stdout",
     "output_type": "stream",
     "text": [
      "4 6\n",
      "19 15 10 17\n"
     ]
    }
   ],
   "source": [
    "n, m = map(int, input().split())\n",
    "arr = list(map(int, input().split()))"
   ]
  },
  {
   "cell_type": "code",
   "execution_count": 37,
   "metadata": {},
   "outputs": [
    {
     "name": "stdout",
     "output_type": "stream",
     "text": [
      "10 19\n",
      "i= 19\n",
      "i= 18\n",
      "i= 17\n",
      "i= 16\n",
      "i= 15\n",
      "15\n",
      " \n",
      "25\n",
      "mid= 9\n",
      "9\n",
      "mid= 14\n",
      "2\n",
      "mid= 17\n",
      "6\n",
      "mid= 15\n",
      "15\n"
     ]
    }
   ],
   "source": [
    "# 1. 절단기 범위 구하기,\n",
    "#least = min(arr)\n",
    "maximum = max(arr)\n",
    "print(least, maximum)\n",
    "\n",
    "# 2. 길이구하기\n",
    "def ReLU(i):\n",
    "    return i if i>0 else 0\n",
    "    \n",
    "def calc_len(cut):\n",
    "    c_sum = 0\n",
    "    for elem in arr:\n",
    "        c_sum += ReLU(elem-cut)\n",
    "    return c_sum\n",
    "\n",
    "# 3. 순차탐색, 조건 최소M\n",
    "for i in range(maximum, 0, -1):\n",
    "    print('i=',i)\n",
    "    if m <= calc_len(i):\n",
    "        print(i)\n",
    "        break\n",
    "print(' ')\n",
    "\n",
    "# 4. 번외 이진탐색, \n",
    "def binary_search(array, target, start, end):\n",
    "    while start < end:\n",
    "        mid = (start+end) // 2\n",
    "        \n",
    "        print(calc_len(mid))\n",
    "        print('mid=', mid)\n",
    "        if calc_len(mid) > target:\n",
    "            start = mid + 1\n",
    "        else:\n",
    "            end = mid - 1\n",
    "    return mid\n",
    "print(binary_search(arr, m, 0, max(arr)))"
   ]
  },
  {
   "cell_type": "markdown",
   "metadata": {},
   "source": [
    "# 정답"
   ]
  },
  {
   "cell_type": "code",
   "execution_count": 39,
   "metadata": {
    "scrolled": true
   },
   "outputs": [
    {
     "name": "stdout",
     "output_type": "stream",
     "text": [
      "4 6\n",
      "19 15 10 17\n",
      "15\n"
     ]
    }
   ],
   "source": [
    "n, m = list(map(int, input().split()))\n",
    "array = list(map(int, input().split()))\n",
    "\n",
    "start = 0\n",
    "end = max(array)\n",
    "\n",
    "result = 0\n",
    "while(start <= end):\n",
    "    total = 0\n",
    "    mid = (start + end) // 2\n",
    "    \n",
    "    for x in array:\n",
    "        if x > mid:\n",
    "            total += x - mid\n",
    "    if total < m:\n",
    "        end = mid - 1\n",
    "    else:\n",
    "        result = mid\n",
    "        start = mid + 1\n",
    "        \n",
    "print(result)"
   ]
  },
  {
   "cell_type": "markdown",
   "metadata": {},
   "source": [
    "# 정리"
   ]
  },
  {
   "cell_type": "markdown",
   "metadata": {},
   "source": [
    "원하는 조건을 만족하는 가장 알맞은 값을 찾는 문제에 주로 파라메트릭 서치사용. \n",
    "함수없이 깔끔히 쓰는 것도 방법"
   ]
  },
  {
   "cell_type": "code",
   "execution_count": null,
   "metadata": {},
   "outputs": [],
   "source": []
  }
 ],
 "metadata": {
  "kernelspec": {
   "display_name": "Python 3",
   "language": "python",
   "name": "python3"
  },
  "language_info": {
   "codemirror_mode": {
    "name": "ipython",
    "version": 3
   },
   "file_extension": ".py",
   "mimetype": "text/x-python",
   "name": "python",
   "nbconvert_exporter": "python",
   "pygments_lexer": "ipython3",
   "version": "3.6.9"
  }
 },
 "nbformat": 4,
 "nbformat_minor": 4
}
