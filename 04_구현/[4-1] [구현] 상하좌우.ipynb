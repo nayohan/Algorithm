{
 "cells": [
  {
   "cell_type": "markdown",
   "metadata": {},
   "source": [
    "# 상하좌우\n",
    "여행가 A는 N X N 크기의 정사각형 공간 위에 서 있다. 이 공간은 1 X 1 크기의 정사각형으로 나누어져 잇다. 가장 횐쪽 위 좌표는 (1, 1)이며, 가장 오른쪽 아래는 (N, N)에 해당한다.\n",
    "여행가 A는 상,하,좌,우 방향으로 이동할 수 있으며, 시작 좌표는 항상 (1,1)이다. 우리 앞에는 여행가 A가 이동할 계획이 적힌 계획서가 놓여있다.\n",
    "\n",
    "계획서에는 하나의 줄에 띄어쓰기를 기준으로 하여 L, R, U, D중 하나의 문자가 반복적으로 적혀있다. 각 문자의 의미는 좌, 우, 상, 하 이다.\n",
    "\n",
    "이때 여행가 A가 N x N 크기의 정사각형 공간을 벗어나는 움직임은 무시된다. 예를 들어 (1, 1)의 위치에서 L 혹은 U를 만나면 무시된다. 다음은  N = 5인 지도와 계획서이다.\n",
    "\n",
    "R -> R -> R -> U -> D -> D\n",
    "\n",
    "이경우 U는 공간 밖이므로 무시된다. 여행가는 최종적으로 (1,1)에서 출발해 (3,4)에 도착하게된다. 계획서가 주어졌을 때 여행가 A가 최종적으로 도착할 지점의 좌표를 출력하는 프로그램을 작성하시오."
   ]
  },
  {
   "cell_type": "code",
   "execution_count": null,
   "metadata": {},
   "outputs": [],
   "source": [
    "입력\n",
    "첫째줄 : 공간의 크기를 나타내는 N (1 <= N <= 100)\n",
    "둘째줄 : 여행가 A가 이동할 계획서의 내용 (1 <= 이동횟수 <= 100)\n",
    "\n",
    "입력 예시\n",
    "5\n",
    "R R R U D D"
   ]
  },
  {
   "cell_type": "code",
   "execution_count": null,
   "metadata": {},
   "outputs": [],
   "source": [
    "출력\n",
    "첫째 줄 : 여행가 A가 최종적으로 도착할 지점의 좌표 (X, Y)를 공백 구분 출력\n",
    "    \n",
    "출력 예시\n",
    "3 4"
   ]
  },
  {
   "cell_type": "markdown",
   "metadata": {},
   "source": [
    "# 풀이"
   ]
  },
  {
   "cell_type": "code",
   "execution_count": 54,
   "metadata": {
    "scrolled": true
   },
   "outputs": [
    {
     "name": "stdout",
     "output_type": "stream",
     "text": [
      "5\n",
      "R R R U D D\n"
     ]
    }
   ],
   "source": [
    "n = int(input())\n",
    "plan = list(map(str, input().split()))"
   ]
  },
  {
   "cell_type": "code",
   "execution_count": 81,
   "metadata": {},
   "outputs": [],
   "source": [
    "def move(v, x, y):\n",
    "    return {\n",
    "        'L': map(int, (x-1, y)),\n",
    "        'R': map(int, (x+1, y)),\n",
    "        'U': map(int, (x, y-1)),\n",
    "        'D': map(int, (x, y+1))\n",
    "    }.get(v, 0)"
   ]
  },
  {
   "cell_type": "code",
   "execution_count": 82,
   "metadata": {},
   "outputs": [
    {
     "name": "stdout",
     "output_type": "stream",
     "text": [
      "3 4\n"
     ]
    }
   ],
   "source": [
    "x, y = 1, 1\n",
    "for i in range(len(plan)):\n",
    "    x, y = move(plan[i],x,y)\n",
    "    \n",
    "    if x < 1:  x = 1\n",
    "    elif x > n: x = n\n",
    "    if y < 1: y = 1\n",
    "    elif y > n: y = n\n",
    "        \n",
    "print(y, x)"
   ]
  },
  {
   "cell_type": "markdown",
   "metadata": {},
   "source": [
    "# 정답"
   ]
  },
  {
   "cell_type": "code",
   "execution_count": 89,
   "metadata": {},
   "outputs": [
    {
     "name": "stdout",
     "output_type": "stream",
     "text": [
      "3 4\n"
     ]
    }
   ],
   "source": [
    "n = int(input())\n",
    "plan = list(map(str, input().split()))\n",
    "\n",
    "def move(v, x, y):\n",
    "    return {\n",
    "        'L': map(int, (x-1, y)),\n",
    "        'R': map(int, (x+1, y)),\n",
    "        'U': map(int, (x, y-1)),\n",
    "        'D': map(int, (x, y+1))\n",
    "    }.get(v, 0)\n",
    "\n",
    "x, y = 1, 1\n",
    "for i in range(len(plan)):\n",
    "    nx, ny = move(plan[i],x,y)\n",
    "    \n",
    "    if nx<1 or nx>n or ny<1 or ny>n:\n",
    "        continue\n",
    "    x, y = nx, ny\n",
    "    \n",
    "print(y, x)"
   ]
  },
  {
   "cell_type": "markdown",
   "metadata": {},
   "source": [
    "# 정리"
   ]
  },
  {
   "cell_type": "markdown",
   "metadata": {},
   "source": [
    "정답보다 내코드가 나은거 같아서 정답에서 코드를 간략화할수 있는 부분만 가져옴. nx, ny를 이용해서, x, y를 업데이트하면, 업데이트를 간편히 할수있다."
   ]
  }
 ],
 "metadata": {
  "kernelspec": {
   "display_name": "Python 3",
   "language": "python",
   "name": "python3"
  },
  "language_info": {
   "codemirror_mode": {
    "name": "ipython",
    "version": 3
   },
   "file_extension": ".py",
   "mimetype": "text/x-python",
   "name": "python",
   "nbconvert_exporter": "python",
   "pygments_lexer": "ipython3",
   "version": "3.6.9"
  }
 },
 "nbformat": 4,
 "nbformat_minor": 4
}
