{
 "cells": [
  {
   "cell_type": "markdown",
   "metadata": {},
   "source": [
    "# 왕실의 나이트\n",
    "행복 왕국의 왕실 정원은 체스판과 같은 8x8 좌표평면이다. 왕실 정원의 특정한 한 칸에 나이트가 서 있다. 나이트는 매우 충성스러운 신하로서 매일 무술을 연마한다. \n",
    "나이트는 말을 타고 잇기 때문에 이동을 할때 L자, 형태로 만 이동할 수 있으며 정원 밖으로는 나갈 수 없다. 나이트는 특정한 위치에서 다음과 같은 2가지 경우로 이동할 수 있다.\n",
    "\n",
    "1. 수평으로 두 칸 이동한 뒤에 수직으로 한 칸 이동하기\n",
    "2. 수직으로 두 칸 이동한 뒤에 수평으로 한 칸 이동하기\n",
    "\n",
    "이처럼 8x8 좌표평면 상에서 나이트의 위치가 주어졌을때 나이트가 이동할 수 있는 경우의 수를 출력하는 프로그램을 완성하시오. 이때 왕실의 정원에서 행 위치를 표현할 때는 1부터 8로 표현하며, 열 위치를 표현할 때는 a부터 h로 표현한다.\n",
    "\n",
    "예를 들어 만약 나이트라 a1에 있을때 이동할 수 잇는 경우의 수는 다음 2가지(c2, b3)이다. a1의 위치는 좌표 평면에서 구석의 위치에 해당하며 나이트는 정원의 밖으로는 나갈 수 없기 때문이다.\n",
    "\n",
    "또 다른 예로 나이트가 c2에 위치해 있다면 나이트가 이동할 수 있는 경우의 수는 6가지이다."
   ]
  },
  {
   "cell_type": "markdown",
   "metadata": {},
   "source": [
    "입력\n",
    "첫째줄 : 8x8 좌표평면상에서 현재 나이트가 위치한 곳의 좌표를 나타내는 두 문자로 구성된 문자열\n",
    "\n",
    "입력 예시\n",
    "a1"
   ]
  },
  {
   "cell_type": "markdown",
   "metadata": {},
   "source": [
    "출력\n",
    "첫째줄 : 나이트가 이동할 수 있는 경우의 수\n",
    "\n",
    "출력 예시\n",
    "2"
   ]
  },
  {
   "cell_type": "markdown",
   "metadata": {},
   "source": [
    "# 풀이"
   ]
  },
  {
   "cell_type": "code",
   "execution_count": 5,
   "metadata": {
    "scrolled": false
   },
   "outputs": [
    {
     "name": "stdout",
     "output_type": "stream",
     "text": [
      "a1\n"
     ]
    }
   ],
   "source": [
    "n = input()"
   ]
  },
  {
   "cell_type": "code",
   "execution_count": 6,
   "metadata": {},
   "outputs": [
    {
     "name": "stdout",
     "output_type": "stream",
     "text": [
      "2\n"
     ]
    }
   ],
   "source": [
    "dic = {'a':1, 'b':2, 'c':3, 'd':4, 'e':5, 'f':6, 'g':7, 'h':8}\n",
    "x = dic[n[0]]\n",
    "y = int(n[1])\n",
    "\n",
    "step = [[2, 2, 1, 1, -2, -2, -1, -1], [1, -1, 2, -2, 1, -1, 2, -2]]\n",
    "\n",
    "count = 0\n",
    "for i in range(0, 8):\n",
    "    nx = x + step[0][i]\n",
    "    ny = y + step[1][i]\n",
    "    #print(nx, ny)\n",
    "    \n",
    "    if nx<=0 or nx>8 or ny<=0 or ny>8:\n",
    "        continue\n",
    "    count += 1\n",
    "    \n",
    "print(count)"
   ]
  },
  {
   "cell_type": "code",
   "execution_count": 7,
   "metadata": {},
   "outputs": [
    {
     "name": "stdout",
     "output_type": "stream",
     "text": [
      "1 1\n"
     ]
    }
   ],
   "source": [
    "print(x,y)"
   ]
  },
  {
   "cell_type": "markdown",
   "metadata": {},
   "source": [
    "# 정답"
   ]
  },
  {
   "cell_type": "code",
   "execution_count": null,
   "metadata": {
    "scrolled": true
   },
   "outputs": [],
   "source": [
    "input_data = input()\n",
    "row = int(input_data[1])\n",
    "col = int(ord(input_data[0]) - int(ord('a'))) + 1\n",
    "\n",
    "step = [(-2, -1), (-1, -2), (1, -2), (2, -1), (2, 1), (1, 2), (-1, 2), (-2, 1)]\n",
    "\n",
    "result = 0\n",
    "for step in steps:\n",
    "    next_row = row + step[0]\n",
    "    next_col = col + step[1]\n",
    "    \n",
    "    if next_row >= 1 and new_row <=8 and next_column >=1 and next_column <=8:\n",
    "        result += 1\n",
    "\n",
    "print(result)"
   ]
  },
  {
   "cell_type": "markdown",
   "metadata": {},
   "source": [
    "# 정리"
   ]
  },
  {
   "cell_type": "markdown",
   "metadata": {},
   "source": [
    "구현아이디어는 비슷. 다만 ord함수를 이용해서 character->int하는 방법, step을 1차원배열의 튜플을 이용하였다. 훨씬더 단순하다. 마지막 범위도 continue대신 범위안에 있으면 count로 구현"
   ]
  },
  {
   "cell_type": "code",
   "execution_count": null,
   "metadata": {},
   "outputs": [],
   "source": []
  }
 ],
 "metadata": {
  "kernelspec": {
   "display_name": "Python 3",
   "language": "python",
   "name": "python3"
  },
  "language_info": {
   "codemirror_mode": {
    "name": "ipython",
    "version": 3
   },
   "file_extension": ".py",
   "mimetype": "text/x-python",
   "name": "python",
   "nbconvert_exporter": "python",
   "pygments_lexer": "ipython3",
   "version": "3.6.9"
  }
 },
 "nbformat": 4,
 "nbformat_minor": 4
}
