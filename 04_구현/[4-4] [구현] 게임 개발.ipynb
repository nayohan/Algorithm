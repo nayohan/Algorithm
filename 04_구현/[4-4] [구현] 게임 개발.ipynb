{
 "cells": [
  {
   "cell_type": "markdown",
   "metadata": {},
   "source": [
    "# 게임 개발\n",
    "현민이는 게임 캐릭터가 맵 안에서 움직이는 시스템을 개발 중이다. 캐릭터가 있느 장소는 1x1크기의 정사각형으로 이뤄진 N x M 크기의 직사각형으로, 각각의 칸은 육지 또는 바다이다. 캐릭터는 동서남북 중 한 곳을 바라본다.\n",
    "\n",
    "맵의 각 칸은 (A, B)로 나타낼 수 잇고, A는 북쪽으로부터 떨어진 칸의 개수, B는 서쪽으로부터 떨어진 칸의 개 수이다. 캐릭터는 상하좌우로 움직일 수 잇고, 바다로 되어 있는 공간에는 갈 수 없다.\n",
    "캐릭터의 움직임을 설정하기 위해 정해 놓은 매뉴얼은 이러하다.\n",
    "\n",
    "1. 현재 위치에서 현재 방향을 기준으로 왼쪽 방향(반시계 방향으로 90도 회전한 방향)부터 차례대로 갈 곳을 정한다.\n",
    "\n",
    "2. 캐릭터의 바로 왼쪽 방향에 아직 가보지 않은 칸이 존재한다면, 왼쪽 방향으로 회전한 다음 왼쪽으로 한 칸을 전진한다. 왼쪽 방향에 가보지 않은 칸이 없다면, 왼쪽 방향으로 회전만 수행하고 1단계로 돌아간다. \n",
    "\n",
    "3. 만약 네 방향 모두 이미 가본 칸이거나 바다로 되어 있는 칸이 경우에는, 바라보는 방향을 유지한 채로 한 칸 뒤로 가고 1단계로 돌아간다. 단, 이때 뒤쪽 방향이 바다인 칸이라 뒤로 갈 수 없는 경우에는 움직임을 멈춘다.\n",
    "\n",
    "현민이는 위 과정을 반복적으로 수행하면서 캐릭터의 움직임에 이상이 있는지 테스트하려고 한다. 메뉴얼에 따라 캐릭터를 이동시킨 뒤에, 캐릭터가 방문한 칸의 수를 출력하는 프로그램을 만드시오."
   ]
  },
  {
   "cell_type": "code",
   "execution_count": null,
   "metadata": {},
   "outputs": [],
   "source": [
    "입력\n",
    "첫째줄 : 맵의 세로크기 N과 가로 크기 M을 공백으로 구분하여 입력한다. (3 <= N,M <= 50)\n",
    "둘째줄 : 게임캐릭터가 있는 칸의 좌표 (A, B)와 바라보는 방향 d가 각각 서로 공백으로 구분하여 주어진다.\n",
    "    방향 d의 값으로는 다음과 같이 4가지 가 존재한다.\n",
    "    - 0: 북쪽\n",
    "    - 1: 동쪽\n",
    "    - 2: 남쪽 \n",
    "    - 3: 서쪽\n",
    "셋째줄 : 맵이 육지인지 바다인지에 대한 정보가 주어진다. N개의 줄에 맵의 상태가 북쪽부터 남쪽 순서대로,\n",
    "    각줄의 데이터는 서쪽부터 동쪽 순서대로 주어진다. 맵의 외곽은 항상 바다로 되어 있다.\n",
    "    - 0: 육지\n",
    "    - 1: 바다\n",
    "처음에 게임캐릭터가 위치한 칸의 상태는 항상 육지이다.\n",
    "\n",
    "입력 예시\n",
    "4 4\n",
    "1 1 0\n",
    "1 1 1 1\n",
    "1 0 0 1\n",
    "1 1 0 1\n",
    "1 1 1 1"
   ]
  },
  {
   "cell_type": "code",
   "execution_count": null,
   "metadata": {},
   "outputs": [],
   "source": [
    "출력\n",
    "첫째줄 : 이동을 마친 후 캐릭터가 방문한 칸의 수를 출력한다.\n",
    "\n",
    "출력 예시\n",
    "3"
   ]
  },
  {
   "cell_type": "markdown",
   "metadata": {},
   "source": [
    "# 풀이"
   ]
  },
  {
   "cell_type": "code",
   "execution_count": 52,
   "metadata": {},
   "outputs": [
    {
     "name": "stdout",
     "output_type": "stream",
     "text": [
      "4 4 \n",
      "1 1 0 \n",
      "1 1 1 1\n",
      "1 0 0 1\n",
      "1 1 0 1\n",
      "1 1 1 1\n"
     ]
    }
   ],
   "source": [
    "n, m = map(int, input().split())\n",
    "a, b, d = map(int, input().split())\n",
    "maps = [input().split() for i in range(n)]"
   ]
  },
  {
   "cell_type": "code",
   "execution_count": 53,
   "metadata": {},
   "outputs": [
    {
     "name": "stdout",
     "output_type": "stream",
     "text": [
      "[['1', '1', '1', '1'], ['1', '0', '0', '1'], ['1', '1', '0', '1'], ['1', '1', '1', '1']]\n"
     ]
    }
   ],
   "source": [
    "print(maps)"
   ]
  },
  {
   "cell_type": "code",
   "execution_count": 54,
   "metadata": {},
   "outputs": [
    {
     "name": "stdout",
     "output_type": "stream",
     "text": [
      "1 0 1\n",
      "2 1 0\n",
      "3 1 1\n",
      "2 2 0\n",
      "2 3 1\n",
      "1 2 1\n",
      "2 1 1\n",
      "3 2 1\n",
      "3\n"
     ]
    }
   ],
   "source": [
    "di = [[0, 1, 0, -1], [-1, 0, 1, 0]] \n",
    "\n",
    "count = 1\n",
    "maps[b][a] = '1'\n",
    "ways = 0\n",
    "\n",
    "while ways != 4: \n",
    "    # 다음 방향\n",
    "    na = a + di[0][d]\n",
    "    nb = b + di[1][d]\n",
    "    #print(na, nb, maps[nb][na])\n",
    "    if maps[nb][na] == '0':\n",
    "        maps[nb][na] = '1'\n",
    "        # 2.이동\n",
    "        a = na\n",
    "        b = nb\n",
    "        count += 1\n",
    "        ways = 0\n",
    "    else:\n",
    "        # 1.좌회전\n",
    "        d += 1\n",
    "        d %= 4\n",
    "        ways += 1\n",
    "\n",
    "# 0이면 이동\n",
    "\n",
    "print(count)\n"
   ]
  },
  {
   "cell_type": "code",
   "execution_count": 55,
   "metadata": {
    "scrolled": true
   },
   "outputs": [
    {
     "name": "stdout",
     "output_type": "stream",
     "text": [
      "[['1', '1', '1', '1'], ['1', '1', '1', '1'], ['1', '1', '1', '1'], ['1', '1', '1', '1']]\n"
     ]
    }
   ],
   "source": [
    "print(maps)"
   ]
  },
  {
   "cell_type": "markdown",
   "metadata": {},
   "source": [
    "# 정답"
   ]
  },
  {
   "cell_type": "code",
   "execution_count": 5,
   "metadata": {},
   "outputs": [
    {
     "name": "stdout",
     "output_type": "stream",
     "text": [
      "4 4\n",
      "1 1 0\n",
      "1 1 1 1\n",
      "1 0 0 1\n",
      "1 1 0 1\n",
      "1 1 1 1\n",
      "3\n"
     ]
    }
   ],
   "source": [
    "n, m = map(int, input().split())\n",
    "\n",
    "# 방문위치 맵\n",
    "d = [[0]*m for _ in range(n)]\n",
    "\n",
    "# 캐릭터 좌표, 방향입력\n",
    "x, y, direction = map(int, input().split())\n",
    "d[x][y] = 1\n",
    "\n",
    "# 전체 맵\n",
    "array = []\n",
    "for i in range(n):\n",
    "    array.append(list(map(int, input().split())))\n",
    "\n",
    "# 뱡향 # 븍. 동, 남, 서\n",
    "dx = [-1, 0, 1, 0]\n",
    "dy = [0, 1, 0, -1]\n",
    "\n",
    "# 왼쪽으로 회전\n",
    "def turn_left():\n",
    "    global direction\n",
    "    direction -= 1\n",
    "    if direction == -1:\n",
    "        direction = 3\n",
    "\n",
    "# 시뮬레이션 시작\n",
    "count = 1\n",
    "turn_time = 0\n",
    "\n",
    "while True:\n",
    "    #왼쪽으로 회전\n",
    "    turn_left()\n",
    "    nx = x + dx[direction]\n",
    "    ny = y + dy[direction]\n",
    "    \n",
    "    # 회전한 이후에 정면에 가보지 않은 칸이 존재하는 경우 이동\n",
    "    if d[nx][ny] == 0 and array[nx][ny] == 0:\n",
    "        d[nx][ny] = 1\n",
    "        x = nx\n",
    "        y = ny\n",
    "        \n",
    "        count += 1\n",
    "        turn_time = 0\n",
    "        continue\n",
    "    # 회전한 이후에 가보지 않은 칸이 없거나 바다인 경우\n",
    "    else:\n",
    "        turn_time += 1\n",
    "    \n",
    "    #네 방향 모두 갈 수 없는 경우\n",
    "    if turn_time == 4:\n",
    "        nx = x - dx[direction]\n",
    "        ny = y - dy[direction]\n",
    "        # 뒤로 갈 수 있다면 이동하기\n",
    "        if array[nx][ny] == 0:\n",
    "            x = nx\n",
    "            y = ny\n",
    "        # 뒤가 바다로 막혀있는 경우\n",
    "        else:\n",
    "            break\n",
    "        turn_time = 0\n",
    "\n",
    "# 정답 출력\n",
    "print(count)"
   ]
  },
  {
   "cell_type": "markdown",
   "metadata": {},
   "source": [
    "# 정리"
   ]
  },
  {
   "cell_type": "markdown",
   "metadata": {},
   "source": [
    "푸는데 시간이 오래걸림. 뭔가 빠르게 접근할 방법이 필요. 특히 좌표를 다루는데 있어서 X,Y좌표랑 index랑 반대라는거 헷갈리면 안됌."
   ]
  },
  {
   "cell_type": "markdown",
   "metadata": {},
   "source": [
    "80점짜리 풀이, 3단계에서 돌아가는 부분이 구현되어 있지 않음. 현재 예시에서는 동작하지만, 한 좌표에서 두군데 방향으로 갈수있다면 결과가 다를 수 있음."
   ]
  },
  {
   "cell_type": "code",
   "execution_count": null,
   "metadata": {},
   "outputs": [],
   "source": []
  }
 ],
 "metadata": {
  "kernelspec": {
   "display_name": "Python 3",
   "language": "python",
   "name": "python3"
  },
  "language_info": {
   "codemirror_mode": {
    "name": "ipython",
    "version": 3
   },
   "file_extension": ".py",
   "mimetype": "text/x-python",
   "name": "python",
   "nbconvert_exporter": "python",
   "pygments_lexer": "ipython3",
   "version": "3.6.9"
  }
 },
 "nbformat": 4,
 "nbformat_minor": 4
}
