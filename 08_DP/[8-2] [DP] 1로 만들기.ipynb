{
 "cells": [
  {
   "cell_type": "markdown",
   "metadata": {},
   "source": [
    "# 1로 만들기\n",
    "정수 X가 주어질 때 정수X에 사용할 수 있는 연산은 다음과 같이 4가지이다.\n",
    "\n",
    "- a. X가 5로 나누어 떨어지면, 5로 나눈다.\n",
    "\n",
    "- b. X가 3으로 나누어 떨어지면, 3으로 나눈다.\n",
    "\n",
    "- c. X가 2로 나누어 떨어지면, 2로 나눈다.\n",
    "\n",
    "- d. X에서 1을 뺀다.\n",
    "\n",
    "정수X가 주어졌을 때, 연산 4개를 적절히 사용해서 1을 만들려고 한다. 연산을 사용하는 횟수의 최솟값을 출력하시오.\n",
    "예를 들어 정수가 26이면 다음과 같이 계산해서 3번의 연산이 최솟값이다.\n",
    "\n",
    "1. 26 - 1 = 25\n",
    "2. 25 / 5 = 5\n",
    "3. 5 / 5 = 1"
   ]
  },
  {
   "cell_type": "code",
   "execution_count": null,
   "metadata": {},
   "outputs": [],
   "source": [
    "입력\n",
    "첫째줄 : 정수X가 주어진다. (1 <= X <= 30,000)\n",
    "\n",
    "입력 예시\n",
    "26"
   ]
  },
  {
   "cell_type": "code",
   "execution_count": null,
   "metadata": {},
   "outputs": [],
   "source": [
    "출력\n",
    "연산을 하는 횟수의 최솟값을 출력한다.\n",
    "\n",
    "출력 예시\n",
    "3"
   ]
  },
  {
   "cell_type": "markdown",
   "metadata": {},
   "source": [
    "# 풀이"
   ]
  },
  {
   "cell_type": "code",
   "execution_count": 55,
   "metadata": {},
   "outputs": [
    {
     "name": "stdout",
     "output_type": "stream",
     "text": [
      "26\n"
     ]
    }
   ],
   "source": [
    "x = int(input())"
   ]
  },
  {
   "cell_type": "code",
   "execution_count": 64,
   "metadata": {},
   "outputs": [
    {
     "name": "stdout",
     "output_type": "stream",
     "text": [
      "2 :  1\n",
      "3 :  2\n",
      "4 :  2\n",
      "5 :  3\n",
      "6 :  2\n",
      "7 :  3\n",
      "8 :  4\n",
      "9 :  4\n",
      "10 :  3\n",
      "11 :  3\n",
      "12 :  4\n",
      "13 :  4\n",
      "14 :  5\n",
      "15 :  5\n",
      "16 :  3\n",
      "17 :  5\n",
      "18 :  6\n",
      "19 :  4\n",
      "20 :  5\n",
      "21 :  4\n",
      "22 :  5\n",
      "23 :  5\n",
      "24 :  6\n",
      "25 :  5\n",
      "26 :  3\n",
      "5\n"
     ]
    }
   ],
   "source": [
    "# 버텀업 방식 #min을 적용안하면 오답\n",
    "d = [0] * 30001\n",
    "\n",
    "def find_way(x):\n",
    "    for i in range(2, x+1):\n",
    "        d[i] = d[i-1] + 1\n",
    "        print(i, ': ', d[i])\n",
    "        \n",
    "        if i % 5 == 0:\n",
    "            d[i] = d[i // 5] + 1\n",
    "        elif i % 3 == 0:\n",
    "            d[i] = d[i // 3] + 1\n",
    "        elif i % 2 == 0:\n",
    "            d[i] = d[i // 2] + 1\n",
    "\n",
    "find_way(x)\n",
    "print(d[26])    "
   ]
  },
  {
   "cell_type": "markdown",
   "metadata": {},
   "source": [
    "# 정답"
   ]
  },
  {
   "cell_type": "code",
   "execution_count": 54,
   "metadata": {},
   "outputs": [
    {
     "name": "stdout",
     "output_type": "stream",
     "text": [
      "26\n",
      "3\n"
     ]
    }
   ],
   "source": [
    "x = int(input())\n",
    "d = [0] * 30001\n",
    "\n",
    "for i in range(2, x + 1):\n",
    "    d[i] = d[i-1] + 1\n",
    "    \n",
    "    if i % 2 == 0:\n",
    "        d[i] = min(d[i], d[i//2] +1)\n",
    "    if i % 3 == 0:\n",
    "        d[i] = min(d[i], d[i//3] +1)\n",
    "    if i % 5 == 0:\n",
    "        d[i] = min(d[i], d[i//5] +1)\n",
    "    \n",
    "print(d[x])"
   ]
  },
  {
   "cell_type": "markdown",
   "metadata": {},
   "source": [
    "# 정리"
   ]
  },
  {
   "cell_type": "markdown",
   "metadata": {},
   "source": [
    "점화식을 세우고, min, max를 활용하여, 점점커지는 DP테이블을 설계하는게 관건"
   ]
  }
 ],
 "metadata": {
  "kernelspec": {
   "display_name": "Python 3",
   "language": "python",
   "name": "python3"
  },
  "language_info": {
   "codemirror_mode": {
    "name": "ipython",
    "version": 3
   },
   "file_extension": ".py",
   "mimetype": "text/x-python",
   "name": "python",
   "nbconvert_exporter": "python",
   "pygments_lexer": "ipython3",
   "version": "3.6.9"
  }
 },
 "nbformat": 4,
 "nbformat_minor": 4
}
