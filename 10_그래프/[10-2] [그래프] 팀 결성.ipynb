{
 "cells": [
  {
   "cell_type": "markdown",
   "metadata": {},
   "source": [
    "# 팀결성 \n",
    "학교에서 학생들에게 0번부터 N번까지의 번호를 부여햇다. 처음에는 모든 학생이 서로 다른 팀으로 구분되어, 총 N+1개의 팀이 존재한다. 이때 선생님은 '팀 합치기'연산과 '같은 팀 여부 확인' 연산을 사용할수 있다.\n",
    "\n",
    "1. '팀 합치기' 연산은 두팀을 합치는 연산이다. \n",
    "2. '같은 팀 여부 확인' 연산은 특정한 두 학생이 같은 팀에 속하는지를 확인하는 연산이다.\n",
    "\n",
    "선생님이 M개의 연산을 수행할 수 있을 때, '같은 팀 여부 확인' 연산에 대한 연산 결과를 출력하는 프로그램을 작성하시오."
   ]
  },
  {
   "cell_type": "markdown",
   "metadata": {},
   "source": [
    "### 입력\n",
    "\n",
    "첫째줄 : N(학생 번호), M(입력개수)이 주어진다. (1 <=N, M <= 100,000)  \n",
    "다음줄 : \"팀 합치기\" 연산은 0 a b 형태로 주어진다. 이는 a번 학생이 속항 팀과 b번 학생이 속한 팀을 합친다는 의미이다.  \n",
    "        \"같은 팀 여부확인\" 연산은 1 a b 형태로 주어진다. 이는 a번 학생과 b번 학생이 같은 팀에 속해 있는지를 확인하는 연산이다.  \n",
    "        a와 b는 N 이하의 양의 정수이다.  \n",
    "\n",
    "입력 예시  \n",
    "7 8  \n",
    "0 1 3  \n",
    "1 1 7  \n",
    "0 7 6  \n",
    "1 7 1  \n",
    "0 3 7  \n",
    "0 4 2  \n",
    "0 1 1  \n",
    "1 1 1  "
   ]
  },
  {
   "cell_type": "markdown",
   "metadata": {},
   "source": [
    "### 출력  \n",
    "\n",
    "첫째 줄 : '같은 팀 여부 확인'연산에 대하여 한줄에 하나씩 YES 혹은 NO로 결과를 출력한다.\n",
    "\n",
    "출력 예시  \n",
    "NO  \n",
    "NO  \n",
    "YES  "
   ]
  },
  {
   "cell_type": "markdown",
   "metadata": {},
   "source": [
    "# 풀이"
   ]
  },
  {
   "cell_type": "code",
   "execution_count": 13,
   "metadata": {},
   "outputs": [
    {
     "name": "stdout",
     "output_type": "stream",
     "text": [
      "7 8\n",
      "0 1 3\n",
      "1 1 7\n",
      "0 7 6\n",
      "1 7 1\n",
      "0 3 7\n",
      "0 4 2\n",
      "0 1 1\n",
      "1 1 1 \n"
     ]
    }
   ],
   "source": [
    "def find_parent(parent, x):\n",
    "    if parent[x] != x:\n",
    "        parent[x] = find_parent(parent, parent[x])\n",
    "    return parent[x]\n",
    "\n",
    "def union_parent(parent, a, b):\n",
    "    a = find_parent(parent, a)\n",
    "    b = find_parent(parent, b)\n",
    "    if a < b:\n",
    "        parent[b] = a\n",
    "    else:\n",
    "        parent[a] = b\n",
    "\n",
    "n, m = map(int, input().split())\n",
    "parent = [0] * (n + 1)\n",
    "\n",
    "for i in range(n):\n",
    "    parent[i] = i\n",
    "\n",
    "edges = []\n",
    "\n",
    "for i in range(m):\n",
    "    a, b, c = map(int, input().split())\n",
    "    edges.append((a,b,c))\n"
   ]
  },
  {
   "cell_type": "code",
   "execution_count": 14,
   "metadata": {},
   "outputs": [
    {
     "name": "stdout",
     "output_type": "stream",
     "text": [
      "1\n",
      "NO\n",
      "7\n",
      "NO\n",
      "1\n",
      "YES\n"
     ]
    }
   ],
   "source": [
    "for edge in edges:\n",
    "    if edge[0]:\n",
    "        print(edge[1])\n",
    "        if find_parent(parent, edge[1]) == find_parent(parent, edge[2]):\n",
    "            print('YES')\n",
    "        else:\n",
    "            print('NO')\n",
    "    else:\n",
    "        union_parent(parent, edge[1], edge[2])"
   ]
  },
  {
   "cell_type": "markdown",
   "metadata": {},
   "source": [
    "# 정답"
   ]
  },
  {
   "cell_type": "code",
   "execution_count": 15,
   "metadata": {},
   "outputs": [
    {
     "name": "stdout",
     "output_type": "stream",
     "text": [
      "7 8\n",
      "0 1 3\n",
      "1 1 7\n",
      "NO\n",
      "0 7 6\n",
      "1 7 1\n",
      "NO\n",
      "0 3 7\n",
      "0 4 2\n",
      "0 1 1\n",
      "1 1 1 \n",
      "YES\n"
     ]
    }
   ],
   "source": [
    "# 특정 원소가 속한 집합을 찾기\n",
    "def find_parent(parent, x):\n",
    "    # 루트 노드가 아니라면, 루트 노드를 찾을 때까지 재귀적으로 호출\n",
    "    if parent[x] != x:\n",
    "        parent[x]  = find_parent(parent, parent[x])\n",
    "    return parent[x]\n",
    "\n",
    "# 두 원소가 속한 집합을 합치기\n",
    "def union_parent(parent, a, b):\n",
    "    a = find_parent(parent, a)\n",
    "    b = find_parent(parent, b)\n",
    "    if a < b:\n",
    "        parent[b] = a\n",
    "    else:\n",
    "        parent[a] = b\n",
    "        \n",
    "\n",
    "n, m = map(int, input().split())\n",
    "parent = [0] * (n + 1)\n",
    "\n",
    "# 부모 테이블상에서, 부모를 자기 자신으로 초기화\n",
    "for i in range(1, n + 1):\n",
    "    parent[i] = i\n",
    "\n",
    "# 각 연산을 하나씩 확인\n",
    "for i in range(m):\n",
    "    oper, a, b = map(int, input().split())\n",
    "    # 합집합 연산인 경우\n",
    "    if oper == 0:\n",
    "        union_parent(parent, a, b)\n",
    "    # 찾기(find) 연산인 경우\n",
    "    elif oper == 1:\n",
    "        if find_parent(parent, a) == find_parent(parent, b):\n",
    "            print('YES')\n",
    "        else:\n",
    "            print('NO')"
   ]
  },
  {
   "cell_type": "markdown",
   "metadata": {},
   "source": [
    "### 정리"
   ]
  },
  {
   "cell_type": "markdown",
   "metadata": {},
   "source": [
    "1. 그래프 문제는 union_parent와 find_parent함수를 활용하면 문제를 풀수있다. 집합의 union과 find와는 다름\n",
    "2. find_parent는 경로압축기법 적용 필수\n",
    "3. union_parent함수를 이용, 합치고, 사이클업는 경로를 만들거나, 거리를 계산할수 있음"
   ]
  }
 ],
 "metadata": {
  "kernelspec": {
   "display_name": "Python 3",
   "language": "python",
   "name": "python3"
  },
  "language_info": {
   "codemirror_mode": {
    "name": "ipython",
    "version": 3
   },
   "file_extension": ".py",
   "mimetype": "text/x-python",
   "name": "python",
   "nbconvert_exporter": "python",
   "pygments_lexer": "ipython3",
   "version": "3.7.3"
  }
 },
 "nbformat": 4,
 "nbformat_minor": 4
}
