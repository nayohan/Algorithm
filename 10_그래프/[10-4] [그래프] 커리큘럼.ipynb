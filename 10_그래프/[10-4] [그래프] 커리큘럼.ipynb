{
 "cells": [
  {
   "cell_type": "markdown",
   "metadata": {},
   "source": [
    "# 커리큘럼\n",
    "동빈이는 온라인으로 컴퓨터 공학 강의를 듣고 있다. 이때 각 온라인 강의는 선수 강의가 있을 수 있는데, 선수 강의가 있는 강의는 선수 강의를 먼저 들어야만 해당 강의를 들을 수 있다. 예를 들어 '알고리즘' 강의의 선수 강의로 '자료구조'와 '컴퓨터 기초'가 존재한다면, '자료구조'와 '컴퓨터 기초'를 모두 들은 이우에 '알고리즘'강의를 들을 수 있다.\n",
    "\n",
    "동빈이는 총 N개의 강의를 듣고자 한다. 모든 강의는 1번 부터 N번까지의 번호를 가진다. 또한 동시에 여러 개의 강의를 들을 수 있다고 가정한다. 예를 들어 N=3일때, 3번강의 선수강의로 1번과 2번이 있고, 1번과 2번 강의는 선수 강의 가 없다고 가정하자. 그리고 각 강의에 대하여 강의 시간이 다음과 같다고 가정하자.\n",
    "\n",
    "1번 강의: 30시간  \n",
    "2번 강의: 20시간  \n",
    "3번 강의: 40시간\n",
    "\n",
    "이 경우 1번 강의를 수강하기까지의 최소 시간은 30시간, 2번 강의를 수강하기까지의 최소시간은 20시간, 3번 강의를 수강하기까지의 최소시간은 70시간이다.\n",
    "\n",
    "동빈이가 듣고자 하는 N개의 강의 정보가 주어졌을때, N개의 강의에 대하여 수강하기까지 걸리는 최소 시간을 각각 출력하는 프로그램을 작성하시오."
   ]
  },
  {
   "cell_type": "markdown",
   "metadata": {},
   "source": [
    "### 입력\n",
    "\n",
    "첫째줄 : 동빈이가 듣고자 하는 강의의 수 N (1 <= N <= 500)\n",
    "N개줄 :  각 강의의 강의 시간과 그 강의를 듣기 위해 먼저 들어야 하는 강의들의 번호가 자연수로 주어지며, 각 자연수로 주어지며, \n",
    "- 각 자연수는 공백으로 구분 (강의시간 <= 100,000) \n",
    "- 각 강의번호는 1번부터 N까지로 구성되며, 각 줄은 -1로 끝난다.\n",
    "\n",
    "입력 예시\n",
    "\n",
    "5\n",
    "\n",
    "10 -1  \n",
    "10 1 -1  \n",
    "4 1 -1  \n",
    "4 3 1 -1  \n",
    "3 3 -1  "
   ]
  },
  {
   "cell_type": "markdown",
   "metadata": {},
   "source": [
    "### 출력\n",
    "\n",
    "첫째 줄 : N개의 강의에 대하여 수강하기까지 걸리는 최소 시간을 한 줄에 하나씩 출력한다.\n",
    "\n",
    "출력 예시  \n",
    "10  \n",
    "20  \n",
    "14  \n",
    "18  \n",
    "17  "
   ]
  },
  {
   "cell_type": "markdown",
   "metadata": {},
   "source": [
    "# 풀이"
   ]
  },
  {
   "cell_type": "code",
   "execution_count": 33,
   "metadata": {
    "scrolled": true
   },
   "outputs": [
    {
     "name": "stdout",
     "output_type": "stream",
     "text": [
      "5\n",
      "10 -1\n",
      "10 1 -1\n",
      "4 1 -1\n",
      "4 3 1 -1\n",
      "3 3 1 -1\n"
     ]
    }
   ],
   "source": [
    "import copy\n",
    "from collections import deque\n",
    "\n",
    "n = int(input())\n",
    "indegree = [0] * (n + 1)\n",
    "cost = [0] * (n + 1)\n",
    "graph = [[] for i in range(n + 1)]\n",
    "\n",
    "for i in range(n):\n",
    "    li = list(map(int, input().split()))\n",
    "    cost[i+1] = li[0] \n",
    "    \n",
    "    for j in range(1, len(li)-1):\n",
    "        graph[li[j]].append(i+1)\n",
    "        indegree[i+1] += 1"
   ]
  },
  {
   "cell_type": "code",
   "execution_count": 34,
   "metadata": {},
   "outputs": [
    {
     "name": "stdout",
     "output_type": "stream",
     "text": [
      "[0, 0, 1, 1, 2, 2]\n",
      "[0, 10, 10, 4, 4, 3]\n",
      "[[], [2, 3, 4, 5], [], [4, 5], [], []]\n"
     ]
    }
   ],
   "source": [
    "print(indegree)\n",
    "print(cost)\n",
    "print(graph)\n",
    "ind = copy.deepcopy(indegree)"
   ]
  },
  {
   "cell_type": "code",
   "execution_count": 56,
   "metadata": {
    "scrolled": true
   },
   "outputs": [
    {
     "name": "stdout",
     "output_type": "stream",
     "text": [
      "deque([1])\n",
      "g [2, 3, 4, 5]\n",
      "deque([2, 3])\n",
      "g []\n",
      "deque([3])\n",
      "g [4, 5]\n",
      "deque([4, 5])\n",
      "g []\n",
      "deque([5])\n",
      "g []\n",
      "[10, 20, 14, 18, 17]\n",
      "[0]\n"
     ]
    }
   ],
   "source": [
    "indegree = copy.deepcopy(ind)\n",
    "result = [0] * (n + 1)\n",
    "q = deque()\n",
    "\n",
    "for i in range(1, n + 1):\n",
    "    if indegree[i] == 0:\n",
    "        q.append(i)\n",
    "        \n",
    "while q:\n",
    "    print(q)\n",
    "    now = q.popleft() # 1, 2, 3, 4, 5,\n",
    "    result[now] += cost[now] \n",
    "\n",
    "    print('g',graph[now])\n",
    "    for i in graph[now]: # \n",
    "        result[i] += cost[now]\n",
    "        indegree[i] -= 1\n",
    "        if indegree[i] == 0:\n",
    "            q.append(i)\n",
    "\n",
    "print(result[1:])"
   ]
  },
  {
   "cell_type": "markdown",
   "metadata": {},
   "source": [
    "# 정답"
   ]
  },
  {
   "cell_type": "code",
   "execution_count": 6,
   "metadata": {},
   "outputs": [
    {
     "name": "stdout",
     "output_type": "stream",
     "text": [
      "5\n",
      "10 -1\n",
      "10 1 -1\n",
      "4 1 -1\n",
      "4 3 1 -1\n",
      "3 3 1 -1\n",
      "10\n",
      "20\n",
      "14\n",
      "18\n",
      "17\n"
     ]
    }
   ],
   "source": [
    "# from collections import deque\n",
    "import copy\n",
    "\n",
    "# 노드의 개수 입력받기\n",
    "v = int(input())\n",
    "# 모든 노드에 대한 전입차수는 0으로 초기화\n",
    "indegree = [0] * (v + 1)\n",
    "# 각 노드에 연결된 간선 정보를 담기 위한 연결 리스트(그래프) 초기화\n",
    "graph = [[] for i in range(v + 1)]\n",
    "# 각 강의 시간을 0으로 초기화\n",
    "time = [0] * (v + 1)\n",
    "\n",
    "# 방향 그래프의 모든 간선 정보를 입력받기\n",
    "for i in range(1, v + 1):\n",
    "    data = list(map(int, input().split()))\n",
    "    time[i] = data[0] # 첫번째 수는 시간 정보를 담고 있음\n",
    "    for x in data[1:-1]:\n",
    "        indegree[i] += 1\n",
    "        graph[x].append(i)\n",
    "\n",
    "# 위상 정렬 함수\n",
    "def topology_sort():\n",
    "    result = copy.deepcopy(time)\n",
    "    q = deque()\n",
    "    \n",
    "    for i in range(1, v + 1):\n",
    "        if indegree[i] == 0:\n",
    "            q.append(i)\n",
    "    \n",
    "    # 큐가 빌때까지 반복\n",
    "    while q:\n",
    "        # 큐에서 원소 꺼내기\n",
    "        now = q.popleft()\n",
    "        # 해당 원소와 연결된 노드들의 진입차수에서 1빼기\n",
    "        for i in graph[now]:\n",
    "            result[i] = max(result[i], result[now] + time[i])\n",
    "            indegree[i] -= 1\n",
    "            # 새롭게 진입차수가 0이되는 노드를 큐에 삽입\n",
    "            if indegree[i] == 0:\n",
    "                q.append(i)\n",
    "            \n",
    "    # 위상 정렬을 수행항 결과 출력\n",
    "    for i in range(1, v + 1):\n",
    "        print(result[i])\n",
    "\n",
    "topology_sort()  "
   ]
  },
  {
   "cell_type": "code",
   "execution_count": 8,
   "metadata": {},
   "outputs": [
    {
     "name": "stdout",
     "output_type": "stream",
     "text": [
      "[[], [2, 3, 4, 5], [], [4, 5], [], []]\n",
      "[0, 10, 10, 4, 4, 3]\n"
     ]
    }
   ],
   "source": [
    "print(graph)\n",
    "print(time)"
   ]
  },
  {
   "cell_type": "markdown",
   "metadata": {},
   "source": [
    "### 정리"
   ]
  },
  {
   "cell_type": "markdown",
   "metadata": {},
   "source": [
    "위상정렬은 진입차수, 간선정보를 이용해, 진행과정을 정렬한다.\n",
    "위상정렬함는 큐를 활용해, 진입차수가 0인 노드를 지속적으로 삽입해서, 연결된 원소의 진입차수를 뺀다. 반복\n",
    "\n",
    "for in쓸때 li[1:-1]이런식으로도 활용가능하다.\n",
    "인덱싱할때 (1, n+1)방식으로 하면 편리하다."
   ]
  },
  {
   "cell_type": "code",
   "execution_count": null,
   "metadata": {},
   "outputs": [],
   "source": []
  }
 ],
 "metadata": {
  "kernelspec": {
   "display_name": "Python 3",
   "language": "python",
   "name": "python3"
  },
  "language_info": {
   "codemirror_mode": {
    "name": "ipython",
    "version": 3
   },
   "file_extension": ".py",
   "mimetype": "text/x-python",
   "name": "python",
   "nbconvert_exporter": "python",
   "pygments_lexer": "ipython3",
   "version": "3.7.3"
  }
 },
 "nbformat": 4,
 "nbformat_minor": 4
}
