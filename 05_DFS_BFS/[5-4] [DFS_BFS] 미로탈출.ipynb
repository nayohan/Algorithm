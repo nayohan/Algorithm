{
 "cells": [
  {
   "cell_type": "markdown",
   "metadata": {},
   "source": [
    "# 미로 탈출\n",
    "\n",
    "동빈이는 N X M 크기의 직사각형 형태의 미로에 갇혀 있다. 미로에는 여러 마리의 괴물이 있어 이를 피해 탈출해야 한다. 동빈이의 위치는 (1,1)이고 미로의 출구는 (N, M)의 위치에 존재하며 한번에 한 칸씩 이동할 수 있다. 이때 괴물이 있는 부분은 0으로, 괴물이 없는 부분은 1로 표시되어 있다. 미로는 반드시 탈출할 수 있는 형태로 제시된다. 이때 동빈이가 탈출하기 위해 움직여야 하는 최소 칸의 개수를 구하시오. 칸을 셀 때는 시작 칸과 마지막 칸을 모두 포함해서 계산한다."
   ]
  },
  {
   "cell_type": "code",
   "execution_count": null,
   "metadata": {},
   "outputs": [],
   "source": [
    "입력\n",
    "첫째줄 : 두 정수 N, M (4<=N, M<=200)이 주어짐. \n",
    "N개줄 : M개의 정수로 미로의 정보가 주어진다. 공백없이 붙여서 입력으로 제시됌. 시작칸과 마지막칸은 항상 1\n",
    "\n",
    "입력 예시\n",
    "5 6\n",
    "101010\n",
    "111111\n",
    "000001\n",
    "111111\n",
    "111111"
   ]
  },
  {
   "cell_type": "code",
   "execution_count": null,
   "metadata": {},
   "outputs": [],
   "source": [
    "출력\n",
    "첫째줄 : 최소이동칸의 개수를 출력한다.\n",
    "\n",
    "출력 예시\n",
    "10"
   ]
  },
  {
   "cell_type": "markdown",
   "metadata": {},
   "source": [
    "# 풀이"
   ]
  },
  {
   "cell_type": "code",
   "execution_count": 57,
   "metadata": {},
   "outputs": [
    {
     "name": "stdout",
     "output_type": "stream",
     "text": [
      "5 6\n"
     ]
    }
   ],
   "source": [
    "n,m = map(int, input().split())\n",
    "#miro = [list(map(int,list(input()))) for _ in range(n)]\n"
   ]
  },
  {
   "cell_type": "code",
   "execution_count": 61,
   "metadata": {},
   "outputs": [],
   "source": [
    "miro = [[1, 0, 1, 0, 1, 0], [1, 1, 1, 1, 1, 1], [0, 0, 0, 0, 0, 1], [1, 1, 1, 1, 1, 1], [1, 1, 1, 1, 1, 1]]"
   ]
  },
  {
   "cell_type": "code",
   "execution_count": 62,
   "metadata": {
    "scrolled": false
   },
   "outputs": [
    {
     "name": "stdout",
     "output_type": "stream",
     "text": [
      "[[1, 0, 1, 0, 1, 0], [1, 1, 1, 1, 1, 1], [0, 0, 0, 0, 0, 1], [1, 1, 1, 1, 1, 1], [1, 1, 1, 1, 1, 1]]\n"
     ]
    }
   ],
   "source": [
    "print(miro)"
   ]
  },
  {
   "cell_type": "code",
   "execution_count": 63,
   "metadata": {},
   "outputs": [
    {
     "name": "stdout",
     "output_type": "stream",
     "text": [
      "deque([(0, 0)])\n",
      "deque([(1, 0)])\n",
      "deque([(1, 1)])\n",
      "deque([(1, 2)])\n",
      "deque([(0, 2), (1, 3)])\n",
      "deque([(1, 3)])\n",
      "deque([(1, 4)])\n",
      "deque([(0, 4), (1, 5)])\n",
      "deque([(1, 5)])\n",
      "deque([(2, 5)])\n",
      "deque([(3, 5)])\n",
      "deque([(4, 5), (3, 4)])\n",
      "deque([(3, 4), (4, 4)])\n",
      "deque([(4, 4), (3, 3)])\n",
      "deque([(3, 3), (4, 3)])\n",
      "deque([(4, 3), (3, 2)])\n",
      "deque([(3, 2), (4, 2)])\n",
      "deque([(4, 2), (3, 1)])\n",
      "deque([(3, 1), (4, 1)])\n",
      "deque([(4, 1), (3, 0)])\n",
      "deque([(3, 0), (4, 0)])\n",
      "deque([(4, 0)])\n",
      "10\n"
     ]
    }
   ],
   "source": [
    "from collections import deque\n",
    "# BFS\n",
    "\n",
    "visited = [[0]*m for _ in range(n)]\n",
    "di = [[-1, 1, 0, 0], [0, 0, -1, 1]]\n",
    "\n",
    "def bfs(x,y, visited):\n",
    "    queue = deque([(x,y)])\n",
    "    visited[x][y] = 1\n",
    "    \n",
    "    while queue:\n",
    "        # 빼기\n",
    "        print(queue)\n",
    "        x,y = queue.popleft()\n",
    "        \n",
    "        # 넣기\n",
    "        for i in range(4): \n",
    "            nx = x + di[0][i]\n",
    "            ny = y + di[1][i]\n",
    "            #print(nx, ny)\n",
    "            if 0 <= nx and nx < n and 0 <= ny and ny < m and not visited[nx][ny]:\n",
    "                # 거리저장\n",
    "                visited[nx][ny] = visited[x][y] + 1\n",
    "                if(miro[nx][ny] == 1):\n",
    "                    queue.append((nx, ny))\n",
    "\n",
    "\n",
    "bfs(0,0, visited)\n",
    "#print(visited)\n",
    "print(visited[n-1][m-1])"
   ]
  },
  {
   "cell_type": "code",
   "execution_count": null,
   "metadata": {},
   "outputs": [],
   "source": []
  },
  {
   "cell_type": "markdown",
   "metadata": {},
   "source": [
    "# 정답"
   ]
  },
  {
   "cell_type": "code",
   "execution_count": 49,
   "metadata": {
    "scrolled": true
   },
   "outputs": [
    {
     "name": "stdout",
     "output_type": "stream",
     "text": [
      "5 6\n",
      "101010\n",
      "111111\n",
      "000001\n",
      "111111\n",
      "111111\n",
      "10\n"
     ]
    }
   ],
   "source": [
    "from collections import deque\n",
    "\n",
    "n, m = map(int, input().split())\n",
    "\n",
    "graph = []\n",
    "for i in range(n):\n",
    "    graph.append(list(map(int, input())))\n",
    "    \n",
    "# 이동할 네 방향 정의(상, 하, 좌, 우)\n",
    "dx = [-1, 1, 0, 0]\n",
    "dy = [0, 0, -1, 1]\n",
    "\n",
    "# BFS 소스코드 구현\n",
    "def bfs(x, y):\n",
    "    # 큐 구현을 위해 deque 라이브러리 사용\n",
    "    queue = deque()\n",
    "    queue.append((x,y))\n",
    "    \n",
    "    # 큐가 빌때까지 반복\n",
    "    while queue:\n",
    "        x, y = queue.popleft()\n",
    "        \n",
    "        # 현재 위치에서 네 방향으로의 위치 확인\n",
    "        for i in range(4):\n",
    "            nx = x + dx[i]\n",
    "            ny = y + dy[i]\n",
    "            \n",
    "            # 미로 찾기 공간을 벗어난 경우 무시\n",
    "            if nx < 0 or ny <0 or nx >= n or ny >= m:\n",
    "                continue\n",
    "            # 벽인 경우 무시\n",
    "            if graph[nx][ny] == 0:\n",
    "                continue\n",
    "            # 해당 노드를 처음 방문하는 경우에만 최단 거리 기록\n",
    "            if graph[nx][ny] == 1:\n",
    "                graph[nx][ny] = graph[x][y] + 1\n",
    "                queue.append((nx, ny))\n",
    "        \n",
    "    return graph[n-1][m-1]\n",
    "\n",
    "print(bfs(0,0))            "
   ]
  },
  {
   "cell_type": "markdown",
   "metadata": {},
   "source": [
    "# 정리"
   ]
  },
  {
   "cell_type": "markdown",
   "metadata": {},
   "source": [
    "visitied맵은 안만들고,해당지도에 바로 거리를 표기, 공간을 새로 할당하기전에 분리할 필요가 있는지 고민 할 필요있음.\n",
    "\n",
    "\n",
    "거리를 구하는 문제 ->  BFS\n",
    "묶음을 하는 문제 -> DFS"
   ]
  },
  {
   "cell_type": "code",
   "execution_count": null,
   "metadata": {},
   "outputs": [],
   "source": []
  },
  {
   "cell_type": "code",
   "execution_count": null,
   "metadata": {},
   "outputs": [],
   "source": []
  }
 ],
 "metadata": {
  "kernelspec": {
   "display_name": "Python 3",
   "language": "python",
   "name": "python3"
  },
  "language_info": {
   "codemirror_mode": {
    "name": "ipython",
    "version": 3
   },
   "file_extension": ".py",
   "mimetype": "text/x-python",
   "name": "python",
   "nbconvert_exporter": "python",
   "pygments_lexer": "ipython3",
   "version": "3.6.9"
  }
 },
 "nbformat": 4,
 "nbformat_minor": 4
}
