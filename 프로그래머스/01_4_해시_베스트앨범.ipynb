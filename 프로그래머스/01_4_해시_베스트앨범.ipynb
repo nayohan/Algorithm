{
 "cells": [
  {
   "cell_type": "markdown",
   "id": "figured-concept",
   "metadata": {},
   "source": [
    "https://programmers.co.kr/learn/courses/30/lessons/42579#"
   ]
  },
  {
   "cell_type": "code",
   "execution_count": 63,
   "id": "functioning-volleyball",
   "metadata": {
    "ExecuteTime": {
     "end_time": "2021-09-17T05:20:16.221436Z",
     "start_time": "2021-09-17T05:20:16.209653Z"
    }
   },
   "outputs": [],
   "source": [
    "genres = [\"classic\", \"pop\", \"classic\", \"classic\", \"pop\", \"classic\"]\n",
    "plays = [800, 600, 150, 800, 2500, 800]\n",
    "ret = [4, 1, 3, 0]"
   ]
  },
  {
   "cell_type": "code",
   "execution_count": 64,
   "id": "celtic-tours",
   "metadata": {
    "ExecuteTime": {
     "end_time": "2021-09-17T05:20:16.414397Z",
     "start_time": "2021-09-17T05:20:16.389452Z"
    }
   },
   "outputs": [],
   "source": [
    "genres = [\"A\", \"A\", \"B\", \"A\", \"B\", \"B\", \"A\", \"A\", \"A\", \"A\"]\n",
    "plays = [1, 1, 1, 1, 1, 1, 1, 1, 1, 1, 1, 1]"
   ]
  },
  {
   "cell_type": "code",
   "execution_count": 65,
   "id": "blond-practice",
   "metadata": {
    "ExecuteTime": {
     "end_time": "2021-09-17T05:20:16.678048Z",
     "start_time": "2021-09-17T05:20:16.561778Z"
    }
   },
   "outputs": [
    {
     "data": {
      "text/plain": [
       "[0, 1, 2, 4]"
      ]
     },
     "execution_count": 65,
     "metadata": {},
     "output_type": "execute_result"
    }
   ],
   "source": [
    "from collections import defaultdict\n",
    "import operator\n",
    "\n",
    "def solution(genres, plays):\n",
    "    # 1. 장르 순서\n",
    "    dic = defaultdict(lambda:0)\n",
    "    for g,p in zip(genres, plays):\n",
    "        dic[g] += p\n",
    "    \n",
    "    # 1.1. 장르 순서 정렬\n",
    "    ordered_genres = sorted(dic.items(), key=operator.itemgetter(1), reverse=True)\n",
    "\n",
    "    # 2. 장르별 재생 순서\n",
    "    genres_list = list([x[0] for x in ordered_genres])\n",
    "    genres_group_list = [defaultdict(lambda:0) for i in range(len(genres_list))]\n",
    "\n",
    "    for i,(g,p) in enumerate(zip (genres, plays)):\n",
    "        for j in range(len(genres_list)):\n",
    "            if genres_list[j]==g:\n",
    "                genres_group_list[j][i] = p\n",
    "\n",
    "    # 2.1. 장르별 재생순서 정렬\n",
    "    for i in range(len(genres_group_list)):\n",
    "        genres_group_list[i] = sorted(genres_group_list[i].items(), key=operator.itemgetter(1), reverse=True)\n",
    "    answer = []\n",
    "    for i in range(len(genres_list)):\n",
    "        if len(genres_group_list[i])==1:\n",
    "            answer.append(genres_group_list[i][0][0])\n",
    "        else:\n",
    "            for j in range(0,2):\n",
    "                answer.append(genres_group_list[i][j][0])\n",
    "    return answer\n",
    "\n",
    "solution(genres, plays)"
   ]
  },
  {
   "cell_type": "code",
   "execution_count": 66,
   "id": "corrected-sphere",
   "metadata": {
    "ExecuteTime": {
     "end_time": "2021-09-17T05:20:16.968191Z",
     "start_time": "2021-09-17T05:20:16.812858Z"
    }
   },
   "outputs": [
    {
     "name": "stdout",
     "output_type": "stream",
     "text": [
      "True\n",
      "True\n",
      "True\n",
      "True\n",
      "True\n",
      "True\n",
      "True\n",
      "True\n",
      "True\n",
      "True\n",
      "True\n",
      "True\n",
      "True\n",
      "True\n",
      "True\n",
      "True\n",
      "True\n"
     ]
    }
   ],
   "source": [
    "print(solution(['A', 'B', 'A', 'A', 'B'], [500, 600, 150, 800, 2500]) == [4, 1, 3, 0])\n",
    "print(solution(['B', 'A'], [500, 600]) == [1, 0])\n",
    "print(solution(['B'], [500]) == [0])\n",
    "print(solution(['B', 'A'], [600, 500]) == [0, 1])\n",
    "print(solution(['A', 'B'], [600, 500]) == [0, 1])\n",
    "print(solution(['A', 'A', 'B'], [600, 500, 300]) == [0, 1, 2])\n",
    "print(solution(['A', 'B', 'A'], [600, 500, 600]) == [0, 2, 1])\n",
    "print(solution(['A', 'B', 'A'], [600, 500, 700]) == [2, 0, 1])\n",
    "print(solution(['A', 'A', 'A'], [600, 500, 700]) == [2, 0])\n",
    "print(solution(['A', 'A', 'A'], [3, 2, 1]) == [0, 1])\n",
    "print(solution(['classic', 'pop', 'classic', 'classic', 'pop'],[500, 600, 150, 800, 2500]) == [4, 1, 3, 0])\n",
    "print(solution(['classic'], [2500]) == [0])\n",
    "print(solution(['A', 'B', 'C'], [1, 2, 3]) == [2, 1, 0])\n",
    "print(solution(['A', 'B', 'C', 'D'], [1, 2, 3, 1]) == [2, 1, 0, 3])\n",
    "print(solution(['A', 'A', 'B', 'A'], [2, 2, 2, 3]) == [3, 0, 2])\n",
    "print(solution(['A', 'A', 'B', 'A'], [5, 5, 6, 5]) == [0, 1, 2])\n",
    "print(solution(['A', 'A', 'B', 'A', 'B', 'B'], [5, 5, 6, 5, 7, 7]) == [4, 5, 0, 1])"
   ]
  }
 ],
 "metadata": {
  "kernelspec": {
   "display_name": "Python 3",
   "language": "python",
   "name": "python3"
  },
  "language_info": {
   "codemirror_mode": {
    "name": "ipython",
    "version": 3
   },
   "file_extension": ".py",
   "mimetype": "text/x-python",
   "name": "python",
   "nbconvert_exporter": "python",
   "pygments_lexer": "ipython3",
   "version": "3.7.3"
  }
 },
 "nbformat": 4,
 "nbformat_minor": 5
}
