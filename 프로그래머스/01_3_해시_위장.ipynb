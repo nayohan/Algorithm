{
 "cells": [
  {
   "cell_type": "code",
   "execution_count": 1,
   "id": "stretch-glass",
   "metadata": {
    "ExecuteTime": {
     "end_time": "2021-09-13T14:17:27.923200Z",
     "start_time": "2021-09-13T14:17:27.900966Z"
    }
   },
   "outputs": [],
   "source": [
    "clothes = [[\"yellowhat\", \"headgear\"], [\"bluesunglasses\", \"eyewear\"], [\"green_turban\", \"headgear\"]]"
   ]
  },
  {
   "cell_type": "code",
   "execution_count": 2,
   "id": "aggressive-interstate",
   "metadata": {
    "ExecuteTime": {
     "end_time": "2021-09-13T14:17:28.301975Z",
     "start_time": "2021-09-13T14:17:28.173529Z"
    }
   },
   "outputs": [
    {
     "name": "stdout",
     "output_type": "stream",
     "text": [
      "{'headgear': 1, 'eyewear': 1}\n"
     ]
    },
    {
     "data": {
      "text/plain": [
       "5"
      ]
     },
     "execution_count": 2,
     "metadata": {},
     "output_type": "execute_result"
    }
   ],
   "source": [
    "def solution(clothes):\n",
    "    \n",
    "    dic = dict(clothes)\n",
    "\n",
    "    dic_clothes = { v:1 for k,v in dic.items()}\n",
    "    print(dic_clothes)\n",
    "    \n",
    "    for k,v in dic.items():\n",
    "        dic_clothes[v] +=1\n",
    "    \n",
    "    \n",
    "    answer=1\n",
    "    for k, v in dic_clothes.items():\n",
    "        answer *= v\n",
    "    return answer-1\n",
    "\n",
    "solution(clothes)"
   ]
  },
  {
   "cell_type": "code",
   "execution_count": null,
   "id": "cooked-committee",
   "metadata": {},
   "outputs": [],
   "source": []
  }
 ],
 "metadata": {
  "kernelspec": {
   "display_name": "Python 3",
   "language": "python",
   "name": "python3"
  },
  "language_info": {
   "codemirror_mode": {
    "name": "ipython",
    "version": 3
   },
   "file_extension": ".py",
   "mimetype": "text/x-python",
   "name": "python",
   "nbconvert_exporter": "python",
   "pygments_lexer": "ipython3",
   "version": "3.7.3"
  }
 },
 "nbformat": 4,
 "nbformat_minor": 5
}
