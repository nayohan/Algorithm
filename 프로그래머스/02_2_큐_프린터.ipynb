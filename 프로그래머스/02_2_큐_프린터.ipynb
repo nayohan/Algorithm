{
 "cells": [
  {
   "cell_type": "markdown",
   "id": "recovered-traffic",
   "metadata": {},
   "source": [
    "https://programmers.co.kr/learn/courses/30/lessons/42587"
   ]
  },
  {
   "cell_type": "markdown",
   "id": "presidential-pierre",
   "metadata": {},
   "source": [
    "# 프린터\n",
    "\n",
    "일반적인 프린터는 인쇄 요청이 들어온 순서대로 인쇄합니다. 그렇기 때문에 중요한 문서가 나중에 인쇄될 수 있습니다. 이런 문제를 보완하기 위해 중요도가 높은 문서를 먼저 인쇄하는 프린터를 개발했습니다. 이 새롭게 개발한 프린터는 아래와 같은 방식으로 인쇄 작업을 수행합니다.\n",
    "\n",
    "```\n",
    "1. 인쇄 대기목록의 가장 앞에 잇는 문서(J)를 대기목록에서 꺼냅니다.\n",
    "2. 나머지 인쇄 대기목록에서 J보다 중요도가 높은 문서가 한개라도 존재하면 J를 대기목록의 가장 마지막에 넣습니다.\n",
    "3. 그렇지 않으면 J를 인쇄합니다.\n",
    "\n",
    "```\n",
    "\n",
    "예를 들어, 4개의 문서(A,B,C,B)가 순서대로 인쇄 대기목록에 있고 중요도가 2 1 3 2라면 C D B A 순으로 인쇄하게 됩니다.\n",
    "\n",
    "내가 인쇄를 요청한 문서가 몇번째로 인쇄되는지 알고 싶습니다. 위의 예에서 C는 1번째로, A는 3번째로 인쇄됩니다. \n",
    "\n",
    "현재 대기목록에 있는 문서의 중요도가 순서대로 담기 배열 Priorities와 내가 인쇄를 요청한 문서가 현재 대기목록의 어떤 위치에 있는지를 알려주는 location이 매개변수로 주어질 때, 내가 인쇄를 요청한 문서가 몇 번째로 인쇄되는지 return 하도록 solution함수를 작성해주세요.\n",
    "\n",
    "- 제한사항\n",
    "```\n",
    "   - 현재 대기목록에는 1개 이상 100개 이하의 문서가 있습니다.\n",
    "   - 인쇄 작업의 중요도는 1~9로 표현하며 숫자가 클수록 중요하다는 뜻입니다.\n",
    "   - location은 0이상 (현재 대기목록에 있는 작업 수 -1)이하의 값을 가지며 대기목록의 가장 앞에 있으면 0, 두번째에 있으면 1로 표현합니다.\n",
    "```"
   ]
  },
  {
   "cell_type": "code",
   "execution_count": 41,
   "id": "brazilian-overhead",
   "metadata": {
    "ExecuteTime": {
     "end_time": "2021-09-18T13:45:36.255106Z",
     "start_time": "2021-09-18T13:45:36.236576Z"
    }
   },
   "outputs": [],
   "source": [
    "# priorities = [2, 1, 3, 2]\n",
    "# location = 2\n",
    "priorities = [1, 1, 9, 1, 1, 1]\n",
    "location = 0"
   ]
  },
  {
   "cell_type": "code",
   "execution_count": 42,
   "id": "interstate-filing",
   "metadata": {
    "ExecuteTime": {
     "end_time": "2021-09-18T13:45:36.504155Z",
     "start_time": "2021-09-18T13:45:36.447647Z"
    }
   },
   "outputs": [
    {
     "data": {
      "text/plain": [
       "5"
      ]
     },
     "execution_count": 42,
     "metadata": {},
     "output_type": "execute_result"
    }
   ],
   "source": [
    "from collections import deque\n",
    "\n",
    "def solution(priorities, location):\n",
    "    q = deque([(i, p) for i, p in enumerate(priorities)])\n",
    "    find_idx = q[location][0]\n",
    "    answer = 0\n",
    "    \n",
    "    while q:\n",
    "        i, v = q.popleft()\n",
    "        #print(q)\n",
    "        max_priority = max(list(map(lambda q:q[1], q))) if q else 0\n",
    "        if max_priority > v: # p보다 우선순위가 낮으면\n",
    "            q.append((i,v))\n",
    "        else: # p보다 우선순위가 높으면\n",
    "            \n",
    "            #print(i)\n",
    "            answer+=1\n",
    "            if i== find_idx:\n",
    "                break\n",
    "    \n",
    "    return answer\n",
    "\n",
    "solution(priorities, location)"
   ]
  }
 ],
 "metadata": {
  "kernelspec": {
   "display_name": "Python 3",
   "language": "python",
   "name": "python3"
  },
  "language_info": {
   "codemirror_mode": {
    "name": "ipython",
    "version": 3
   },
   "file_extension": ".py",
   "mimetype": "text/x-python",
   "name": "python",
   "nbconvert_exporter": "python",
   "pygments_lexer": "ipython3",
   "version": "3.7.3"
  }
 },
 "nbformat": 4,
 "nbformat_minor": 5
}
