{
 "cells": [
  {
   "cell_type": "markdown",
   "source": [
    "https://programmers.co.kr/learn/courses/30/lessons/42586"
   ],
   "metadata": {
    "ExecuteTime": {
     "end_time": "2021-09-15T05:46:14.651305Z",
     "start_time": "2021-09-15T05:46:14.633528Z"
    }
   }
  },
  {
   "cell_type": "code",
   "execution_count": 10,
   "source": [
    "progresses=[93, 30, 55]\r\n",
    "speeds=[1, 30, 5]"
   ],
   "outputs": [],
   "metadata": {
    "ExecuteTime": {
     "end_time": "2021-09-15T05:46:17.102964Z",
     "start_time": "2021-09-15T05:46:17.084533Z"
    }
   }
  },
  {
   "cell_type": "code",
   "execution_count": 11,
   "source": [
    "from collections import deque\r\n",
    "\r\n",
    "def solution(progresses, speeds):\r\n",
    "\r\n",
    "    res = []\r\n",
    "    for i in range(len(progresses)):\r\n",
    "        time = (100 - progresses[i]) // speeds[i]\r\n",
    "        if (100 - progresses[i]) % speeds[i] != 0:\r\n",
    "            time +=1\r\n",
    "        res.append(time)\r\n",
    "    \r\n",
    "    days = 0\r\n",
    "    queue = deque(res)\r\n",
    "    answer = []\r\n",
    "    while queue:\r\n",
    "        q = queue.popleft()\r\n",
    "        cnt = 1\r\n",
    "        while queue:\r\n",
    "            if q >= queue[0]:\r\n",
    "                queue.popleft()\r\n",
    "                cnt +=1\r\n",
    "            else:\r\n",
    "                break\r\n",
    "            \r\n",
    "        if cnt!=0:\r\n",
    "            answer.append(cnt)\r\n",
    "    return answer"
   ],
   "outputs": [],
   "metadata": {
    "ExecuteTime": {
     "end_time": "2021-09-15T05:46:17.314263Z",
     "start_time": "2021-09-15T05:46:17.276688Z"
    }
   }
  },
  {
   "cell_type": "code",
   "execution_count": 6,
   "source": [
    "solution(progresses, speeds)"
   ],
   "outputs": [
    {
     "output_type": "execute_result",
     "data": {
      "text/plain": [
       "[2, 1]"
      ]
     },
     "metadata": {},
     "execution_count": 6
    }
   ],
   "metadata": {
    "ExecuteTime": {
     "end_time": "2021-09-15T05:45:38.123982Z",
     "start_time": "2021-09-15T05:45:38.091534Z"
    }
   }
  }
 ],
 "metadata": {
  "kernelspec": {
   "display_name": "Python 3",
   "language": "python",
   "name": "python3"
  },
  "language_info": {
   "codemirror_mode": {
    "name": "ipython",
    "version": 3
   },
   "file_extension": ".py",
   "mimetype": "text/x-python",
   "name": "python",
   "nbconvert_exporter": "python",
   "pygments_lexer": "ipython3",
   "version": "3.7.3"
  }
 },
 "nbformat": 4,
 "nbformat_minor": 5
}