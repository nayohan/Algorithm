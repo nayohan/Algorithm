{
 "cells": [
  {
   "cell_type": "markdown",
   "metadata": {},
   "source": [
    "# 실패율\n",
    "\n",
    "슈퍼게임개발자 오렐리는 큰 고민에 빠졌습니다. 그녀가 만든 프렌즈 오천성이 대성공을 거뒀지만, 요즘 신규 사용자 수가 급갑했습니다. 원인은 신규 사용자와 기존 사용자 사이에 스테이지 차이가 너무 큰 것이 문제였습니다. \n",
    "\n",
    "이 문제를 어떻게 할까 고민한 그녀는 동적으로 게임시간을 늘려서 난이도를 조절하기로 했습니다. 역시 슈퍼 개발자라 대부분의 로직은 쉽게 구현했지만, 실패율을 구하는 부분에서 위기에 빠지고 말았습니다. 오렐리를 위해 실패율을 구하는 코드를 완성하세요.\n",
    "\n",
    "실패율은 다음과 같이 정의합니다.\n",
    " - 스테이지에 도달했으나 아직 클리어하지 못한 플레이어 수 / 스테이지에 도달한 플레이어수\n",
    " \n",
    " 전체 스테이지 개수 N, 게임을 이용하는 사용자가 현재 멈춰있는 스테이지의 번호가 담기 배열 stages가 매개변수로 주어질 때, 실패율이 높은 스테이지부터 내림차순으로 스테이지의 번호가 담겨 있는 배열을 return하도록 solution함수를 완성하세요."
   ]
  },
  {
   "cell_type": "markdown",
   "metadata": {},
   "source": [
    "입력  \n",
    "첫째줄: 집의 수 N (1 <= N <= 200,000)(자연수)\n",
    "둘째줄: N채의 집 위치 (1 <= 위치 <= 100,000)(자연수)\n",
    "\n",
    "입력 예시  \n",
    "5<br>\n",
    "[2,1,2,6,2,4,3,3]  \n",
    "[3,4,2,1,5]  "
   ]
  },
  {
   "cell_type": "markdown",
   "metadata": {},
   "source": [
    "출력  \n",
    "첫째줄: 안테나를 설치할 위치의 값 (단, 안테나를 설치할 수 있는 위치값, 여러값일 경우 오름차순\n",
    "\n",
    "출력 예시  \n",
    "5"
   ]
  },
  {
   "cell_type": "markdown",
   "metadata": {},
   "source": [
    "# 풀이"
   ]
  },
  {
   "cell_type": "code",
   "execution_count": 3,
   "metadata": {
    "ExecuteTime": {
     "end_time": "2021-05-17T14:53:55.178270Z",
     "start_time": "2021-05-17T14:53:55.126064Z"
    }
   },
   "outputs": [
    {
     "name": "stdout",
     "output_type": "stream",
     "text": [
      "[3, 4, 2, 1, 5]\n"
     ]
    }
   ],
   "source": [
    "n = 5\n",
    "stages = [2,1,2,6,2,4,3,3]\n",
    "stages.sort()\n",
    "\n",
    "save_num = len(stages)\n",
    "result = []\n",
    "for i in range(1, n + 1):\n",
    "    now_num = stages.count(i)\n",
    "    #print(i, now_num, save_num )\n",
    "    result.append([now_num / save_num, i])\n",
    "    save_num -= now_num\n",
    "    \n",
    "#print(result)\n",
    "result.sort(reverse=True, key=lambda v:[v[0],-v[1]])\n",
    "#print(result)\n",
    "print([i[1] for i in result])"
   ]
  },
  {
   "cell_type": "markdown",
   "metadata": {},
   "source": [
    "# 정답"
   ]
  },
  {
   "cell_type": "code",
   "execution_count": 4,
   "metadata": {
    "ExecuteTime": {
     "end_time": "2021-05-17T14:53:55.901682Z",
     "start_time": "2021-05-17T14:53:55.835577Z"
    }
   },
   "outputs": [
    {
     "data": {
      "text/plain": [
       "[3, 4, 2, 1, 5]"
      ]
     },
     "execution_count": 4,
     "metadata": {},
     "output_type": "execute_result"
    }
   ],
   "source": [
    "def solution(N, stages):\n",
    "    answer = []\n",
    "    length = len(stages)\n",
    "    \n",
    "    # 스테이지 번호를 1부터 N까지 증가시키며\n",
    "    for i in range(1, N + 1):\n",
    "        # 해당 스테이지에 머물러 있는 사람의 수 계산\n",
    "        count = stages.count(i)\n",
    "        \n",
    "        # 실패율 계산\n",
    "        if length == 0:\n",
    "            fail = 0\n",
    "        else:\n",
    "            fail = count / length\n",
    "        \n",
    "        # 리스트에 (스테이지 번호, 실패율) 원소 삽입\n",
    "        answer.append((i, fail))\n",
    "        length -= count\n",
    "        \n",
    "    # 실패율을 기준으로 각 스테이지를 내림차순 정렬\n",
    "    answer = sorted(answer, key=lambda t: t[1], reverse=True)\n",
    "    \n",
    "    # 정렬된 스테이지 번호 출력\n",
    "    answer = [i[0] for i in answer]\n",
    "    return answer\n",
    "\n",
    "solution(n, stages)"
   ]
  },
  {
   "cell_type": "markdown",
   "metadata": {},
   "source": [
    "# 정리"
   ]
  },
  {
   "cell_type": "markdown",
   "metadata": {},
   "source": []
  }
 ],
 "metadata": {
  "kernelspec": {
   "display_name": "Python 3",
   "language": "python",
   "name": "python3"
  },
  "language_info": {
   "codemirror_mode": {
    "name": "ipython",
    "version": 3
   },
   "file_extension": ".py",
   "mimetype": "text/x-python",
   "name": "python",
   "nbconvert_exporter": "python",
   "pygments_lexer": "ipython3",
   "version": "3.7.3"
  }
 },
 "nbformat": 4,
 "nbformat_minor": 4
}
