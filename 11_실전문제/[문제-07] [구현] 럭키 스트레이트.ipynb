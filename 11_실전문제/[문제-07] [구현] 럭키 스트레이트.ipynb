{
 "cells": [
  {
   "cell_type": "markdown",
   "metadata": {},
   "source": [
    "# 럭키 스트레이트\n",
    "게임의 아웃복서 캐릭터는 필살기인 '럭키 스트레이트' 기술이 있습니다. 이 기술은 매우 강력한 대신에 게임 내에서 점수가 특정 조건을 만족할 때만 사용할 수 있습니다.\n",
    "\n",
    "특정 조건이란 현재 캐릭터의 점수를 N이라고 할 때 자릿수를 기준으로 점수 N을 반으로 나누어 왼쪽 부분의 각 자릿수의 합과 오른쪽 부분의 각 자릿수의 합을 더한 값이 동일한 상황을 의미합니다.\n",
    "\n",
    "예를들어 현재 점수가 123,402라면 왼쪽부분의 각 자릿수합은 1+2+3, 오른쪽부분의 각 자릿수의 합은 4+0+2이므로 두 합이 6으롷 동일하여 럭키 스트레이트를 사용할 수 있습니다.\n",
    "\n",
    "현재 점수N이 주어지면 럭키 스트레이트를 사용할 수 있는 상태인지 아닌지를 알려주는 프로그램을 작성하세요."
   ]
  },
  {
   "cell_type": "markdown",
   "metadata": {},
   "source": [
    "입력  \n",
    "첫째줄: 정수 N (10 <= N <= 99,999,999) 단, 점수N의 자릿수는 항상 짝수 형태로만 주어집니다. 12,345(x)\n",
    "\n",
    "입력 예시  \n",
    "123402"
   ]
  },
  {
   "cell_type": "markdown",
   "metadata": {},
   "source": [
    "출력  \n",
    "럭키스트레이트를 사용할 수 있다면 \"LUCKY\"를, 사용할 수 없다면 \"READY\"를 출력\n",
    "\n",
    "출력 예시  \n",
    "LUKCY"
   ]
  },
  {
   "cell_type": "markdown",
   "metadata": {},
   "source": [
    "# 풀이"
   ]
  },
  {
   "cell_type": "code",
   "execution_count": 35,
   "metadata": {
    "ExecuteTime": {
     "end_time": "2021-03-08T11:21:20.969318Z",
     "start_time": "2021-03-08T11:21:19.005954Z"
    }
   },
   "outputs": [
    {
     "name": "stdout",
     "output_type": "stream",
     "text": [
      "123402\n",
      "[1, 2, 3, 4, 0, 2]\n"
     ]
    }
   ],
   "source": [
    "n = list(map(int,input()))\n",
    "print(n)"
   ]
  },
  {
   "cell_type": "code",
   "execution_count": 44,
   "metadata": {
    "ExecuteTime": {
     "end_time": "2021-03-08T11:25:24.667321Z",
     "start_time": "2021-03-08T11:25:24.596152Z"
    },
    "scrolled": true
   },
   "outputs": [
    {
     "name": "stdout",
     "output_type": "stream",
     "text": [
      "0 1 1 0\n",
      "1 2 3 0\n",
      "2 3 6 0\n",
      "3 4 6 4\n",
      "4 0 6 4\n",
      "5 2 6 6\n",
      "6 6\n",
      "LUCKY\n"
     ]
    }
   ],
   "source": [
    "center = len(n)//2\n",
    "left = 0\n",
    "right = 0\n",
    "\n",
    "for i, e in enumerate(n):\n",
    "    if i < center:\n",
    "        left += e\n",
    "    else:\n",
    "        right += e\n",
    "    print(i, e, left, right)\n",
    "\n",
    "print(left, right)\n",
    "if left ==right:\n",
    "    print(\"LUCKY\")\n",
    "else:\n",
    "    print(\"READY\")"
   ]
  },
  {
   "cell_type": "markdown",
   "metadata": {},
   "source": [
    "# 정답"
   ]
  },
  {
   "cell_type": "code",
   "execution_count": 4,
   "metadata": {
    "ExecuteTime": {
     "end_time": "2021-03-11T12:36:23.294675Z",
     "start_time": "2021-03-11T12:36:21.414304Z"
    },
    "scrolled": true
   },
   "outputs": [
    {
     "name": "stdout",
     "output_type": "stream",
     "text": [
      "123402\n",
      "LUCKY\n"
     ]
    }
   ],
   "source": [
    "n = input()\n",
    "length = len(n)\n",
    "summary = 0\n",
    "\n",
    "for i in range(length // 2):\n",
    "    summary += int(n[i])\n",
    "\n",
    "for i in range(length //2, length):\n",
    "    summary -= int(n[i])\n",
    "    \n",
    "if summary == 0:\n",
    "    print(\"LUCKY\")\n",
    "else:\n",
    "    prnit(\"READY\")"
   ]
  },
  {
   "cell_type": "markdown",
   "metadata": {},
   "source": [
    "# 정리"
   ]
  },
  {
   "cell_type": "markdown",
   "metadata": {},
   "source": [
    "시간복잡도면에서는 동일. 괜찮은 접근\n",
    "그리디는 구간을 나눠서 하나씩 완성해나가는 구현방법"
   ]
  }
 ],
 "metadata": {
  "kernelspec": {
   "display_name": "Python 3",
   "language": "python",
   "name": "python3"
  },
  "language_info": {
   "codemirror_mode": {
    "name": "ipython",
    "version": 3
   },
   "file_extension": ".py",
   "mimetype": "text/x-python",
   "name": "python",
   "nbconvert_exporter": "python",
   "pygments_lexer": "ipython3",
   "version": "3.7.3"
  }
 },
 "nbformat": 4,
 "nbformat_minor": 4
}
