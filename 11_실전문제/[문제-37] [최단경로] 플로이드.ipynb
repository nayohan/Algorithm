{
 "cells": [
  {
   "cell_type": "markdown",
   "metadata": {},
   "source": [
    "# 플로이드\n",
    "n(1 <= n <= 100)개의 도시가 있고, 한 도시에서 출발하여 다른 도시에 도착하는 m(1 <= m <= 100,000)개의 버스가 있습니다. 각 버스는 한 번 사용할 때 필요한 비용이 있습니다. 모든 도시의 쌍(A, B)에 대해서 도시 A에서 B로 가는데 필요한 비용의 최솟값을 구하는 프로그램을 작성하세요."
   ]
  },
  {
   "cell_type": "markdown",
   "metadata": {},
   "source": [
    "입력  \n",
    "첫째줄: 도시의 개수 n (1 <= n <= 100)  \n",
    "둘째줄: 버스의 개수 m (1 <= m <= 100,000)  \n",
    "셋째줄: 버스의 정보 a, b, c (시작도시, 도착도시, 비용)(비용은 100,000이하)  \n",
    "\n",
    "입력 예시    \n",
    "5  \n",
    "14  \n",
    "1 2 2  \n",
    "1 3 3   \n",
    "1 4 1  \n",
    "1 5 10  \n",
    "2 4 2  \n",
    "3 4 1  \n",
    "3 5 1  \n",
    "4 5 3  \n",
    "3 5 10  \n",
    "3 1 8  \n",
    "1 4 2  \n",
    "5 1 7  \n",
    "3 4 2  \n",
    "5 2 4   \n"
   ]
  },
  {
   "cell_type": "markdown",
   "metadata": {},
   "source": [
    "출력  \n",
    "n개의 줄 출력, i번째 줄에 출력하는 j번째 숫자는 도시i에서 j로 가는데 필요한 최소비용  \n",
    "만약, i에서 j로 갈수 없는 경우에는 그자리에 0을 출력\n",
    "\n",
    "출력 예시  \n",
    "0 2 3 1 4  \n",
    "12 0 15 2 5  \n",
    "8 5 0 1 1   \n",
    "10 7 13 0 3  \n",
    "7 4 10 6 0  "
   ]
  },
  {
   "cell_type": "markdown",
   "metadata": {},
   "source": [
    "# 풀이"
   ]
  },
  {
   "cell_type": "code",
   "execution_count": 26,
   "metadata": {
    "ExecuteTime": {
     "end_time": "2021-03-12T10:43:56.301327Z",
     "start_time": "2021-03-12T10:43:56.285955Z"
    }
   },
   "outputs": [],
   "source": [
    "import copy"
   ]
  },
  {
   "cell_type": "code",
   "execution_count": 35,
   "metadata": {
    "ExecuteTime": {
     "end_time": "2021-03-12T12:38:32.247467Z",
     "start_time": "2021-03-12T12:37:45.324979Z"
    },
    "scrolled": true
   },
   "outputs": [
    {
     "name": "stdout",
     "output_type": "stream",
     "text": [
      "5\n",
      "14\n",
      "1 2 2\n",
      "1 3 3\n",
      "1 4 1\n",
      "1 5 10\n",
      "2 4 2\n",
      "3 4 1\n",
      "3 5 1\n",
      "4 5 3\n",
      "3 5 10\n",
      "3 1 8\n",
      "1 4 2\n",
      "5 1 7\n",
      "3 4 2\n",
      "5 2 4\n"
     ]
    }
   ],
   "source": [
    "n = int(input())\n",
    "m = int(input())\n",
    "\n",
    "INF = 1e9\n",
    "graph = [[INF] * (n+1) for _ in range(n+1)]\n",
    "\n",
    "for i in range(1, n + 1):\n",
    "    graph[i][i] = 0\n",
    "\n",
    "for i in range(m):\n",
    "    a, b, c = map(int, input().split())\n",
    "    graph[a][b] = min(graph[a][b], c)\n",
    "\n",
    "# graph_o = copy.deepcopy(graph)\n",
    "# for k in range(1, n+1):\n",
    "#     for a in range(1, n+1):\n",
    "#         for b in range(1, n+1):\n",
    "#             graph[a][b] = min(graph[a][b], graph[a][k]+graph[k][b])"
   ]
  },
  {
   "cell_type": "code",
   "execution_count": 36,
   "metadata": {
    "ExecuteTime": {
     "end_time": "2021-03-12T12:38:41.143610Z",
     "start_time": "2021-03-12T12:38:41.082186Z"
    }
   },
   "outputs": [
    {
     "name": "stdout",
     "output_type": "stream",
     "text": [
      "0 2 3 1 4 \n",
      "12 0 15 2 5 \n",
      "8 5 0 1 1 \n",
      "10 7 13 0 3 \n",
      "7 4 10 6 0 \n"
     ]
    }
   ],
   "source": [
    "for k in range(1, n+1):\n",
    "     for a in range(1, n+1):\n",
    "        for b in range(1, n+1):\n",
    "            graph[a][b] = min(graph[a][b], graph[a][k]+graph[k][b])\n",
    "                              \n",
    "for a in range(1, n+1):\n",
    "    for b in range(1, n+1):\n",
    "        print(graph[a][b], end=' ')\n",
    "    print('')"
   ]
  },
  {
   "cell_type": "code",
   "execution_count": 34,
   "metadata": {
    "ExecuteTime": {
     "end_time": "2021-03-12T10:54:47.200859Z",
     "start_time": "2021-03-12T10:54:47.174695Z"
    },
    "scrolled": true
   },
   "outputs": [
    {
     "name": "stdout",
     "output_type": "stream",
     "text": [
      "0 2 3 1 4 \n",
      "12 0 15 2 5 \n",
      "8 5 0 1 1 \n",
      "10 7 13 0 3 \n",
      "7 4 10 6 0 \n"
     ]
    }
   ],
   "source": [
    "for a in range(1, n+1):\n",
    "    for b in range(1, n+1):\n",
    "        print(graph[a][b], end=' ')\n",
    "    print('')"
   ]
  },
  {
   "cell_type": "markdown",
   "metadata": {},
   "source": [
    "# 정답"
   ]
  },
  {
   "cell_type": "code",
   "execution_count": 2,
   "metadata": {
    "ExecuteTime": {
     "end_time": "2021-03-20T13:44:51.349116Z",
     "start_time": "2021-03-20T13:44:20.956876Z"
    }
   },
   "outputs": [
    {
     "name": "stdout",
     "output_type": "stream",
     "text": [
      "5\n",
      "14\n",
      "1 2 2\n",
      "1 3 3\n",
      "1 4 1\n",
      "1 5 10\n",
      "2 4 2\n",
      "3 4 1\n",
      "3 5 1\n",
      "4 5 3\n",
      "3 5 10\n",
      "3 1 8\n",
      "1 4 2\n",
      "5 1 7\n",
      "3 4 2\n",
      "5 2 4\n",
      "0 2 3 1 4 \n",
      "12 0 15 2 5 \n",
      "8 5 0 1 1 \n",
      "10 7 13 0 3 \n",
      "7 4 10 6 0 \n"
     ]
    }
   ],
   "source": [
    "## 전형적인 최단경로 문제\n",
    "INF = int(1e9)\n",
    "\n",
    "# 노드의 개수 및 간선의 개수를 입력받기\n",
    "n = int(input())\n",
    "m = int(input())\n",
    "# 2차원 리스트(그래프 표현)를 만들고, 모든 값을 무한으로 초기화\n",
    "graph = [[INF] * (n + 1) for _ in range(n+1)]\n",
    "\n",
    "# 자기 자신에게 자기 자신으로 가는 비용은 0으로 초기화\n",
    "for a in range(1, n + 1):\n",
    "    for b in range(1, n + 1):\n",
    "        if a == b:\n",
    "            graph[a][b] = 0\n",
    "            \n",
    "# 각 간선에 대한 정보를 입력받아, 그 값으로 초기화\n",
    "for _ in range(m):\n",
    "    # A에서 B로 가는 비용은 C 라고 설정\n",
    "    a, b, c = map(int, input().split())\n",
    "    # 가장 짧은 간선 정보만 저장\n",
    "    if c < graph[a][b]:\n",
    "        graph[a][b] = c\n",
    "        \n",
    "# 점화식에 따라 플로이드 워셜 알고리즘을 수행\n",
    "for k in range(1, n + 1):\n",
    "    for a in range(1, n + 1):\n",
    "        for b in range(1, n + 1):\n",
    "            graph[a][b] = min(graph[a][b], graph[a][k] + graph[k][b])\n",
    "\n",
    "# 수행된 결과를 출력\n",
    "for a in range(1, n + 1):\n",
    "    for b in range(1, n + 1):\n",
    "        # 도달할 수 없는 경우, 0을 출력\n",
    "        if graph[a][b] == INF:\n",
    "            print(0, end=' ')\n",
    "        # 도달할 수 있는 경우 거리를 출력\n",
    "        else:\n",
    "            print(graph[a][b], end=' ')\n",
    "    print()"
   ]
  },
  {
   "cell_type": "markdown",
   "metadata": {},
   "source": [
    "# 정리"
   ]
  },
  {
   "cell_type": "markdown",
   "metadata": {},
   "source": [
    "플로이드워셜 아이디어는 경로를 지나가는 더 짧은 노선을 찾는 것"
   ]
  }
 ],
 "metadata": {
  "kernelspec": {
   "display_name": "Python 3",
   "language": "python",
   "name": "python3"
  },
  "language_info": {
   "codemirror_mode": {
    "name": "ipython",
    "version": 3
   },
   "file_extension": ".py",
   "mimetype": "text/x-python",
   "name": "python",
   "nbconvert_exporter": "python",
   "pygments_lexer": "ipython3",
   "version": "3.7.3"
  }
 },
 "nbformat": 4,
 "nbformat_minor": 4
}
