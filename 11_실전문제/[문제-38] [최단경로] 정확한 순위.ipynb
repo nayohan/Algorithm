{
 "cells": [
  {
   "cell_type": "markdown",
   "metadata": {},
   "source": [
    "# 정확한 순위\n",
    "선생님은 시험을 본 학생N명의 성적을 분실하고, 성적을 비교한 결과의 일부만 가지고 있습니다. 학생N명의 성적은 모두 다른데, 다음은 6명의 학생에 대하여 6번만 성적을 비교한 결과입니다.\n",
    "\n",
    "- 1번 학생의 성적 < 5번 학생의 성적\n",
    "- 3번 학생의 성적 < 4번 학생의 성적\n",
    "- 4번 학생의 성적 < 2번 학생의 성적\n",
    "- 4번 학생의 성적 < 6번 학생의 성적\n",
    "- 5번 학생의 성적 < 2번 학생의 성적\n",
    "- 5번 학생의 성적 < 4번 학생의 성적\n",
    "\n",
    "A번 학생의 성적이 B번 학생보다 낮다면 화살표가 A에서 B를 가리키도록 할때 위의 성적 결과를 다음그림처럼 표현\n",
    "\n",
    "이 그림으로 유추해서 순위를 정확히 알 수 있는 학생도 있고, 알 수 없는 학생도 있습니다. 예를 들어 1번 학생은 5번학생보다 성적이 낮고, 5번학생은 4번학생보다 성적이 낮으므로 1번학생은 4번학생보다 성적이 낮습니다. 따라서 1번, 3번, 5번학생은 모두 4번학생보다 성적이 낮다고 볼 수있습니다. 그리고 4번학생은 2번학생과 6번학생보다 성적이 낮습니다. 정리하면 4번학생보다 성적이 낮은 학생은 3명이고, 성적이 높은 학생이 2명이므로 4번학생의 성적순위를 정확히 알 수 있습니다. 하지만 예시에서 4번학생을 제외한 다른 학생은 정확한 순위를 알 수 없습니다.\n",
    "\n",
    "학생들의 성적을 비교한 결과가 주어질 때, 성적 순위를 정확히 알 수 있는 학생은 모두 몇명인지 계산하는 프로그램을 작성하세요."
   ]
  },
  {
   "cell_type": "markdown",
   "metadata": {},
   "source": [
    "입력  \n",
    "첫째줄:학생들의 수 N (2 <= N < 500) 두학생의 성적을 비교한 횟수 M (2 <= M <= 10,000)\n",
    "다음줄:두학생의 성적을 비교한 결과 A < B\n",
    "\n",
    "입력 예시  \n",
    "6 6  \n",
    "1 5  \n",
    "3 4  \n",
    "4 2  \n",
    "4 6  \n",
    "5 2  \n",
    "5 4  "
   ]
  },
  {
   "cell_type": "markdown",
   "metadata": {},
   "source": [
    "출력  \n",
    "성적 순위를 정확히 알 수 있는 학생이 몇명인지 출력\n",
    "\n",
    "출력 예시  \n",
    "1"
   ]
  },
  {
   "cell_type": "markdown",
   "metadata": {},
   "source": [
    "# 풀이"
   ]
  },
  {
   "cell_type": "code",
   "execution_count": 85,
   "metadata": {
    "ExecuteTime": {
     "end_time": "2021-03-20T11:48:09.732727Z",
     "start_time": "2021-03-20T11:48:09.711744Z"
    }
   },
   "outputs": [
    {
     "name": "stdout",
     "output_type": "stream",
     "text": [
      "[[], [5], [], [4], [2, 6], [2, 4], []]\n"
     ]
    }
   ],
   "source": [
    "import heapq\n",
    "INF = int(1e2)\n",
    "\n",
    "# n, m = map(int, input().split())\n",
    "# graph = [[] for _ in range(n+1)]\n",
    "\n",
    "# for i in range(m):\n",
    "#     a,b = map(int, input().split())\n",
    "#     graph[a].append(b)\n",
    "#     #graph[b].append(a)\n",
    "    \n",
    "n, m = 6, 6\n",
    "graph = [[],[5],[],[4],[2, 6],[2, 4],[]]\n",
    "\n",
    "visited = [False] * (n + 1)\n",
    "distance   = [INF] * (n + 1)\n",
    "\n",
    "print(graph)"
   ]
  },
  {
   "cell_type": "code",
   "execution_count": 86,
   "metadata": {
    "ExecuteTime": {
     "end_time": "2021-03-20T11:48:10.110448Z",
     "start_time": "2021-03-20T11:48:10.087624Z"
    }
   },
   "outputs": [
    {
     "name": "stdout",
     "output_type": "stream",
     "text": [
      "[set(), set(), {1, 3, 4, 5}, set(), {1, 3, 5}, {1}, [4]]\n"
     ]
    }
   ],
   "source": [
    "# A. 기록방법\n",
    "##### 연결되는 것을 기록하는 방법, 마지막에 갯수 카운팅이 어려움\n",
    "connect = [[] for _ in range(n+1)]\n",
    "for now in range(n):\n",
    "    for i in graph[now]:\n",
    "        connect[i].append(now)\n",
    "        \n",
    "for now in range(n):\n",
    "    for i in connect[now]: #연결된 원소의\n",
    "        for j in connect[i]: #내부값들을 추가\n",
    "            connect[now].append(j)\n",
    "    connect[now] = set(connect[now])\n",
    "        \n",
    "print(connect)"
   ]
  },
  {
   "cell_type": "code",
   "execution_count": 87,
   "metadata": {
    "ExecuteTime": {
     "end_time": "2021-03-20T11:49:27.869556Z",
     "start_time": "2021-03-20T11:49:27.796118Z"
    },
    "scrolled": true
   },
   "outputs": [
    {
     "name": "stdout",
     "output_type": "stream",
     "text": [
      "[100, 100, 100, 100, 100, 100, 100]\n",
      "[100, 100, 2, 100, 2, 1, 3]\n",
      "[100, 100, 100, 100, 100, 100, 100]\n",
      "[100, 100, 2, 100, 1, 100, 2]\n",
      "[100, 100, 1, 100, 100, 100, 1]\n",
      "[100, 100, 1, 100, 1, 100, 2]\n",
      "[100, 100, 100, 100, 100, 100, 100]\n",
      "1\n"
     ]
    }
   ],
   "source": [
    "# B. 다이스트라\n",
    "def dijkstra(start):\n",
    "    q = []\n",
    "    heapq.heappush(q, (1, start))\n",
    "    \n",
    "    while q:\n",
    "        dist, now = heapq.heappop(q)\n",
    "        #print(dist, now)\n",
    "        for i in graph[now]:\n",
    "            cost = distance[i]\n",
    "            if dist < cost:\n",
    "                distance[i] = dist\n",
    "                visited[i] == True\n",
    "                heapq.heappush(q, (dist + 1, i))\n",
    "\n",
    "# 연결된 최단거리의 길이를 2차원데이터화                \n",
    "maps = []\n",
    "for i in range(n+1):\n",
    "    distance   = [INF] * (n + 1)\n",
    "    dijkstra(i)\n",
    "    maps.append(distance)\n",
    "    \n",
    "    \n",
    "for i in range(n+1):\n",
    "    print(maps[i])\n",
    "\n",
    "# 갯수가 연결되는 경로가 무한대가 아닌게 5개이면 순위를 알수 있음\n",
    "result_all = 0\n",
    "for i in range(n+1):\n",
    "    result = 0\n",
    "    for j in range(n+1):\n",
    "        if maps[i][j] == INF:\n",
    "            if maps[j][i] != INF:\n",
    "                result += 1\n",
    "        else:\n",
    "            result += 1\n",
    "    \n",
    "    if result== 5:\n",
    "        result_all += 1\n",
    "\n",
    "print(result_all)"
   ]
  },
  {
   "cell_type": "markdown",
   "metadata": {},
   "source": [
    "# 정답"
   ]
  },
  {
   "cell_type": "code",
   "execution_count": null,
   "metadata": {},
   "outputs": [],
   "source": [
    "6 6  \n",
    "1 5  \n",
    "3 4  \n",
    "4 2  \n",
    "4 6  \n",
    "5 2  \n",
    "5 4  "
   ]
  },
  {
   "cell_type": "code",
   "execution_count": 9,
   "metadata": {
    "ExecuteTime": {
     "end_time": "2021-03-24T03:37:25.861526Z",
     "start_time": "2021-03-24T03:37:14.018720Z"
    }
   },
   "outputs": [
    {
     "name": "stdout",
     "output_type": "stream",
     "text": [
      "6 6\n",
      "1 5\n",
      "3 4\n",
      "4 2\n",
      "4 6\n",
      "5 2\n",
      "5 4\n",
      "1\n"
     ]
    }
   ],
   "source": [
    "### C. 플로이드 워셜\n",
    "\n",
    "INF = int(1e9)\n",
    "\n",
    "# 노드의 개수, 간선의 개수를 입력받기\n",
    "n, m = map(int, input().split())\n",
    "n, m = 6, 6\n",
    "graph = [[],[5],[],[4],[2, 6],[2, 4],[]]\n",
    "\n",
    "# 2차원 리스트(그래프 표현)를 만들고, 모든 값을 무한으로 초기화\n",
    "graph = [[INF] * (n + 1) for _ in range(n + 1)]\n",
    "\n",
    "# 자기 자신에서 자기자신으로 가는 비용은 0으로 초기화\n",
    "for i in range(1, n + 1):\n",
    "    graph[i][i] = 0\n",
    "    \n",
    "# 각 간선에 대한 정보를 입력받아 초기화\n",
    "for i in range(m):\n",
    "    a,b = map(int, input().split())\n",
    "    graph[a][b] = 1\n",
    "    \n",
    "# 점화식에 따라 플로이드 알고리즘을 수행\n",
    "for k in range(1, n + 1):\n",
    "    for a in  range(1, n + 1):\n",
    "        for b in range(1, n + 1):\n",
    "            graph[a][b] = min(graph[a][b], graph[a][k] + graph[k][b])\n",
    "            \n",
    "result = 0\n",
    "# 각 학생을 번호에 따라 한 명씩 확인하며 도달 가능한지 체크\n",
    "for i in range(1, n + 1):\n",
    "    count = 0\n",
    "    for j in range(1, n + 1):\n",
    "        if graph[i][j] != INF or graph[j][i] != INF:\n",
    "            count += 1\n",
    "    if count == n:\n",
    "        result += 1\n",
    "\n",
    "print(result)"
   ]
  },
  {
   "cell_type": "markdown",
   "metadata": {},
   "source": [
    "# 정리"
   ]
  },
  {
   "cell_type": "markdown",
   "metadata": {},
   "source": [
    "최단경로 문제은 플로이드 워셜과 다이스트라 두가지로 푸는게 가능"
   ]
  }
 ],
 "metadata": {
  "kernelspec": {
   "display_name": "Python 3",
   "language": "python",
   "name": "python3"
  },
  "language_info": {
   "codemirror_mode": {
    "name": "ipython",
    "version": 3
   },
   "file_extension": ".py",
   "mimetype": "text/x-python",
   "name": "python",
   "nbconvert_exporter": "python",
   "pygments_lexer": "ipython3",
   "version": "3.7.3"
  }
 },
 "nbformat": 4,
 "nbformat_minor": 4
}
