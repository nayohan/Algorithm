{
 "cells": [
  {
   "cell_type": "markdown",
   "metadata": {},
   "source": [
    "# 여행 계획\n",
    "한울이가 사는 나라에는 N개의 여행지가 잇으면, 각 여행지는 1 ~ N번까지의 번호로 구분됩니다. 또한 임의의 두 여행지 사이에는 두 여행지를 연결하는 도로가 존재 할 수 있습니다. 이때, 여행지가 도로로 연결되어 있다면 양방향으로 이동이 가능하다는 의미입니다. 한울이는 하나의 여행계획을 세운 뒤에 이 여행 계획이 가능한지의 여부를 판단하고자 합니다. 예를 들어 N=5이고, 다음과 같이 도로의 정보가 주어졌다고 가정합시다.\n",
    " \n",
    " - 1번 여행지 - 2번 여행지\n",
    " - 1번 여행지 - 4번 여행지\n",
    " - 1번 여행지 - 5번 여행지\n",
    " - 2번 여행지 - 3번 여행지\n",
    " - 2번 여행지 - 4번 여행지\n",
    " \n",
    " 만약 한울이의 여행계획이 2번 -> 3번 -> 4번 -> 3번이라고 해봅시다. 이경우 2번 -> 3번 -> 2번 -> 4번 -> 2번 -> 3번의 순서로 여행지를 방문하면, 여행 계획을 따를 수 있습니다. \n",
    " 여행지의 개수와 여행지 간의 연결 정보가 주어졌을때, 한울이의 여행 계획이 가능한지의 여부를 판별하는 프로그램을 작성하세요."
   ]
  },
  {
   "cell_type": "markdown",
   "metadata": {},
   "source": [
    "입력  \n",
    "첫째줄: 여행지의 수 N, 여행 계획에 속한 도시수 M (1 <= N, M <= 500)  \n",
    "N개줄 : N x N 행렬을 통해 임의의 두 여행지가 서로 연결되어 잇는지의 여부 (연결:1, 연결x:0)\n",
    "\n",
    "입력 예시    \n",
    "5 4  \n",
    "0 1 0 1 1   \n",
    "1 0 1 1 0  \n",
    "0 1 0 0 0  \n",
    "1 1 0 0 0  \n",
    "1 0 0 0 0  \n",
    "2 3 4 3  "
   ]
  },
  {
   "cell_type": "markdown",
   "metadata": {},
   "source": [
    "출력  \n",
    "첫째줄: 한울이의 여행 계획이 가능하다면 YES를, 불가능하다면 NO를 출력\n",
    "\n",
    "출력 예시  \n",
    "YES"
   ]
  },
  {
   "cell_type": "markdown",
   "metadata": {},
   "source": [
    "# 풀이"
   ]
  },
  {
   "cell_type": "code",
   "execution_count": 8,
   "metadata": {
    "ExecuteTime": {
     "end_time": "2021-03-12T12:52:14.334266Z",
     "start_time": "2021-03-12T12:52:01.185737Z"
    },
    "scrolled": false
   },
   "outputs": [
    {
     "name": "stdout",
     "output_type": "stream",
     "text": [
      "5 4\n",
      "0 1 0 1 1\n",
      "1 0 1 1 0\n",
      "0 1 0 0 0\n",
      "1 1 0 0 0\n",
      "1 0 0 0 0\n",
      "YES\n"
     ]
    }
   ],
   "source": [
    "def find_parent(parent, x):\n",
    "    if parent[x] != x:\n",
    "        parent[x] = find_parent(parent, parent[x])\n",
    "    return parent[x]\n",
    "\n",
    "def union_parent(parent, a, b):\n",
    "    a = find_parent(parent, a)\n",
    "    b = find_parent(parent, b)\n",
    "    if a < b:\n",
    "        parent[b] = a\n",
    "    else:\n",
    "        parent[a] = b\n",
    "        \n",
    "n, m = map(int, input().split())\n",
    "parent = [i for i in range(n+1)]\n",
    "maps = []\n",
    "\n",
    "for i in range(m):\n",
    "    data =  list(map(int, input().split()))\n",
    "    maps.append(data)\n",
    "    \n",
    "for i in range(m):\n",
    "    for j in range(m):\n",
    "        if i > j:\n",
    "            if maps[i][j]:\n",
    "                union_parent(parent, i, j)\n",
    "\n",
    "plans = list(map(int, input().split()))\n",
    "p = find_parent(parent, plans[0])\n",
    "final=True\n",
    "for plan  in plans:\n",
    "    result = find_parent(parent, plan)\n",
    "    if result != p:\n",
    "        final=False\n",
    "    \n",
    "if final==True:\n",
    "    print(\"YES\")\n",
    "else:\n",
    "    print(\"NO\")\n",
    "    "
   ]
  },
  {
   "cell_type": "code",
   "execution_count": null,
   "metadata": {
    "ExecuteTime": {
     "end_time": "2021-03-12T12:50:06.756940Z",
     "start_time": "2021-03-12T12:48:48.053Z"
    }
   },
   "outputs": [],
   "source": [
    "print(maps)"
   ]
  },
  {
   "cell_type": "markdown",
   "metadata": {},
   "source": [
    "### 정답"
   ]
  },
  {
   "cell_type": "code",
   "execution_count": 5,
   "metadata": {
    "ExecuteTime": {
     "end_time": "2021-03-20T14:08:49.973329Z",
     "start_time": "2021-03-20T14:08:32.301981Z"
    }
   },
   "outputs": [
    {
     "name": "stdout",
     "output_type": "stream",
     "text": [
      "5 4\n",
      "0 1 0 1 1\n",
      "1 0 1 1 0\n",
      "0 1 0 0 0\n",
      "1 1 0 0 0\n",
      "1 0 0 0 0\n",
      "2 3 4 3\n",
      "YES\n"
     ]
    }
   ],
   "source": [
    "# 특정 원소가 속한 집합을 찾기\n",
    "def find_parent(parent, x):\n",
    "    # 루트 노드가 아니라면, 루트 노드를 찾을 때가지 재귀적으로 호출\n",
    "    if parent[x] != x:\n",
    "        parent[x] = find_parent(parent, parent[x])\n",
    "    return parent[x]\n",
    "\n",
    "def union_parent(parent, a, b):\n",
    "    a = find_parent(parent, a)\n",
    "    b = find_parent(parent, b)\n",
    "    if a < b:\n",
    "        parent[b] = a\n",
    "    else:\n",
    "        parent[a] = b\n",
    "\n",
    "# 여행지의 개수와 여행 계획에 속한 여행지의 개수 입력받기\n",
    "n, m = map(int, input().split())\n",
    "parent = [0] * (n + 1) # 부모 테이블 초기화\n",
    "# uniont 연산을 각각 수행\n",
    "for i in range(n):\n",
    "    data = list(map(int, input().split()))\n",
    "    for j in range(n):\n",
    "        if data[j] == 1: # 연결된 경우 union 연산 수행\n",
    "            union_parent(parent, i + 1, j + 1)\n",
    "# 여행 계획 입력받기\n",
    "plan = list(map(int, input().split()))\n",
    "\n",
    "result = True\n",
    "# 여행 계획에 속하는 모든 노드의 루트가 동일한지 확인\n",
    "for i in range(m-1):\n",
    "    if find_parent(parent, plan[i]) != find_parent(parent, plan[i +1]):\n",
    "        result = False\n",
    "    \n",
    "# 여행 계획에 속하는 모든 노드가 서로 연결되어 있는지 확인\n",
    "if result:\n",
    "    print(\"YES\")\n",
    "else:\n",
    "    print(\"NO\")"
   ]
  },
  {
   "cell_type": "markdown",
   "metadata": {},
   "source": [
    "# 정리"
   ]
  },
  {
   "cell_type": "markdown",
   "metadata": {},
   "source": [
    "그래프 문제는  find_parent, union_parent함수를 응용해서 같은 그룹인지 확인"
   ]
  }
 ],
 "metadata": {
  "kernelspec": {
   "display_name": "Python 3",
   "language": "python",
   "name": "python3"
  },
  "language_info": {
   "codemirror_mode": {
    "name": "ipython",
    "version": 3
   },
   "file_extension": ".py",
   "mimetype": "text/x-python",
   "name": "python",
   "nbconvert_exporter": "python",
   "pygments_lexer": "ipython3",
   "version": "3.7.3"
  }
 },
 "nbformat": 4,
 "nbformat_minor": 4
}
