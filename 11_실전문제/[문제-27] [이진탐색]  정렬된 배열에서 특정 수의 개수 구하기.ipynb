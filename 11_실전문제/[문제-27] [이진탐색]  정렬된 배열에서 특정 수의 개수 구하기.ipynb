{
 "cells": [
  {
   "cell_type": "markdown",
   "metadata": {},
   "source": [
    "# 정렬된 배열에서 특정수의 개수 구하기\n",
    "\n",
    "N개의 원소를 포함하고 있는 수열이 오름차순으로 정렬되어 있습니다. 이때 이 수열에서 x가 등장하는 횟수를 계산하세요.예를 들어 수열 {1, 1, 2, 2, 2, 3} 이 있을때 x = 2라면, 현재 수열에서 값이 2인 원소가 4개이므로 4를 출력합니다.\n",
    "\n",
    "단, 이문제는 시간 복잡도 O(logN)으로 알고리즘을 설계하지 않으면 '시간초과' 판정을 받습니다."
   ]
  },
  {
   "cell_type": "markdown",
   "metadata": {},
   "source": [
    "입력  \n",
    "첫째줄: 도현이네 반 학생수 N (1 <= N <= 100,000)  \n",
    "둘째줄: 각 학생의 이름, 국어, 영어, 수학 점수 (1 <= 점수 <= 100) (이름, 대소문자, 10자리이하)\n",
    "\n",
    "입력 예시  \n",
    "7 2\n",
    "1 1 2 2 2 2 3\n",
    "\n",
    "7 4\n",
    "1 1 2 2 2 2 3"
   ]
  },
  {
   "cell_type": "markdown",
   "metadata": {},
   "source": [
    "출력  \n",
    "문제에 나와있는 정렬 기준으로 정렬한 후 첮째 줄부터 N개의 줄에 걸쳐 각 학생의 이름을 출력\n",
    "\n",
    "출력 예시  \n",
    "4\n",
    "\n",
    "-1"
   ]
  },
  {
   "cell_type": "markdown",
   "metadata": {},
   "source": [
    "# 풀이"
   ]
  },
  {
   "cell_type": "code",
   "execution_count": 37,
   "metadata": {
    "ExecuteTime": {
     "end_time": "2021-03-10T10:02:56.157230Z",
     "start_time": "2021-03-10T10:02:51.532961Z"
    }
   },
   "outputs": [
    {
     "name": "stdout",
     "output_type": "stream",
     "text": [
      "7 2\n",
      "1 1 2 2 2 2 3\n"
     ]
    }
   ],
   "source": [
    "n,x = map(int, input().split())\n",
    "data = list(map(int, input().split()))"
   ]
  },
  {
   "cell_type": "code",
   "execution_count": 42,
   "metadata": {
    "ExecuteTime": {
     "end_time": "2021-03-10T10:03:48.452986Z",
     "start_time": "2021-03-10T10:03:48.393873Z"
    }
   },
   "outputs": [
    {
     "name": "stdout",
     "output_type": "stream",
     "text": [
      "0 6 3\n",
      "4\n"
     ]
    }
   ],
   "source": [
    "def binary_tree(start, end, find):\n",
    "    while start <= end:\n",
    "        center = (start + end) // 2\n",
    "        print(start, end, center)\n",
    "        if data[center] == find:\n",
    "            return center\n",
    "            \n",
    "        if data[center] > find:\n",
    "            end = center - 1\n",
    "        else:\n",
    "            start = center + 1\n",
    "    return -1\n",
    "   \n",
    "\n",
    "l_idx = binary_tree(0, n-1, x)\n",
    "r_idx = l_idx\n",
    "\n",
    "while data[l_idx] == x:\n",
    "    l_idx -= 1\n",
    "while data[r_idx] == x:\n",
    "    r_idx += 1\n",
    "\n",
    "#print(r_idx, l_idx)\n",
    "print(r_idx - l_idx -1)"
   ]
  },
  {
   "cell_type": "markdown",
   "metadata": {},
   "source": [
    "# 정답"
   ]
  },
  {
   "cell_type": "code",
   "execution_count": 65,
   "metadata": {
    "ExecuteTime": {
     "end_time": "2021-03-11T10:11:40.092374Z",
     "start_time": "2021-03-11T10:11:35.347126Z"
    }
   },
   "outputs": [
    {
     "name": "stdout",
     "output_type": "stream",
     "text": [
      "7 2 \n",
      "1 1 2 2 2 2 3\n"
     ]
    }
   ],
   "source": [
    "n,x = map(int, input().split())\n",
    "data = list(map(int, input().split()))"
   ]
  },
  {
   "cell_type": "code",
   "execution_count": 84,
   "metadata": {
    "ExecuteTime": {
     "end_time": "2021-03-11T10:16:23.526772Z",
     "start_time": "2021-03-11T10:16:23.459850Z"
    }
   },
   "outputs": [
    {
     "name": "stdout",
     "output_type": "stream",
     "text": [
      "4\n"
     ]
    }
   ],
   "source": [
    "def binary_search_l(start, end, target):\n",
    "    while start <= end:\n",
    "        mid = (start + end) // 2\n",
    "        \n",
    "        if data[mid] == target and (data[mid-1] != target or mid == 0):\n",
    "            return mid\n",
    "        elif data[mid] >= target:\n",
    "            end = mid - 1\n",
    "        else:\n",
    "            start = mid + 1\n",
    "    return None\n",
    "    \n",
    "def binary_search_r(start, end, target):\n",
    "    while start <= end:\n",
    "        mid = (start + end) // 2\n",
    "        \n",
    "        if data[mid] == target and (data[mid+1] != target or mid == n - 1):\n",
    "            return mid\n",
    "        elif data[mid] > target:\n",
    "            end = mid - 1\n",
    "        else:\n",
    "            start = mid + 1\n",
    "    return None\n",
    "\n",
    "def count_by_value(x):\n",
    "    right = binary_search_r(0, n-1, x)\n",
    "    left = binary_search_l(0, n-1, x)\n",
    "\n",
    "    if left != -1 and right != -1:\n",
    "        print(right - left + 1)\n",
    "    else:\n",
    "        print(-1)\n",
    "        \n",
    "count = count_by_value(x)  "
   ]
  },
  {
   "cell_type": "code",
   "execution_count": 59,
   "metadata": {
    "ExecuteTime": {
     "end_time": "2021-03-11T10:10:59.821644Z",
     "start_time": "2021-03-11T10:10:54.467880Z"
    }
   },
   "outputs": [
    {
     "name": "stdout",
     "output_type": "stream",
     "text": [
      "7 4\n",
      "1 1 2 2 2 3\n"
     ]
    }
   ],
   "source": [
    "n,x = map(int, input().split())\n",
    "data = list(map(int, input().split()))"
   ]
  },
  {
   "cell_type": "code",
   "execution_count": 83,
   "metadata": {
    "ExecuteTime": {
     "end_time": "2021-03-11T10:12:20.620783Z",
     "start_time": "2021-03-11T10:12:20.588830Z"
    }
   },
   "outputs": [
    {
     "name": "stdout",
     "output_type": "stream",
     "text": [
      "-1\n"
     ]
    }
   ],
   "source": [
    "right = bisect_right(data, x) \n",
    "left = bisect_left(data, x)\n",
    "\n",
    "if left != n-1 and right != n-1:\n",
    "    print(right - left)\n",
    "else:\n",
    "    print(-1)"
   ]
  },
  {
   "cell_type": "markdown",
   "metadata": {},
   "source": [
    "# 정리"
   ]
  },
  {
   "cell_type": "markdown",
   "metadata": {},
   "source": [
    "구현의 중요성 및 라이브러리의 활용이 필요함\n",
    "두가지중에 라이브러리로 시도해보고, 불가능하다면 직접구현할 능력도 겸비해야함"
   ]
  }
 ],
 "metadata": {
  "kernelspec": {
   "display_name": "Python 3",
   "language": "python",
   "name": "python3"
  },
  "language_info": {
   "codemirror_mode": {
    "name": "ipython",
    "version": 3
   },
   "file_extension": ".py",
   "mimetype": "text/x-python",
   "name": "python",
   "nbconvert_exporter": "python",
   "pygments_lexer": "ipython3",
   "version": "3.7.3"
  }
 },
 "nbformat": 4,
 "nbformat_minor": 4
}
