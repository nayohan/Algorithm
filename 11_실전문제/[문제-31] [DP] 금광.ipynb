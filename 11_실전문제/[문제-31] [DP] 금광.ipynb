{
 "cells": [
  {
   "cell_type": "markdown",
   "metadata": {},
   "source": [
    "# 금광\n",
    "n x m 크기의 금광이 있습니다. 금광은 1 x 1 크기의 칸으로 나누어져 있으며, 각 칸은 특정한 크기의 금이 들어 있습니다. 채굴자는 첫 번째 열부터 출발하여 금을 캐기 시작합니다. 맨 처음에는 첫번째 열의 어느행에서든 출발할 수 있습니다. 이후에 m번에 걸쳐서 매번 오른쪽 위, 오른쪽, 오른쪽 아래 3가지 중 하나의 위치로 이동해야 합니다. 결과적으로 채굴자가 얻을수 있는 금의 최대 크기를 출력하는 프로그램을 작성하세요.\n",
    "\n",
    "만약 다음과 같이 3 X 4 크기의 금광이 존재한다고 가정\n",
    "1 3 3 2  \n",
    "2 1 4 1  \n",
    "0 6 4 7  \n",
    "\n",
    "가장 왼쪽 위의 위치를 (1, 1), 가장 오른쪽 아래의 위치를 (n, m)이라고 할 때, 위 예시에서는 (2,1) -> (3,2) -> (2,3) -> (3,4)의 위치로 이동하면 총 19만큼의 금을 채굴할 수 있으며, 이때의 값이 최댓값입니다."
   ]
  },
  {
   "cell_type": "markdown",
   "metadata": {},
   "source": [
    "입력  \n",
    "첫째줄: 테스트 케이스 T (1 <= T <= 1000)  \n",
    " - 매 테스트 케이스 첫째 줄에 n과 m이 공백으로 구분되어 입력됨 (1 <= n, m <= 20), 둘째 줄에 n x m개의 위치에 매장된 금의 개수가 공백으로 구분 되어 입력 (1 <= 각 위치에 매장된 금의 개수 <= 100)\n",
    "\n",
    "입력 예시  \n",
    "2  \n",
    "3 4  \n",
    "1 3 3 2 2 1 4 1 0 6 4 7  \n",
    "4 4  \n",
    "1 3 1 5 2 2 4 1 5 0 2 3 0 6 1 2  "
   ]
  },
  {
   "cell_type": "markdown",
   "metadata": {},
   "source": [
    "출력  \n",
    "테스트 케이스마다 채굴자가 얻을 수 있는 금의 최대 크기를 출력. 각 테스트 케이스는 줄바꿈을 이용해 구분  \n",
    "\n",
    "출력 예시  \n",
    "19  \n",
    "16"
   ]
  },
  {
   "cell_type": "markdown",
   "metadata": {},
   "source": [
    "# 풀이"
   ]
  },
  {
   "cell_type": "code",
   "execution_count": 40,
   "metadata": {
    "ExecuteTime": {
     "end_time": "2021-03-11T14:29:49.214337Z",
     "start_time": "2021-03-11T14:29:27.534840Z"
    }
   },
   "outputs": [
    {
     "name": "stdout",
     "output_type": "stream",
     "text": [
      "2\n",
      "3 4 \n",
      "1 3 3 2 2 1 4 1 0 6 4 7\n",
      "[[1, 3, 3, 2], [2, 1, 4, 1], [0, 6, 4, 7]]\n",
      "19\n",
      "4 4 \n",
      "1 3 1 5 2 2 4 1 5 0 2 3 0 6 1 2\n",
      "[[1, 3, 1, 5], [2, 2, 4, 1], [5, 0, 2, 3], [0, 6, 1, 2]]\n",
      "16\n"
     ]
    }
   ],
   "source": [
    "t = int(input())\n",
    "for i in range(t):\n",
    "    n, m = map(int, input().split())\n",
    "    data = list(map(int, input().split()))\n",
    "    \n",
    "    d = [data[i*m:i*m+m] for i in range(n)]\n",
    "    print(d)\n",
    "\n",
    "    for k in range(1, m):\n",
    "        for j in range(n):\n",
    "            \n",
    "            if j== 0:\n",
    "                d[j][k] = max([d[j][k-1], d[j+1][k-1]]) + d[j][k]\n",
    "            elif j == n-1:\n",
    "                d[j][k] = max([d[j-1][k-1], d[j][k-1]])  + d[j][k]\n",
    "            else:\n",
    "                d[j][k] = max([d[j-1][k-1], d[j][k-1], d[j+1][k-1]])  + d[j][k]\n",
    "    \n",
    "    print(max(map(max, d)))"
   ]
  },
  {
   "cell_type": "markdown",
   "metadata": {},
   "source": [
    "# 정답"
   ]
  },
  {
   "cell_type": "code",
   "execution_count": null,
   "metadata": {},
   "outputs": [],
   "source": []
  },
  {
   "cell_type": "markdown",
   "metadata": {},
   "source": [
    "# 정리"
   ]
  },
  {
   "cell_type": "markdown",
   "metadata": {},
   "source": []
  }
 ],
 "metadata": {
  "kernelspec": {
   "display_name": "Python 3",
   "language": "python",
   "name": "python3"
  },
  "language_info": {
   "codemirror_mode": {
    "name": "ipython",
    "version": 3
   },
   "file_extension": ".py",
   "mimetype": "text/x-python",
   "name": "python",
   "nbconvert_exporter": "python",
   "pygments_lexer": "ipython3",
   "version": "3.7.3"
  }
 },
 "nbformat": 4,
 "nbformat_minor": 4
}
