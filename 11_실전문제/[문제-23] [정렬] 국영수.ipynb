{
 "cells": [
  {
   "cell_type": "markdown",
   "metadata": {},
   "source": [
    "# 국영수\n",
    "도현이네 반 학생 N명의 이름과 이름과 국어, 영어, 수학 점수가 주어집니다. 이때, 다음과 같은 조건으로 학생의 성적을 정렬하는 프로그램을 작성하세요.\n",
    "\n",
    "1. 국어점수가 감소하는 순서로  \n",
    "2. 국어점수가 같으면 영어점수가 증가하는 순서로  \n",
    "3. 국어점수와 영어점수가 같으면 수학점수가 감소하는 순서로  \n",
    "4. 모든 점수가 같으면 이름이 사전 순으로 증가하는 순서로 (단, 아스키코드에서 대문자는 소문자보다 작으로 사전순으로 앞에옵니다.)"
   ]
  },
  {
   "cell_type": "markdown",
   "metadata": {},
   "source": [
    "입력  \n",
    "첫째줄: 도현이네 반 학생수 N (1 <= N <= 100,000)  \n",
    "둘째줄: 각 학생의 이름, 국어, 영어, 수학 점수 (1 <= 점수 <= 100) (이름, 대소문자, 10자리이하)\n",
    "\n",
    "입력 예시  \n",
    "12  \n",
    "Junkyu 50 60 100  \n",
    "Sangkeun 80 60 50  \n",
    "Sunyoung 80 70 100  \n",
    "Soong 50 60 90  \n",
    "Haebin 50 60 100  \n",
    "Kangsoo 60 80 100  \n",
    "Donghyuk 80 60 100  \n",
    "Sei 70 70 70  \n",
    "Wonseob 70 70 90  \n",
    "Sanghyun 70 70 80  \n",
    "nsj 80 80 80  \n",
    "Taewhan 50 60 90  "
   ]
  },
  {
   "cell_type": "markdown",
   "metadata": {},
   "source": [
    "출력  \n",
    "문제에 나와있는 정렬 기준으로 정렬한 후 첮째 줄부터 N개의 줄에 걸쳐 각 학생의 이름을 출력\n",
    "\n",
    "출력 예시  \n",
    "Donghyuk  \n",
    "Sangkeun  \n",
    "Sunyoung  \n",
    "nsj  \n",
    "Wonseob  \n",
    "Sanghyun  \n",
    "Sei  \n",
    "Kangsoo  \n",
    "Haebin  \n",
    "Junkyu  \n",
    "Soong  \n",
    "Taewhan  "
   ]
  },
  {
   "cell_type": "markdown",
   "metadata": {},
   "source": [
    "# 풀이"
   ]
  },
  {
   "cell_type": "code",
   "execution_count": 2,
   "metadata": {
    "ExecuteTime": {
     "end_time": "2021-03-11T10:20:16.584499Z",
     "start_time": "2021-03-11T10:19:41.122912Z"
    }
   },
   "outputs": [
    {
     "name": "stdout",
     "output_type": "stream",
     "text": [
      "12\n",
      "Junkyu 50 60 100\n",
      "Sangkeun 80 60 50\n",
      "Sunyoung 80 70 100\n",
      "Soong 50 60 90\n",
      "Haebin 50 60 100\n",
      "Kangsoo 60 80 100\n",
      "Donghyuk 80 60 100\n",
      "Sei 70 70 70\n",
      "Wonseob 70 70 90\n",
      "Sanghyun 70 70 80\n",
      "nsj 80 80 80\n",
      "Taewhan 50 60 90\n"
     ]
    }
   ],
   "source": [
    "n = int(input())\n",
    "data = []\n",
    "for i in range(n):\n",
    "    name, a, b, c = input().split()\n",
    "    data.append([name, int(a), int(b), int(c)])"
   ]
  },
  {
   "cell_type": "code",
   "execution_count": 3,
   "metadata": {
    "ExecuteTime": {
     "end_time": "2021-03-11T10:20:20.591402Z",
     "start_time": "2021-03-11T10:20:20.579606Z"
    },
    "scrolled": false
   },
   "outputs": [
    {
     "name": "stdout",
     "output_type": "stream",
     "text": [
      "[['Junkyu', 50, 60, 100], ['Sangkeun', 80, 60, 50], ['Sunyoung', 80, 70, 100], ['Soong', 50, 60, 90], ['Haebin', 50, 60, 100], ['Kangsoo', 60, 80, 100], ['Donghyuk', 80, 60, 100], ['Sei', 70, 70, 70], ['Wonseob', 70, 70, 90], ['Sanghyun', 70, 70, 80], ['nsj', 80, 80, 80], ['Taewhan', 50, 60, 90]]\n"
     ]
    }
   ],
   "source": [
    "print(data)"
   ]
  },
  {
   "cell_type": "code",
   "execution_count": 56,
   "metadata": {
    "ExecuteTime": {
     "end_time": "2021-03-10T09:05:29.031886Z",
     "start_time": "2021-03-10T09:05:29.012805Z"
    },
    "scrolled": true
   },
   "outputs": [],
   "source": [
    "import copy\n",
    "datas = copy.deepcopy(data)"
   ]
  },
  {
   "cell_type": "code",
   "execution_count": 97,
   "metadata": {
    "ExecuteTime": {
     "end_time": "2021-03-10T09:18:12.473718Z",
     "start_time": "2021-03-10T09:18:12.455986Z"
    }
   },
   "outputs": [],
   "source": [
    "data = copy.deepcopy(datas)"
   ]
  },
  {
   "cell_type": "code",
   "execution_count": 106,
   "metadata": {
    "ExecuteTime": {
     "end_time": "2021-03-10T09:26:01.462022Z",
     "start_time": "2021-03-10T09:26:01.401943Z"
    }
   },
   "outputs": [],
   "source": [
    "for i in range(n):\n",
    "    min_index = i\n",
    "    for j in range(i+1,n):\n",
    "        \n",
    "        if data[i][1] < data[j][1]:\n",
    "            min_index = j\n",
    "            \n",
    "        elif  data[i][1] == data[j][1]:\n",
    "            if data[i][2] > data[j][2]:\n",
    "                min_index = j\n",
    "                \n",
    "            elif data[i][2] == data[j][2]:\n",
    "                if data[i][3] < data[j][3]:\n",
    "                    min_index = j\n",
    "                    \n",
    "                elif data[i][3] == data[j][3]:\n",
    "                    if data[i][0] > data[j][0]:\n",
    "                        min_index = j\n",
    "                    \n",
    "        data[i], data[min_index] = data[min_index], data[i]"
   ]
  },
  {
   "cell_type": "code",
   "execution_count": 109,
   "metadata": {
    "ExecuteTime": {
     "end_time": "2021-03-10T09:27:20.810237Z",
     "start_time": "2021-03-10T09:27:20.776233Z"
    }
   },
   "outputs": [
    {
     "name": "stdout",
     "output_type": "stream",
     "text": [
      "Donghyuk\n",
      "Sangkeun\n",
      "Sunyoung\n",
      "nsj\n",
      "Wonseob\n",
      "Sanghyun\n",
      "Sei\n",
      "Kangsoo\n",
      "Soong\n",
      "Taewhan\n",
      "Haebin\n",
      "Junkyu\n"
     ]
    }
   ],
   "source": [
    "for i in data:\n",
    "    print(i[0])"
   ]
  },
  {
   "cell_type": "markdown",
   "metadata": {},
   "source": [
    "# 정답"
   ]
  },
  {
   "cell_type": "code",
   "execution_count": 15,
   "metadata": {
    "ExecuteTime": {
     "end_time": "2021-03-11T10:24:34.505993Z",
     "start_time": "2021-03-11T10:24:34.486038Z"
    }
   },
   "outputs": [
    {
     "name": "stdout",
     "output_type": "stream",
     "text": [
      "Donghyuk\n",
      "Sangkeun\n",
      "Sunyoung\n",
      "nsj\n",
      "Wonseob\n",
      "Sanghyun\n",
      "Sei\n",
      "Kangsoo\n",
      "Haebin\n",
      "Junkyu\n",
      "Soong\n",
      "Taewhan\n"
     ]
    }
   ],
   "source": [
    "students = sorted(data, key=lambda x:[-x[1], x[2], -x[3], x[0]])\n",
    "for student in students:\n",
    "    print(student[0])"
   ]
  },
  {
   "cell_type": "markdown",
   "metadata": {},
   "source": [
    "# 정리"
   ]
  },
  {
   "cell_type": "markdown",
   "metadata": {},
   "source": []
  }
 ],
 "metadata": {
  "kernelspec": {
   "display_name": "Python 3",
   "language": "python",
   "name": "python3"
  },
  "language_info": {
   "codemirror_mode": {
    "name": "ipython",
    "version": 3
   },
   "file_extension": ".py",
   "mimetype": "text/x-python",
   "name": "python",
   "nbconvert_exporter": "python",
   "pygments_lexer": "ipython3",
   "version": "3.7.3"
  }
 },
 "nbformat": 4,
 "nbformat_minor": 4
}
