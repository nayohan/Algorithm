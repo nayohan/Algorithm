{
 "cells": [
  {
   "cell_type": "markdown",
   "metadata": {},
   "source": [
    "# 문자열 뒤집기\n",
    "\n",
    "다솜이는 0과 1로만 이루어진 문자열S를 가지고 있습니다. 다솜이는 이 문자열 S에 있는 모든 숫자를 전부 같게 만들려고 합니다. 다솜이가 할 수 있는 행동은 S에서 연속된 하나 이상의 숫자를 잡고 모두 뒤집는 것입니다. 뒤집는 것은 1을 0으로, 0을 1로 바꾸는 것을 의미합니다.\n",
    "\n",
    "예를 들어 S = 0001100일 때는 다음과 같습니다.\n",
    "\n",
    "1. 전체를 뒤집으면 1110011이 됩니다.\n",
    "2. 4번째 문자부터 5번째 문자까지 뒤집으면 1111111이 되어서 두 번 반에 모두 같은 숫자로 만들 수 있습니다.\n",
    "\n",
    "하지만, 처음부터 4번째 문자부터 5번째 문자까지 뒤집으면 한번에 0000000이 되어서 1번 만에 모두 같은 숫자로 만들 수 있습니다.\n",
    "문자열 S가 주어졌을대, 다솜이가 해야하는 행동의 최소 횟수를 출력하세요.\n",
    "\n"
   ]
  },
  {
   "cell_type": "markdown",
   "metadata": {},
   "source": [
    "입력  \n",
    "첫째줄: 0과 1로만 이루어진 문자열 S (S <100만)\n",
    "\n",
    "입력 예시    \n",
    "0001100"
   ]
  },
  {
   "cell_type": "markdown",
   "metadata": {},
   "source": [
    "출력  \n",
    "첫째줄: 다솜이가 해야하는 행동의 최소 횟수를 출력\n",
    "\n",
    "출력 예시  \n",
    "1"
   ]
  },
  {
   "cell_type": "markdown",
   "metadata": {},
   "source": [
    "# 풀이"
   ]
  },
  {
   "cell_type": "code",
   "execution_count": 88,
   "metadata": {
    "ExecuteTime": {
     "end_time": "2021-03-22T12:40:12.216308Z",
     "start_time": "2021-03-22T12:39:40.398295Z"
    }
   },
   "outputs": [
    {
     "name": "stdout",
     "output_type": "stream",
     "text": [
      "1010101\n",
      "3 3\n",
      "3\n"
     ]
    }
   ],
   "source": [
    "# 반전되는 과정을 카운팅 (0->1, 1->0)\n",
    "s = list(map(int, list(input())))\n",
    "oneZero = 0\n",
    "zeroOne = 0\n",
    "prev = s[0]\n",
    "\n",
    "for now in s:\n",
    "    if prev == 1 and now == 0: # (1 -> 0)\n",
    "        oneZero += 1\n",
    "    elif prev == 0 and now == 1: # (0 -> 1)\n",
    "        zeroOne += 1\n",
    "    else:\n",
    "        pass\n",
    "    prev = now\n",
    "\n",
    "if oneZero + zeroOne == 0:\n",
    "    print(0)\n",
    "elif oneZero == 1 and zeroOne ==1:\n",
    "    print(1)\n",
    "else:\n",
    "    if s[0] != s[-1]:\n",
    "        print(min(oneZero, zeroOne)+1)\n",
    "    else:\n",
    "        print(min(oneZero, zeroOne))"
   ]
  },
  {
   "cell_type": "markdown",
   "metadata": {},
   "source": [
    "# 정답"
   ]
  },
  {
   "cell_type": "code",
   "execution_count": 2,
   "metadata": {
    "ExecuteTime": {
     "end_time": "2021-03-20T14:22:31.350717Z",
     "start_time": "2021-03-20T14:22:29.098038Z"
    }
   },
   "outputs": [
    {
     "name": "stdout",
     "output_type": "stream",
     "text": [
      "20984\n",
      "576\n"
     ]
    }
   ],
   "source": []
  },
  {
   "cell_type": "markdown",
   "metadata": {},
   "source": [
    "# 정리"
   ]
  },
  {
   "cell_type": "markdown",
   "metadata": {},
   "source": []
  }
 ],
 "metadata": {
  "kernelspec": {
   "display_name": "Python 3",
   "language": "python",
   "name": "python3"
  },
  "language_info": {
   "codemirror_mode": {
    "name": "ipython",
    "version": 3
   },
   "file_extension": ".py",
   "mimetype": "text/x-python",
   "name": "python",
   "nbconvert_exporter": "python",
   "pygments_lexer": "ipython3",
   "version": "3.7.3"
  }
 },
 "nbformat": 4,
 "nbformat_minor": 4
}
