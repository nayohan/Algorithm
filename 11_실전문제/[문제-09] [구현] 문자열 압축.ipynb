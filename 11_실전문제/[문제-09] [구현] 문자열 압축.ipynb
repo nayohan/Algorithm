{
 "cells": [
  {
   "cell_type": "markdown",
   "metadata": {},
   "source": [
    "# 문자열 압축\n",
    "데이터 처리 전문가가 되고싶은 \"어피치\"는 문자열을 압축하는 방법에 대해 공부를 하고 있습니다. 최근에 대량의 데이터 처리르 ㄹ위한 간단한 비손실 압축 방법에 대해 공부를 하고 있는데, 문자열에서 같은 값이 연속해서 나타나는 것을 그 문자의 개수와 반복되는 값으로 표현하여 더 짧은 문자열로 줄여서 표현하는 알고리즘을 공부하고 있습니다.\n",
    "\n",
    "간단한 예로 \"aabbaccc\"의 경우 \"2a2ba3c\" (문자가 반복되지않아 한번만 나타난 경우 1생략)와 같이 표현 할 수 있는데, 이러한 방식은 반복되는 문자가 적은 경우 압축률이 낮다는 단점이 있습니다. 예를 들면, \"abcabcdede\"와 같은 문자열은 전혀 압축되지 않습니다. 어피치는 이러한 단점을 해결하기 위해 문자열을 1개 이상의 단위로 잘라서 압축하여 더 짧은 문자열로 표현할수 있는지 방법을 찾아보려고 합니다.\n",
    "\n",
    "예를 들어 \"ababcdcdababcdcd\"의 경우 문자를 1개 단위로 자르면 전혀 압축되지 않지만, 2개단위로 잘라서 압축한다면 \"2ab2cs2ab2cd\"로 표현 할 수 있습니다. 다른 방법으로 8개 단위로 잘라서 압축한다면 \"2ababcdcd\"로 표현할 수 있으며, 이때가 가장 짧게 압축하여 표현할 수 있는 방법입니다.\n",
    "\n",
    "다른 예로, \"abcabcdede\"와 같은 경우 문자를 2개 단위로 잘라서 압축하면 \"abcabc2de\"가 되지만 3개 단위로 자른다면 \"2bacdede\"가 되어 3개 단위가 가장 짧은 압축 방법이 됩니다. 이때 3개 단위로 자르고 마지막에 남은 문자열은 그대로 붙여주면 됩니다.\n",
    "\n",
    "압축할 문자열 s가 매개변수로 주어질 때, 위에 설명한 방법으로 1개 이상 단위로 문자열을 잘라 압축하여 표현한 문자열 중 가장 짧은 것의 길이를 return하도록 solution함수를 완성해주세요.\n",
    "\n",
    "제한사항:  \n",
    "- s의 길이는 1이상 1,000 이하\n",
    "- s는 알파벳 소문자로만 이루어져있음"
   ]
  },
  {
   "cell_type": "markdown",
   "metadata": {},
   "source": [
    "입력  \n",
    "첫째줄: 하나의 문자열 S (1 <= S의 길이 <= 10,000)\n",
    "\n",
    "\n",
    "입출력 예시    \n",
    "\"aabbaccc\" 7  \n",
    "\"ababcdcdababacdcd\" 9  \n",
    "\"abcabcdede\" 8  \n",
    "\"abcabcabcabcdededededede\" 14  \n",
    "\"xababcdcdababcdcd\" 17  "
   ]
  },
  {
   "cell_type": "markdown",
   "metadata": {},
   "source": [
    "입출력 예시에 대한 설명\n"
   ]
  },
  {
   "cell_type": "markdown",
   "metadata": {},
   "source": [
    "# 풀이"
   ]
  },
  {
   "cell_type": "code",
   "execution_count": 8,
   "metadata": {
    "ExecuteTime": {
     "end_time": "2021-03-24T13:36:29.972543Z",
     "start_time": "2021-03-24T13:36:29.964100Z"
    }
   },
   "outputs": [],
   "source": [
    "s = \"aabbaccc\"\n",
    "#s = \"abcabcabcabcdededededede\""
   ]
  },
  {
   "cell_type": "code",
   "execution_count": 12,
   "metadata": {
    "ExecuteTime": {
     "end_time": "2021-03-24T13:37:26.508121Z",
     "start_time": "2021-03-24T13:37:26.440509Z"
    }
   },
   "outputs": [
    {
     "name": "stdout",
     "output_type": "stream",
     "text": [
      "['2a', '2b', 'a', '3c']\n",
      "[]\n",
      "['aa', 'bb', 'ac', 'cc']\n",
      "[7]\n",
      "['aab', 'bac', 'cc']\n",
      "[7, 8]\n",
      "['aabb', 'accc']\n",
      "[7, 8, 8]\n",
      "['aabba', 'ccc']\n",
      "[7, 8, 8, 8]\n",
      "['aabbac', 'cc']\n",
      "[7, 8, 8, 8, 8]\n",
      "['aabbacc', 'c']\n",
      "[7, 8, 8, 8, 8, 8]\n",
      "['aabbaccc']\n",
      "[7, 8, 8, 8, 8, 8, 8]\n",
      "7\n"
     ]
    }
   ],
   "source": [
    "def solution(s):\n",
    "    answer_list = []\n",
    "    \n",
    "    for i in range(1, len(s)+1):\n",
    "        answer = []\n",
    "        now = s[0:i]\n",
    "        #print(now)\n",
    "        cnt = 0\n",
    "        \n",
    "        # 각 i개의 문자단위로 묶어서 압축하는 과정\n",
    "        for j in range(0, len(s) + i, i):\n",
    "            if now == s[j:j+i]: #이전과 같을 때\n",
    "                #print(s[j:j+i])\n",
    "                cnt += 1\n",
    "            else: # 이전과 다를때\n",
    "                #print(s[j:j+i])\n",
    "                answer.append(str(now) if cnt==1  else str(cnt) + str(now))\n",
    "                \n",
    "                cnt = 1\n",
    "                now = s[j:j+i]\n",
    "        \n",
    "        #갯수 저장\n",
    "        print(answer)\n",
    "        sum_answer = 0\n",
    "        for a in answer:\n",
    "            sum_answer += len(a)\n",
    "        print(answer_list)\n",
    "        answer_list.append(sum_answer)\n",
    "    \n",
    "    return min(answer_list)\n",
    "\n",
    "print(solution(s))"
   ]
  },
  {
   "cell_type": "markdown",
   "metadata": {},
   "source": [
    "# 정답"
   ]
  },
  {
   "cell_type": "code",
   "execution_count": null,
   "metadata": {
    "ExecuteTime": {
     "end_time": "2021-03-20T14:49:48.207933Z",
     "start_time": "2021-03-20T14:49:46.901705Z"
    }
   },
   "outputs": [],
   "source": []
  },
  {
   "cell_type": "markdown",
   "metadata": {},
   "source": [
    "# 정리"
   ]
  },
  {
   "cell_type": "markdown",
   "metadata": {},
   "source": [
    "구현 문제는 구현만 잘하면 된다."
   ]
  }
 ],
 "metadata": {
  "kernelspec": {
   "display_name": "Python 3",
   "language": "python",
   "name": "python3"
  },
  "language_info": {
   "codemirror_mode": {
    "name": "ipython",
    "version": 3
   },
   "file_extension": ".py",
   "mimetype": "text/x-python",
   "name": "python",
   "nbconvert_exporter": "python",
   "pygments_lexer": "ipython3",
   "version": "3.7.3"
  }
 },
 "nbformat": 4,
 "nbformat_minor": 4
}
