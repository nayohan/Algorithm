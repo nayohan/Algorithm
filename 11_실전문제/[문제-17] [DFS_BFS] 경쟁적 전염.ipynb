{
 "cells": [
  {
   "cell_type": "markdown",
   "metadata": {},
   "source": [
    "# 경쟁적 전염\n",
    "\n",
    " N x N 크기의 시험관이 있습니다. 시험관은 1 x 1  크기의 칸으로 나누어지며, 특정한 위치에는 바이러스가 존재할 수 있습니다. 바이러스 종류는 1 ~ K번까지 K가지가 있으며 모든 바이러스는 이 중 하나에 속합니다.\n",
    " \n",
    " 시험관에 존재하는 모든 바이러스는 1초마다 상,하,좌,우의 방향으로 증식하는데, 매초 번호가 낮은 종류의 바이러스부터 먼저 증식합니다. 또한 증식 과정에서 특정한 칸에 이미 어떠한 바이러스가 있다면, 그곳에는 다른 바이러스가 들어갈 수 없습니다.\n",
    " \n",
    " 시험관의 크기와 바이러스의 위치정보가 주어졌을 때, S 초가 지난 후에 (X, Y)에 존재하는 바이러스의 종류를 출력하는 프로그램을 작성하세요. 만약 S 초가 지난 후에 해당 위치에 바이러스가 존재하지 않는다면, 0을 출력합니다. 이때 X와 Y는 각각 행과 열의 위치를 의미하며, 시험관의 가장 왼쪽 위에 해당하는 곳은 (1, 1)에 해당합니다. 예를 들어 다음과 같이 3 x 3 크기의 시험과에서 서로 다른 1번, 2번, 3번 바이러스가 각각 (1, 1), (1, 3), (3, 1)에 위치해 있을때 2초가 지난 뒤에 (3, 2)에 존재하는 바이러스 종류를 계산해 보겠습니다.\n",
    " \n",
    " 1 0 2  \n",
    " 0 0 0  \n",
    " 3 0 0  \n",
    " \n",
    " 다음 왼쪽 그림은 1초가 지난 뒤의 시험관 상태이고, 오른쪽 그림은 2초가 지난 뒤의 시험관 상태입니다.\n",
    " \n",
    " 1 1 2    1 1 2  \n",
    " 1 0 2    1 1 2  \n",
    " 3 3 0    3 3 2  \n",
    " \n",
    " 결과적으로 2초가 지난 뒤에 (3, 2)에 존재하는 바이러스 종류는 3번 바이러스입니다. 따라서 3을 출력하면 정답입니다. "
   ]
  },
  {
   "cell_type": "markdown",
   "metadata": {},
   "source": [
    "입력  \n",
    "첫째줄: 자연수 N, K (1 <= N <= 200, 1 <= K <= 1,000)  \n",
    "둘째줄: N개의 줄에 걸쳐서 시험관 정보. 각 행은 N개의 원소(바이러스의 번호)단, 해당 위치에 바이러스가 존재하지 않는 경우 0. (1 <= 바이러스번호 <= K)  \n",
    "N+2째줄: S, X, Y (0 <= S <= 10,000, 1 <= X, Y <= N)\n",
    "\n",
    "입력 예시    \n",
    "3 3  \n",
    "1 0 2  \n",
    "0 0 0  \n",
    "3 0 0  \n",
    "2 3 2  \n",
    "\n",
    "3 3  \n",
    "1 0 2  \n",
    "0 0 0  \n",
    "3 0 0  \n",
    "1 2 2  "
   ]
  },
  {
   "cell_type": "markdown",
   "metadata": {},
   "source": [
    "출력  \n",
    "S초 뒤에 (X, Y)에 존재하는 바이러스 종류 출력. 만약 S초 뒤에 해당 위치에 바이러스가 없다면 0을 출력\n",
    "\n",
    "출력 예시  \n",
    "3\n",
    "\n",
    "0"
   ]
  },
  {
   "cell_type": "markdown",
   "metadata": {},
   "source": [
    "# 풀이"
   ]
  },
  {
   "cell_type": "code",
   "execution_count": 2,
   "metadata": {
    "ExecuteTime": {
     "end_time": "2021-05-17T14:48:11.545095Z",
     "start_time": "2021-05-17T14:48:11.475430Z"
    }
   },
   "outputs": [
    {
     "name": "stdout",
     "output_type": "stream",
     "text": [
      "[3, 0, 2]\n",
      "[0, 0, 0]\n",
      "[3, 0, 0]\n",
      "0 0 3 0 1\n",
      "0 0 3 1 0\n",
      "0 2 2 1 2\n",
      "0 2 2 0 1\n",
      "2 0 3 1 0\n",
      "2 0 3 2 1\n",
      " \n",
      "[3, 2, 2]\n",
      "[3, 0, 2]\n",
      "[3, 3, 0]\n",
      "0\n"
     ]
    }
   ],
   "source": [
    "#n, k = map(int, input().split())\n",
    "# maps = []\n",
    "# for i in range(n):\n",
    "#     maps.append(list(map(int, input().split())))\n",
    "\n",
    "\n",
    "n, k = 3, 3\n",
    "maps = [[3, 0, 2], [0, 0, 0], [3, 0, 0]]\n",
    "\n",
    "\n",
    "for i in range(n):\n",
    "    print(maps[i])\n",
    "\n",
    "dx = [-1, 0, 1, 0]\n",
    "dy = [0, 1, 0, -1]\n",
    "\n",
    "data = [[0] * 3 for i in range(n)]\n",
    "\n",
    "def BFS(x, y):\n",
    "    for i in range(4):\n",
    "        nx = x + dx[i]\n",
    "        ny = y + dy[i]\n",
    "        \n",
    "        # 데이터에 전염된 값 저장\n",
    "        if 0 <= nx and nx < n and 0 <= ny and ny < n:\n",
    "            if maps[nx][ny] == 0:\n",
    "                print(x, y, maps[x][y], nx, ny)\n",
    "                if data[nx][ny] == 0:\n",
    "                    data[nx][ny] = maps[x][y]\n",
    "                else:\n",
    "                    data[nx][ny] = min(data[nx][ny], maps[x][y])\n",
    "        \n",
    "s, x, y = 1, 2, 2\n",
    "for _ in range(s):\n",
    "    # 각각 원소에 대해  바이러스 전파\n",
    "    for i in range(n):\n",
    "        for j in range(n):\n",
    "            if maps[i][j] != 0:\n",
    "                BFS(i, j)\n",
    "                \n",
    "    # 맵과 데이터 병합\n",
    "    for i in range(n):\n",
    "        for j in range(n):\n",
    "            if maps[i][j] == 0:\n",
    "                maps[i][j] = data[i][j]\n",
    "print(' ')\n",
    "for i in range(n):\n",
    "    print(maps[i])              \n",
    "print(maps[x-1][y-1])\n",
    "        \n",
    "    "
   ]
  },
  {
   "cell_type": "markdown",
   "metadata": {},
   "source": [
    "# 정답"
   ]
  },
  {
   "cell_type": "code",
   "execution_count": 5,
   "metadata": {
    "ExecuteTime": {
     "end_time": "2021-05-17T14:48:47.586442Z",
     "start_time": "2021-05-17T14:48:39.703031Z"
    }
   },
   "outputs": [
    {
     "name": "stdout",
     "output_type": "stream",
     "text": [
      "3 3\n",
      "1 0 2\n",
      "0 0 0\n",
      "3 0 0\n",
      "2 3 2\n"
     ]
    }
   ],
   "source": [
    "from collections import deque\n",
    "\n",
    "n, k = map(int, input().split())\n",
    "graph = []\n",
    "data = []\n",
    "\n",
    "for i in range(n):\n",
    "    graph.append(list(map(int, input().split())))\n",
    "    for j in range(n):\n",
    "        if graph[i][j] != 0:\n",
    "            data.append((graph[i][j], 0, i, j))\n",
    "        \n",
    "# 정렬 이후 큐로 옮기기( 낮은 번호의 바이러스가 먼저 증식하므로)\n",
    "data.sort()\n",
    "q = deque(data)\n",
    "\n",
    "target_s, target_x, target_y = map(int, input().split())\n",
    "dx = [-1, 0, 1, 0]\n",
    "dy = [0, 1, 0, -1]\n",
    "\n",
    "# 너비 우선 탐색 (DFS) 진행\n",
    "while q:\n",
    "    virus, s, x, y = q.popleft()\n",
    "    # 정확히 s초가 지나거나, 큐가 빌 때까지 반복\n",
    "    if s == target_s:\n",
    "        break"
   ]
  },
  {
   "cell_type": "code",
   "execution_count": 6,
   "metadata": {
    "ExecuteTime": {
     "end_time": "2021-05-17T14:50:35.660034Z",
     "start_time": "2021-05-17T14:50:35.616277Z"
    }
   },
   "outputs": [
    {
     "name": "stdout",
     "output_type": "stream",
     "text": [
      "3\n"
     ]
    }
   ],
   "source": [
    "# 현재 노드에서 주변 4가지 위치를 각각 확인\n",
    "for i in range(4):\n",
    "    nx = x + dx[i]\n",
    "    ny = y + dy[i]\n",
    "    # 해당 위치로 이동할 수 있는 경우\n",
    "    if 0<= nx and nx < n and 0<= ny and ny <n :\n",
    "        # 아직 방문하지 않은 위치라면, 그 위치에 바이러스 넣기\n",
    "        if graph[nx][ny] == 0:\n",
    "            graph[nx][ny] = virus\n",
    "            q.append((virus, s + 1, nx, ny))\n",
    "            \n",
    "print(graph[target_x - 1][target_y - 1])"
   ]
  },
  {
   "cell_type": "markdown",
   "metadata": {},
   "source": [
    "### 정리"
   ]
  },
  {
   "cell_type": "code",
   "execution_count": null,
   "metadata": {},
   "outputs": [],
   "source": []
  }
 ],
 "metadata": {
  "kernelspec": {
   "display_name": "Python 3",
   "language": "python",
   "name": "python3"
  },
  "language_info": {
   "codemirror_mode": {
    "name": "ipython",
    "version": 3
   },
   "file_extension": ".py",
   "mimetype": "text/x-python",
   "name": "python",
   "nbconvert_exporter": "python",
   "pygments_lexer": "ipython3",
   "version": "3.7.3"
  }
 },
 "nbformat": 4,
 "nbformat_minor": 4
}
