{
 "cells": [
  {
   "cell_type": "markdown",
   "metadata": {},
   "source": [
    "# 고정점 찾기\n",
    "\n",
    "고정점이란, 수열의 원소 중에서 그 값이 인덱스와 동일한 원소를 의미합니다. 예를 들어 수열 a = {-15, -4, 2, 8, 13}이 있을 때 a[2] = 2 이므로, 고정점은 2가 됩니다.\n",
    "\n",
    "하나의 수열이 N개의 서로 다른 원소를 포함하고 있으며, 모든 원소가 오름차순으로 정렬되어 있습니다. 이때 이 수열에서 고정점이 있다면, 고정점을 출력하는 프로그램을 작성하세요. 고정점은 최대 1개만 존재합니다. 만약 고정점이 없다면 -1을 출력합니다.\n",
    "\n",
    "단, 이 문제는 시간복잡도 O(logN)으로 알고리즘을 설계하지않으면 '시간초과'판정을 받습니다."
   ]
  },
  {
   "cell_type": "markdown",
   "metadata": {},
   "source": [
    "입력  \n",
    "첫째줄: N (1 <= M <= 1,000,000)  \n",
    "둘째줄: N개의 원소가 정수 형태로 공백으로 구분되어 입력 (-10^9 <= 각 원소의 값 <= 10^9)  \n",
    "\n",
    "입력 예시   \n",
    "5<br>\n",
    "-15 -6 1 3 7  \n",
    "\n",
    "7<br>\n",
    "-15 -4 2 8 9 13 15  "
   ]
  },
  {
   "cell_type": "markdown",
   "metadata": {},
   "source": [
    "출력  \n",
    "고정점을 출력, 고정점이 없다면 -1을 출력\n",
    "\n",
    "출력 예시  \n",
    "3\n",
    "\n",
    "2 "
   ]
  },
  {
   "cell_type": "markdown",
   "metadata": {},
   "source": [
    "# 풀이"
   ]
  },
  {
   "cell_type": "code",
   "execution_count": 15,
   "metadata": {
    "ExecuteTime": {
     "end_time": "2021-03-24T02:09:38.152731Z",
     "start_time": "2021-03-24T02:09:38.095997Z"
    }
   },
   "outputs": [
    {
     "name": "stdout",
     "output_type": "stream",
     "text": [
      "[-15, -6, 1, 3, 7]\n",
      "3\n"
     ]
    }
   ],
   "source": [
    "# n = int(input())\n",
    "# data = list(map(int, input().split()))\n",
    "n = 5\n",
    "data = [-15, -6, 1, 3, 7]\n",
    "data.sort()\n",
    "print(data)\n",
    "\n",
    "def binary_search(start, end, target):\n",
    "    while start <= end:\n",
    "        mid = (start + end) // 2\n",
    "\n",
    "        if data[mid] == mid:\n",
    "            return mid\n",
    "\n",
    "        if data[mid] < mid:\n",
    "            start = mid + 1\n",
    "        else:\n",
    "            end = mid - 1\n",
    "    return -1\n",
    "\n",
    "print(binary_search(0, n, 1))"
   ]
  },
  {
   "cell_type": "markdown",
   "metadata": {},
   "source": [
    "# 정답"
   ]
  },
  {
   "cell_type": "code",
   "execution_count": 1,
   "metadata": {
    "ExecuteTime": {
     "end_time": "2021-03-24T00:50:39.304252Z",
     "start_time": "2021-03-24T00:50:23.455642Z"
    }
   },
   "outputs": [
    {
     "name": "stdout",
     "output_type": "stream",
     "text": [
      "5\n",
      "-15 -6 1 3 7\n",
      "3\n"
     ]
    }
   ],
   "source": [
    "# 이진 탐색 소스코드 구현(재귀 함수)\n",
    "def binary_search(array, start, end):\n",
    "    if start > end:\n",
    "        return None\n",
    "    mid = (start + end) //2\n",
    "    \n",
    "    # 고정점을 찾은 경우 인덱스 반환\n",
    "    if array[mid] == mid:\n",
    "        return mid\n",
    "    # 중간점이 가리키는 위치의 값보다 중간점이 작은 경우 왼쪽 확인\n",
    "    elif array[mid] > mid:\n",
    "        return binary_search(array, start, mid-1)\n",
    "    # 중간점이 가리키는 위치의 값보다 중간점이 큰 경우 오른쪽 확인\n",
    "    else:\n",
    "        return binary_search(array, mid+1, end)\n",
    "    \n",
    "n = int(input())\n",
    "array = list(map(int, input().split()))\n",
    "\n",
    "# 이진 탐색(binary search)수행\n",
    "index = binary_search(array, 0, n-1)\n",
    "\n",
    "# 고정점이 없는 경우 -1 출력\n",
    "if index == None:\n",
    "    print(-1)\n",
    "else:\n",
    "    print(index)"
   ]
  },
  {
   "cell_type": "markdown",
   "metadata": {},
   "source": [
    "# 정리"
   ]
  },
  {
   "cell_type": "markdown",
   "metadata": {},
   "source": [
    "target을 정하지 않아도 검색을 하기때문에 해결가능!"
   ]
  }
 ],
 "metadata": {
  "kernelspec": {
   "display_name": "Python 3",
   "language": "python",
   "name": "python3"
  },
  "language_info": {
   "codemirror_mode": {
    "name": "ipython",
    "version": 3
   },
   "file_extension": ".py",
   "mimetype": "text/x-python",
   "name": "python",
   "nbconvert_exporter": "python",
   "pygments_lexer": "ipython3",
   "version": "3.7.3"
  }
 },
 "nbformat": 4,
 "nbformat_minor": 4
}
