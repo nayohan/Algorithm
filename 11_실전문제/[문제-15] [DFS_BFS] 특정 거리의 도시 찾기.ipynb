{
 "cells": [
  {
   "cell_type": "markdown",
   "metadata": {},
   "source": [
    "# 특정 거리의 도시 찾기\n",
    "어떤 나라에는 1 ~ N번까지의 도시와 M개의 단방향 도로가 존재합니다. 모든 도로의 거리는 1입니다. 이때 특정한 도시 X로부터 출발하여 도달할 수 있는 모든 도시 중에서, 최단 거리가 정확이 K인 모든 도시의 번호를 출력하는 프로그램을 작성하세요. 또한 출발 도시 X에서 출발도시 X로 가는 최단거리는 항상 0이라고 가정합니다.\n",
    "\n",
    "예를 들어 N = 4, K = 2, X = 1일 때 다음과 같이 그래프가 구성되어 있다고 합시다. 이때 1번 도시에서 출발하여 도달할 수 있는 도시 중에서, 최단 거리가 2인 도시는 4번 도시뿐입니다. 2번과 3번 도시의 경우, 최단 거리가 1이기 때문에 출력하지 않습니다."
   ]
  },
  {
   "cell_type": "markdown",
   "metadata": {},
   "source": [
    "입력  \n",
    "첫째줄: 도시의 개수 N, 도로의 개수 M, 거리정보 K, 출발 도시의 번호 X   \n",
    "        (2<=N<=300,000, 1<=M<=1,000,000, 1<=K<=300,000, 1<=X<=N)\n",
    "둘째줄 두개의 자연수 A, B -> A번 도시에서 B번 도시로 이동하는 단방향 도로가 존재한다는 의미\n",
    "\n",
    "입력 예시  \n",
    "4 4 2 1  \n",
    "1 2  \n",
    "1 3  \n",
    "2 3  \n",
    "2 4  "
   ]
  },
  {
   "cell_type": "markdown",
   "metadata": {},
   "source": [
    "출력  \n",
    "X로부터 출발하여 도달할수 있는 도시 중에서, 최단거리가 K인 모든 도시의 번호를 한 줄에 하나씩 오름차순으로 출력  \n",
    "이때 도달할 수 있는 도시 중에서, 최단거리가 K인 도시가 하나도 존재하지 않으면, -1을 출력\n",
    "\n",
    "\n",
    "출력 예시  \n",
    "4"
   ]
  },
  {
   "cell_type": "markdown",
   "metadata": {},
   "source": [
    "# 풀이"
   ]
  },
  {
   "cell_type": "code",
   "execution_count": 7,
   "metadata": {
    "ExecuteTime": {
     "end_time": "2021-03-10T10:20:09.660145Z",
     "start_time": "2021-03-10T10:20:04.233441Z"
    }
   },
   "outputs": [
    {
     "name": "stdout",
     "output_type": "stream",
     "text": [
      "4 4 1 1 \n",
      "1 2\n",
      "1 3 \n",
      "2 3\n",
      "2 4 \n"
     ]
    }
   ],
   "source": [
    "n, m, k, x = map(int, input().split())\n",
    "\n",
    "graph = [[] for _ in range(n + 1)]\n",
    "visited  = [False for _ in range(n+1)]\n",
    "\n",
    "for i in range(m):\n",
    "    a, b = map(int, input().split())\n",
    "    graph[a].append(b)"
   ]
  },
  {
   "cell_type": "code",
   "execution_count": 18,
   "metadata": {
    "ExecuteTime": {
     "end_time": "2021-03-10T10:26:13.167937Z",
     "start_time": "2021-03-10T10:26:13.120927Z"
    },
    "code_folding": []
   },
   "outputs": [],
   "source": [
    "from collections import deque\n",
    "\n",
    "distance = [300001 for _ in range(n+1)]\n",
    "\n",
    "# BFS 큐\n",
    "\n",
    "def BFS(start, end):\n",
    "    visited  = [False for _ in range(n+1)]\n",
    "    \n",
    "    q = deque()\n",
    "    q.append(start)\n",
    "    d = 0\n",
    "    \n",
    "    while q:\n",
    "        i = q.popleft()\n",
    "        d += 1\n",
    "        \n",
    "        for e in graph[i]:\n",
    "            if visited[e] == False:\n",
    "                visited[e] = True\n",
    "                distance[e] = d\n",
    "                q.append(e)\n",
    "    print(distance)"
   ]
  },
  {
   "cell_type": "code",
   "execution_count": 19,
   "metadata": {
    "ExecuteTime": {
     "end_time": "2021-03-10T10:26:13.300048Z",
     "start_time": "2021-03-10T10:26:13.284534Z"
    }
   },
   "outputs": [
    {
     "name": "stdout",
     "output_type": "stream",
     "text": [
      "[300001, 300001, 1, 1, 2]\n",
      "[300001, 300001, 1, 1, 2]\n",
      "[300001, 300001, 1, 1, 2]\n",
      "[300001, 300001, 1, 1, 2]\n",
      "[300001, 300001, 1, 1, 2]\n",
      "2\n"
     ]
    }
   ],
   "source": [
    "for i in range(n+1):\n",
    "    BFS(x,i)\n",
    "    \n",
    "print(distance.index(k))"
   ]
  },
  {
   "cell_type": "markdown",
   "metadata": {},
   "source": [
    "# 정답"
   ]
  },
  {
   "cell_type": "code",
   "execution_count": 16,
   "metadata": {
    "ExecuteTime": {
     "end_time": "2021-03-11T12:27:17.595891Z",
     "start_time": "2021-03-11T12:27:12.388793Z"
    }
   },
   "outputs": [
    {
     "name": "stdout",
     "output_type": "stream",
     "text": [
      "4 4 2 1\n",
      "1 2 \n",
      "1 3 \n",
      "2 3 \n",
      "2 4 \n"
     ]
    }
   ],
   "source": [
    "n, m, k, x = map(int, input().split())\n",
    "\n",
    "graph = [[] for _ in range(n+1)]\n",
    "distance = [0 for _ in range(n+1)]\n",
    "\n",
    "for i in range(m):\n",
    "    a, b = map(int, input().split())\n",
    "    graph[a].append(b)"
   ]
  },
  {
   "cell_type": "code",
   "execution_count": 21,
   "metadata": {
    "ExecuteTime": {
     "end_time": "2021-03-11T12:32:07.370292Z",
     "start_time": "2021-03-11T12:32:07.330935Z"
    }
   },
   "outputs": [
    {
     "name": "stdout",
     "output_type": "stream",
     "text": [
      "4\n"
     ]
    }
   ],
   "source": [
    "from collections import deque\n",
    "\n",
    "q = deque()\n",
    "q.append(x)\n",
    "\n",
    "while q:\n",
    "    v = q.popleft()   \n",
    "    for i in graph[v]:\n",
    "        #print(i, distance[i])\n",
    "        if distance[i] == 0:\n",
    "            \n",
    "            distance[i] = distance[v] + 1\n",
    "            q.append(i)\n",
    "\n",
    "check = False\n",
    "for i in range(n+1):\n",
    "    if distance[i] == k:\n",
    "        print(i) \n",
    "        check = True\n",
    "\n",
    "if check == False:\n",
    "    print(-1)"
   ]
  },
  {
   "cell_type": "markdown",
   "metadata": {},
   "source": [
    "# 정리"
   ]
  },
  {
   "cell_type": "markdown",
   "metadata": {},
   "source": [
    "DFS/BFS구현 방법잘익히고, 불필요한 visited를 만들필요없이 구현 가능"
   ]
  },
  {
   "cell_type": "code",
   "execution_count": null,
   "metadata": {},
   "outputs": [],
   "source": []
  }
 ],
 "metadata": {
  "kernelspec": {
   "display_name": "Python 3",
   "language": "python",
   "name": "python3"
  },
  "language_info": {
   "codemirror_mode": {
    "name": "ipython",
    "version": 3
   },
   "file_extension": ".py",
   "mimetype": "text/x-python",
   "name": "python",
   "nbconvert_exporter": "python",
   "pygments_lexer": "ipython3",
   "version": "3.7.3"
  }
 },
 "nbformat": 4,
 "nbformat_minor": 4
}
