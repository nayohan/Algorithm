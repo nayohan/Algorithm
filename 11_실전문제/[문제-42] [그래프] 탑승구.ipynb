{
 "cells": [
  {
   "cell_type": "markdown",
   "metadata": {},
   "source": [
    "# 탑승구\n",
    "공항에는 G개의 탑승구가 있으며, 각각의 탑승구는 1번부터 G번까지의 번호로 구분됩니다. 공항에는 P개의 비행기가 차례대로 도착할 예정이며, i번째 비행기를 1번부터 g번째 (1 <= g < G) 탑승구 중 하나에 영구적으로 도킹해야 합니다. 이때, 다른 비행기가 도킹하지 않은 탑승구에만 도킹할 수 있습니다.\n",
    "\n",
    "또한 P개의 비행기를 순서대로 도킹하다가 만약에 어떠한 탑승구에도 도킹할 수 없는 비행기가 나오는 경우, 그 시점에서 공항의 운행을 중지합니다.공항의 관리자는 최대한 많은 비행기를 공항에 도킹하고자 합니다.비행기를 최대 몇 대 도킹 할수 있는지를 출력하는 프로그램을 작성하세요."
   ]
  },
  {
   "cell_type": "markdown",
   "metadata": {},
   "source": [
    "입력  \n",
    "첫째줄: 탑승구의 수 G (1 <= G <= 100,000)  \n",
    "둘째줄: 비행기의 수 P (1 <= P <= 100,000)  \n",
    "P개줄:  각 비행기가 도킹할 수 있는 탑승구의 정보 g(1 <= g <= G)\n",
    "이는 i번째 비행기가 1번부터 g번째 (1 <= g <= G) 탑승구 중 하나에 도킹할수 있다는 의미\n",
    "\n",
    "입력 예시    \n",
    "4<br>\n",
    "3<br>\n",
    "4<br>\n",
    "1<br>\n",
    "1<br>"
   ]
  },
  {
   "cell_type": "markdown",
   "metadata": {},
   "source": [
    "출력  \n",
    "첫째줄: 도킹할수 있는 비행기의 최대 개수를 출력\n",
    "\n",
    "출력 예시  \n",
    "2<br>"
   ]
  },
  {
   "cell_type": "markdown",
   "metadata": {},
   "source": [
    "# 풀이"
   ]
  },
  {
   "cell_type": "code",
   "execution_count": 12,
   "metadata": {
    "ExecuteTime": {
     "end_time": "2021-03-22T12:11:30.479103Z",
     "start_time": "2021-03-22T12:11:26.794167Z"
    },
    "scrolled": true
   },
   "outputs": [
    {
     "name": "stdout",
     "output_type": "stream",
     "text": [
      "4\n",
      "3\n",
      "4\n",
      "1\n",
      "1\n",
      "[4, 1, 1]\n",
      "2\n"
     ]
    }
   ],
   "source": [
    "g = int(input())\n",
    "p = int(input())\n",
    "data = []\n",
    "\n",
    "for i in range(p):\n",
    "    data.append(int(input()))\n",
    "\n",
    "print(set(data))\n",
    "print(data.count(1))"
   ]
  },
  {
   "cell_type": "code",
   "execution_count": 11,
   "metadata": {
    "ExecuteTime": {
     "end_time": "2021-03-22T09:46:56.843292Z",
     "start_time": "2021-03-22T09:46:55.081974Z"
    },
    "scrolled": true
   },
   "outputs": [
    {
     "name": "stdout",
     "output_type": "stream",
     "text": [
      "4\n",
      "3\n",
      "4\n",
      "1\n",
      "1\n",
      "[0, True, 0, 0, True]\n",
      "2\n"
     ]
    }
   ],
   "source": [
    "# 이거는 비행기가 해당 게이트에만 들어간다는 가정으로 만든 솔루션\n",
    "g = int(input())\n",
    "p = int(input())\n",
    "data = [0] * (g + 1)\n",
    "\n",
    "for i in range(p):\n",
    "    d = int(input())\n",
    "    if data[d] == False:\n",
    "        data[d] = True\n",
    "    else:\n",
    "        break\n",
    "\n",
    "print(data)        \n",
    "print(data.count(1))"
   ]
  },
  {
   "cell_type": "code",
   "execution_count": 17,
   "metadata": {
    "ExecuteTime": {
     "end_time": "2021-03-23T04:25:53.351694Z",
     "start_time": "2021-03-23T04:25:50.632735Z"
    }
   },
   "outputs": [
    {
     "name": "stdout",
     "output_type": "stream",
     "text": [
      "4\n",
      "3\n",
      "[0, 1, 2, 3, 4]\n",
      "4\n",
      "1\n",
      "1\n",
      "[0, 0, 2, 3, 3]\n",
      "3\n"
     ]
    }
   ],
   "source": [
    "# 그래프를 이용한 솔루션\n",
    "def find_parent(parent, x):\n",
    "    if parent[x] != x:\n",
    "        parent[x] = find_parent(parent, parent[x])\n",
    "    return x\n",
    "\n",
    "def union_parent(parent, a, b):\n",
    "    a = find_parent(parent, a)\n",
    "    b = find_parent(parent, b)\n",
    "    if a < b:\n",
    "        parent[b] = a\n",
    "    else:\n",
    "        parent[a] = b\n",
    "    \n",
    "\n",
    "g = int(input())\n",
    "p = int(input())\n",
    "parent = [i for i in range(g + 1)]\n",
    "print(parent)\n",
    "\n",
    "result = 0\n",
    "for i in range(p):\n",
    "    data = int(input())\n",
    "\n",
    "    if find_parent(parent, data) == 0:\n",
    "        break\n",
    "    else:\n",
    "        union_parent(parent, data, data-1)\n",
    "        result += 1\n",
    "    \n",
    "print(parent)\n",
    "print(result)"
   ]
  },
  {
   "cell_type": "markdown",
   "metadata": {},
   "source": [
    "1"
   ]
  },
  {
   "cell_type": "markdown",
   "metadata": {},
   "source": [
    "# 정답"
   ]
  },
  {
   "cell_type": "code",
   "execution_count": 8,
   "metadata": {
    "ExecuteTime": {
     "end_time": "2021-03-24T06:28:06.882316Z",
     "start_time": "2021-03-24T06:28:02.896501Z"
    }
   },
   "outputs": [
    {
     "name": "stdout",
     "output_type": "stream",
     "text": [
      "4\n",
      "3\n",
      "4\n",
      "data 4\n",
      "1\n",
      "data 0\n",
      "1\n"
     ]
    }
   ],
   "source": [
    "# 특정 원소가 속한 집합을 찾기\n",
    "def find_parent(parent, x):\n",
    "    # 루트 노드가 아니라면, 루트 노드를 찾을 때까지 재귀적으로 호출\n",
    "    if parent[x] != x:\n",
    "        parent[x] = find_parent(parent, parent[x])\n",
    "    return parent[x]\n",
    "\n",
    "# 두원소가 속한 집합을 찾기\n",
    "def union_parent(parent, a, b):\n",
    "    a = find_parent(parent, a)\n",
    "    b = find_parent(parent, b)\n",
    "    if a < b:\n",
    "        parent[b] = a\n",
    "    else:\n",
    "        parent[a] = b\n",
    "    \n",
    "# 탑승구의 개수 입력받기 \n",
    "g = int(input())\n",
    "# 비행기의 개수 입력받기\n",
    "p = int(input())\n",
    "\n",
    "parent = [0] * (g + 1)\n",
    "\n",
    "# 부모 테이블 상에서, 부모를 자기 자신으로 초기화\n",
    "for i in range(g):\n",
    "    parent[g] = g\n",
    "    \n",
    "result = 0\n",
    "for i in range(p):\n",
    "    data = find_parent(parent, int(input()))\n",
    "    if data == 0:\n",
    "        break\n",
    "    union_parent(parent, data, data-1)\n",
    "    result += 1\n",
    "\n",
    "print(result)"
   ]
  },
  {
   "cell_type": "markdown",
   "metadata": {},
   "source": [
    "# 정리"
   ]
  },
  {
   "cell_type": "markdown",
   "metadata": {},
   "source": [
    "find_parent/ union_parent 특성을 활용한 또다른 예시.\n",
    "연결되다가 최종적으로 0가 연결되게 되면 종료"
   ]
  }
 ],
 "metadata": {
  "kernelspec": {
   "display_name": "Python 3",
   "language": "python",
   "name": "python3"
  },
  "language_info": {
   "codemirror_mode": {
    "name": "ipython",
    "version": 3
   },
   "file_extension": ".py",
   "mimetype": "text/x-python",
   "name": "python",
   "nbconvert_exporter": "python",
   "pygments_lexer": "ipython3",
   "version": "3.7.3"
  }
 },
 "nbformat": 4,
 "nbformat_minor": 4
}
