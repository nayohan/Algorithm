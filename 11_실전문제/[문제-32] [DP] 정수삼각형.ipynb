{
 "cells": [
  {
   "cell_type": "markdown",
   "metadata": {},
   "source": [
    "# 정수삼각형\n",
    "\n",
    "        7\n",
    "       3 8  \n",
    "      8 1 0  \n",
    "     2 7 4 4  \n",
    "    4 5 2 6 5  \n",
    "   \n",
    "위 그림은 크기가 5인 정수 삼각형의 한 모습입니다. 맨 위층 7부터 시작해서 아래에 잇는 수 중 하나를 선택하여 아래층으로 내려올때, 이제까지 선택 된 수의 합이 최대가 되는 경로를 구하는 프로그램을 작성하세요. 아래층에 있는 수는 현재 층에서 선택된 수의 대각선 왼쪽 도는 대각선 오른쪽에 있는 것 중에서만 선택할 수 있습니다.\n",
    "\n",
    "삼각형의 크기는 1이상 500이하입니다. 삼각형을 이루고 있는 각 수는 모두 정수 이며, 그 값의 범위는 0이상 9999이하입니다."
   ]
  },
  {
   "cell_type": "markdown",
   "metadata": {},
   "source": [
    "입력  \n",
    "첫째줄: 삼각형의 크기 n (1 <= n <= 500)  \n",
    "둘째줄: 정수삼각형 숫자\n",
    "\n",
    "입력 예시  \n",
    "5<br>\n",
    "7  \n",
    "3 8  \n",
    "8 1 0   \n",
    "2 7 4 4   \n",
    "4 5 2 6 5  "
   ]
  },
  {
   "cell_type": "markdown",
   "metadata": {},
   "source": [
    "출력  \n",
    "합이 최대가 되는 경로에 있는 수의 합을 출력합니다.\n",
    "\n",
    "\n",
    "출력 예시  \n",
    "30  "
   ]
  },
  {
   "cell_type": "markdown",
   "metadata": {},
   "source": [
    "# 풀이"
   ]
  },
  {
   "cell_type": "code",
   "execution_count": 73,
   "metadata": {
    "ExecuteTime": {
     "end_time": "2021-03-18T14:58:38.646509Z",
     "start_time": "2021-03-18T14:58:38.617195Z"
    }
   },
   "outputs": [
    {
     "name": "stdout",
     "output_type": "stream",
     "text": [
      "[[7, 0], [3, 8, 0], [8, 1, 0, 0], [2, 7, 4, 4, 0], [4, 5, 2, 6, 5, 0]]\n",
      "[[30, 0], [23, 21, 0], [20, 13, 10, 0], [7, 12, 10, 10, 0], [4, 5, 2, 6, 5, 0]]\n",
      "30\n"
     ]
    }
   ],
   "source": [
    "#n = int(input())\n",
    "#data = [list(map(int, input().split())) for _ in range(n)]\n",
    "n = 5\n",
    "data = [[7], [3, 8], [8, 1, 0], [2, 7, 4, 4], [4, 5, 2, 6, 5]]\n",
    "\n",
    "import copy\n",
    "d = copy.deepcopy(data)\n",
    "for i in range(n):\n",
    "    d[i].append(0)\n",
    "\n",
    "\n",
    "print(d)\n",
    "for i in range(n-1, 0, -1):\n",
    "    for j in range(i):\n",
    "        #print(i,j)\n",
    "        d[i-1][j] = d[i-1][j] + max(d[i][j], d[i][j+1])\n",
    "\n",
    "print(d)\n",
    "\n",
    "print(d[0][0])"
   ]
  },
  {
   "cell_type": "code",
   "execution_count": 19,
   "metadata": {
    "ExecuteTime": {
     "end_time": "2021-03-18T14:12:37.994929Z",
     "start_time": "2021-03-18T14:12:37.971870Z"
    }
   },
   "outputs": [
    {
     "name": "stdout",
     "output_type": "stream",
     "text": [
      "8\n"
     ]
    }
   ],
   "source": [
    "print(data[2][0])"
   ]
  },
  {
   "cell_type": "markdown",
   "metadata": {},
   "source": [
    "# 정답"
   ]
  },
  {
   "cell_type": "code",
   "execution_count": 3,
   "metadata": {
    "ExecuteTime": {
     "end_time": "2021-03-24T02:19:16.424526Z",
     "start_time": "2021-03-24T02:19:02.875720Z"
    },
    "scrolled": true
   },
   "outputs": [
    {
     "name": "stdout",
     "output_type": "stream",
     "text": [
      "5\n",
      "7\n",
      "3 8\n",
      "8 1 0\n",
      "2 7 4 4\n",
      "4 5 2 6 5\n",
      "30\n"
     ]
    }
   ],
   "source": [
    "n = int(input())\n",
    "dp = []\n",
    "\n",
    "for _ in range(n):\n",
    "    dp.append(list(map(int, input().split())))\n",
    "\n",
    "# 다이나믹 프로그래밍으로 두번째 줄부터 내려가면서 확인\n",
    "for i in range(1, n):\n",
    "    for j in range(i + 1):\n",
    "        # 왼쪽 위에서 내려오는 경우\n",
    "        if j == 0:\n",
    "            up_left = 0\n",
    "        else:\n",
    "            up_left = dp[i-1][j-1]\n",
    "        # 바로 위에서 내려오는 경우\n",
    "        if j == i:\n",
    "            up = 0\n",
    "        else:\n",
    "            up = dp[i-1][j]\n",
    "        # 최대 합을 저장\n",
    "        dp[i][j] = dp[i][j] + max(up_left, up)\n",
    "    \n",
    "print(max(dp[n-1]))"
   ]
  },
  {
   "cell_type": "markdown",
   "metadata": {},
   "source": [
    "# 정리"
   ]
  },
  {
   "cell_type": "markdown",
   "metadata": {},
   "source": [
    "dp를 만드는 방법은 위에서 차근 차근 더해가는 방법. \n",
    "(밑에서)많은 데이터중 최선의 값을 더해가는 방법\n",
    "두가지 경우 모두 동일함"
   ]
  }
 ],
 "metadata": {
  "kernelspec": {
   "display_name": "Python 3",
   "language": "python",
   "name": "python3"
  },
  "language_info": {
   "codemirror_mode": {
    "name": "ipython",
    "version": 3
   },
   "file_extension": ".py",
   "mimetype": "text/x-python",
   "name": "python",
   "nbconvert_exporter": "python",
   "pygments_lexer": "ipython3",
   "version": "3.7.3"
  }
 },
 "nbformat": 4,
 "nbformat_minor": 4
}
