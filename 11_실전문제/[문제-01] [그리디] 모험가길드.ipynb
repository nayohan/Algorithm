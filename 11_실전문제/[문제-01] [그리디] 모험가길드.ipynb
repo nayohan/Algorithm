{
 "cells": [
  {
   "cell_type": "markdown",
   "metadata": {},
   "source": [
    "# 모험가 길드\n",
    "한 마을에 모험가가 N명 있습니다. 모험가 길드에서는 N명의 모험가 대상으로 '공포도'를 측정했는데, '공포도'가 높은 모험가는 쉽게 공포를 느껴 위험 상황에서 제대로 대처할 능력이 떨어집니다. 모험가 길드장인 동빈이는 모험가 그룹을 안전하게 구성하고자 공포도가 X인 모험가는 반드시 X명 이상으로 구성한 모험가 그룹에 참여해야 여행을 떠날수 있도록 규정했습니다. 동빈이는 최대 몇개의 모험가 그룹을 만들수 있는지 궁금합니다.\n",
    "\n",
    "동빈이를 위해 N명의 모험가에 대한 정보가 주어졌을때, 여행을 떠날 수 있는 그룹 수의 최댓값을 구하는 프로그램을 작성하세요.\n",
    "\n",
    "예를 들어 N=5이고, 각 모험가의 공포도가 다음과 같다고 가정합시다\n",
    "\n",
    "2 3 1 2 2 \n",
    "\n",
    "이때, 그룹 1에 공포도가 1,2,3인 모험가를 한 명씩 넣고, 그룹2에 공포도가 2인 남은 두명을 넣게 되면 총 2개의 그룹을 만들 수 있습니다. 또한 몇 명의 모험가는 마을에 그대로 남아있어도 되기 때문에, 모든 모험가를 특정한 그룹에 넣을 필요는 없습니다."
   ]
  },
  {
   "cell_type": "markdown",
   "metadata": {},
   "source": [
    "입력  \n",
    "첫째줄: 모험가의 수 N (1 <= N <= 100,000)\n",
    "\n",
    "입력 예시  \n",
    "5  \n",
    "2 3 1 2 2  "
   ]
  },
  {
   "cell_type": "markdown",
   "metadata": {},
   "source": [
    "출력  \n",
    "여행을 떠날 수 있는 그룹 수의 최댓값을 출력\n",
    "\n",
    "출력 예시  \n",
    "2"
   ]
  },
  {
   "cell_type": "markdown",
   "metadata": {},
   "source": [
    "# 풀이"
   ]
  },
  {
   "cell_type": "code",
   "execution_count": 16,
   "metadata": {
    "ExecuteTime": {
     "end_time": "2021-03-08T08:41:10.061173Z",
     "start_time": "2021-03-08T08:40:57.312556Z"
    }
   },
   "outputs": [
    {
     "name": "stdout",
     "output_type": "stream",
     "text": [
      "10\n",
      "3 3 2 2 1 2 3 5 4 3\n"
     ]
    }
   ],
   "source": [
    "n = int(input())\n",
    "x_list = list(map(int, input().split()))"
   ]
  },
  {
   "cell_type": "code",
   "execution_count": 18,
   "metadata": {
    "ExecuteTime": {
     "end_time": "2021-03-08T08:41:23.323721Z",
     "start_time": "2021-03-08T08:41:23.301257Z"
    }
   },
   "outputs": [
    {
     "name": "stdout",
     "output_type": "stream",
     "text": [
      "[1, 2, 2, 2, 3, 3, 3, 3, 4, 5]\n"
     ]
    }
   ],
   "source": [
    "x_list = sorted(x_list)\n",
    "print(x_list)"
   ]
  },
  {
   "cell_type": "code",
   "execution_count": 20,
   "metadata": {
    "ExecuteTime": {
     "end_time": "2021-03-08T08:42:04.958076Z",
     "start_time": "2021-03-08T08:42:04.939372Z"
    }
   },
   "outputs": [
    {
     "name": "stdout",
     "output_type": "stream",
     "text": [
      "3\n"
     ]
    }
   ],
   "source": [
    "result = 0\n",
    "group_num = 0\n",
    "\n",
    "for x in x_list:\n",
    "    group_num += 1\n",
    "    group_max = x\n",
    "    \n",
    "    if group_max == group_num:\n",
    "        result += 1\n",
    "        group_num = 0\n",
    "        \n",
    "print(result)"
   ]
  },
  {
   "cell_type": "markdown",
   "metadata": {},
   "source": [
    "# 정답"
   ]
  },
  {
   "cell_type": "code",
   "execution_count": 1,
   "metadata": {
    "ExecuteTime": {
     "end_time": "2021-03-11T13:04:01.705906Z",
     "start_time": "2021-03-11T13:03:56.094959Z"
    },
    "scrolled": true
   },
   "outputs": [
    {
     "name": "stdout",
     "output_type": "stream",
     "text": [
      "10\n",
      "3 3 2 2 1 2 3 5 4 3\n",
      "3\n"
     ]
    }
   ],
   "source": [
    "n = int(input())\n",
    "data = list(map(int, input().split()))\n",
    "data.sort()\n",
    "\n",
    "result = 0\n",
    "count = 0\n",
    "\n",
    "for i in data:\n",
    "    count += 1\n",
    "    if count >= i:\n",
    "        result += 1 \n",
    "        count = 0\n",
    "        \n",
    "print(result)"
   ]
  },
  {
   "cell_type": "markdown",
   "metadata": {},
   "source": [
    "# 정리"
   ]
  },
  {
   "cell_type": "markdown",
   "metadata": {},
   "source": [
    "그리디 가장 좋아 보이는 것을 반복적으로 선택해서 최적의 해를 구하는 방법(동전세기문제)"
   ]
  }
 ],
 "metadata": {
  "kernelspec": {
   "display_name": "Python 3",
   "language": "python",
   "name": "python3"
  },
  "language_info": {
   "codemirror_mode": {
    "name": "ipython",
    "version": 3
   },
   "file_extension": ".py",
   "mimetype": "text/x-python",
   "name": "python",
   "nbconvert_exporter": "python",
   "pygments_lexer": "ipython3",
   "version": "3.7.3"
  }
 },
 "nbformat": 4,
 "nbformat_minor": 4
}
