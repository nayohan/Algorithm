{
 "cells": [
  {
   "cell_type": "markdown",
   "metadata": {},
   "source": [
    "# 안테나\n",
    "\n",
    "일직선상의 마을에 여러 채의 집이 위치해 있습니다. 이 중에서 특정 위치의 집에 특별이 한 개의 안테나를 설치하기로 결정했습니다. 효율성을 위해 안테나로부터 모든 집까지의 거리의 총합이 최소가 되도록 설치하려고 합니다. 이때 안터네는 집이 위치한 곳에만 설치할 수 있고, 논리적으로 동일한 위치에 여러개의 집에 존재하는 것이 가능합니다.\n",
    "\n",
    "집들의 위치값이 주어질 때, 안테나의 설치할 위치를 선택하는 프로그램을 작성하세요.\n",
    "예를 들어 N=4이고, 각 위치가 1, 5, 7, 9일 때를 가정하겠습니다.\n",
    "\n",
    "이 경우 5의 위치에 설치했을 때, 안테나로부터 모든 집까지의 거리의 총합이 (4 + 0 + 2 + 4) = 10으로, 최소가 됩니다."
   ]
  },
  {
   "cell_type": "markdown",
   "metadata": {},
   "source": [
    "입력  \n",
    "첫째줄: 집의 수 N (1 <= N <= 200,000)(자연수)\n",
    "둘째줄: N채의 집 위치 (1 <= 위치 <= 100,000)(자연수)\n",
    "\n",
    "입력 예시  \n",
    "4<br>\n",
    "5 1 7 9"
   ]
  },
  {
   "cell_type": "markdown",
   "metadata": {},
   "source": [
    "출력  \n",
    "첫째줄: 안테나를 설치할 위치의 값 (단, 안테나를 설치할 수 있는 위치값, 여러값일 경우 오름차순\n",
    "\n",
    "출력 예시  \n",
    "5"
   ]
  },
  {
   "cell_type": "markdown",
   "metadata": {},
   "source": [
    "# 풀이"
   ]
  },
  {
   "cell_type": "code",
   "execution_count": 1,
   "metadata": {
    "ExecuteTime": {
     "end_time": "2021-03-23T06:34:02.709336Z",
     "start_time": "2021-03-23T06:34:02.678987Z"
    }
   },
   "outputs": [
    {
     "name": "stdout",
     "output_type": "stream",
     "text": [
      "[1, 5, 7, 9]\n"
     ]
    }
   ],
   "source": [
    "# n = int(input())\n",
    "# data = list(map(int, input().split()))\n",
    "\n",
    "n = 4\n",
    "data = [1,5,7,9]\n",
    "# n = 12\n",
    "# data = [1,100000, 50000, 30000, 30, 99999, 8898, 12345, 33332, 88888, 55555, 1234 ]\n",
    "# n = 13\n",
    "# data = [1, 2, 3, 30000, 30, 99999, 8890, 12345, 33332, 88888, 55555, 1234, 63030]\n",
    "\n",
    "data.sort()\n",
    "print(data)"
   ]
  },
  {
   "cell_type": "code",
   "execution_count": 2,
   "metadata": {
    "ExecuteTime": {
     "end_time": "2021-03-23T06:34:03.142531Z",
     "start_time": "2021-03-23T06:34:03.097086Z"
    }
   },
   "outputs": [
    {
     "name": "stdout",
     "output_type": "stream",
     "text": [
      "5 "
     ]
    }
   ],
   "source": [
    "# 전체탐색 방법 + 시간 제한 초과풀이\n",
    "start = min(data)\n",
    "end  = max(data)\n",
    "least_dist = 1e9\n",
    "result_dic = {}\n",
    "\n",
    "# 안테나 설치 최소거리를 찾기\n",
    "for i in range(start, end+1):\n",
    "    now = sum([abs(i - d) for d in data]) # 거리 계산\n",
    "    result_dic[i]=now\n",
    "    \n",
    "    if now <= least_dist: # 현재가 더작으면 least_dist 업데이트\n",
    "        least_dist = min(least_dist, now)\n",
    "        \n",
    "\n",
    "# 최소거리와 같은 값을 찾아서 출력\n",
    "for key, value in result_dic.items():\n",
    "    if value == least_dist:\n",
    "        print(key, end=' ')\n",
    "        break\n",
    "#print(result_dic)"
   ]
  },
  {
   "cell_type": "code",
   "execution_count": 3,
   "metadata": {
    "ExecuteTime": {
     "end_time": "2021-03-23T06:34:04.248117Z",
     "start_time": "2021-03-23T06:34:04.200155Z"
    },
    "scrolled": false
   },
   "outputs": [
    {
     "name": "stdout",
     "output_type": "stream",
     "text": [
      "5 "
     ]
    }
   ],
   "source": [
    "# 전체탐색 방법 + 중간값범위\n",
    "mid = n // 2\n",
    "start = data[mid-1]\n",
    "end  = data[mid]\n",
    "least_dist = 1e9\n",
    "result_dic = {}\n",
    "\n",
    "# 안테나 설치 최소거리를 찾기\n",
    "for i in range(start, end+1):\n",
    "    \n",
    "    now = sum([abs(i - d) for d in data]) # 거리 계산\n",
    "    #print(start,end, now)\n",
    "    result_dic[i]=now\n",
    "    if now <= least_dist: # 현재가 더작으면 least_dist 업데이트\n",
    "        least_dist = min(least_dist, now)\n",
    "        \n",
    "#print(result_dic)\n",
    "# 최소거리와 같은 값을 찾아서 출력\n",
    "for key, value in result_dic.items():\n",
    "    if value == least_dist:\n",
    "        print(key, end=' ')\n",
    "        break"
   ]
  },
  {
   "cell_type": "code",
   "execution_count": 4,
   "metadata": {
    "ExecuteTime": {
     "end_time": "2021-03-23T06:34:07.644971Z",
     "start_time": "2021-03-23T06:34:07.560486Z"
    },
    "scrolled": true
   },
   "outputs": [
    {
     "name": "stdout",
     "output_type": "stream",
     "text": [
      "0 1 3\n",
      "d 18 10 14\n",
      "0 0 1\n",
      "d 18 18 10\n",
      "1 1 1\n",
      "d 10 10 10\n",
      "5\n"
     ]
    }
   ],
   "source": [
    "# 이진탐색 + 중간값범위\n",
    "mid = n // 2\n",
    "start = 0\n",
    "end  = n-1\n",
    "\n",
    "\n",
    "result_dict = {}\n",
    "\n",
    "# 안테나 설치 최소거리를 찾아주는 함수\n",
    "def calc_distance(i):\n",
    "    return sum([abs(i - d) for d in data])\n",
    "\n",
    "# 중간값 범위 이진탐색\n",
    "\n",
    "while start <= end:\n",
    "    mid = (start+end)//2\n",
    "    print(start,mid, end)\n",
    "    \n",
    "    s_dist = calc_distance(data[start])\n",
    "    m_dist = calc_distance(data[mid])\n",
    "    e_dist = calc_distance(data[end])\n",
    "    \n",
    "    print('d', s_dist,m_dist, e_dist)\n",
    "    result_dict[start] = s_dist\n",
    "    result_dict[end] = e_dist\n",
    "    \n",
    "    if s_dist == e_dist:\n",
    "        mid = start\n",
    "        break\n",
    "        \n",
    "    if m_dist < s_dist:\n",
    "        end = mid\n",
    "        \n",
    "    elif m_dist < e_dist:\n",
    "        start = mid\n",
    "        \n",
    "    elif s_dist < e_dist:\n",
    "        end = mid - 1\n",
    "    else:\n",
    "        start = mid + 1\n",
    "\n",
    "print(data[mid])    \n",
    "#print(result_dict)"
   ]
  },
  {
   "cell_type": "markdown",
   "metadata": {},
   "source": [
    "# 정답"
   ]
  },
  {
   "cell_type": "code",
   "execution_count": 5,
   "metadata": {
    "ExecuteTime": {
     "end_time": "2021-03-23T06:34:09.948121Z",
     "start_time": "2021-03-23T06:34:09.919445Z"
    }
   },
   "outputs": [
    {
     "name": "stdout",
     "output_type": "stream",
     "text": [
      "2\n"
     ]
    }
   ],
   "source": [
    "n = 4\n",
    "data = [1,2,8,9]\n",
    "\n",
    "data.sort()\n",
    "print(data[n//2-1])"
   ]
  },
  {
   "cell_type": "markdown",
   "metadata": {},
   "source": [
    "# 정리"
   ]
  },
  {
   "cell_type": "markdown",
   "metadata": {},
   "source": []
  }
 ],
 "metadata": {
  "kernelspec": {
   "display_name": "Python 3",
   "language": "python",
   "name": "python3"
  },
  "language_info": {
   "codemirror_mode": {
    "name": "ipython",
    "version": 3
   },
   "file_extension": ".py",
   "mimetype": "text/x-python",
   "name": "python",
   "nbconvert_exporter": "python",
   "pygments_lexer": "ipython3",
   "version": "3.7.3"
  }
 },
 "nbformat": 4,
 "nbformat_minor": 4
}
